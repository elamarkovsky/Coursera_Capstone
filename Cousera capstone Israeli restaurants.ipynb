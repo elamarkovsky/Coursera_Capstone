{
 "cells": [
  {
   "cell_type": "markdown",
   "metadata": {},
   "source": [
    "# Analysis of Israeli Restaurants in New York City "
   ]
  },
  {
   "cell_type": "markdown",
   "metadata": {},
   "source": [
    "### 1. Install all the libraries"
   ]
  },
  {
   "cell_type": "code",
   "execution_count": 1,
   "metadata": {},
   "outputs": [],
   "source": [
    "import pandas as pd\n",
    "import numpy as np\n",
    "import json # library to handle JSON files\n",
    "\n",
    "import requests # library to handle requests\n",
    "from pandas.io.json import json_normalize # tranform JSON file into a pandas dataframe\n",
    "\n",
    "# Matplotlib and associated plotting modules\n",
    "import matplotlib.cm as cm\n",
    "import matplotlib.colors as colors\n",
    "import matplotlib.pyplot as plt"
   ]
  },
  {
   "cell_type": "code",
   "execution_count": 2,
   "metadata": {},
   "outputs": [
    {
     "name": "stdout",
     "output_type": "stream",
     "text": [
      "Collecting package metadata (repodata.json): ...working... done\n",
      "Solving environment: ...working... done\n",
      "\n",
      "# All requested packages already installed.\n",
      "\n",
      "Collecting package metadata (repodata.json): ...working... done\n",
      "Solving environment: ...working... done\n",
      "\n",
      "# All requested packages already installed.\n",
      "\n"
     ]
    }
   ],
   "source": [
    "!conda install -c conda-forge geopy --yes \n",
    "from geopy.geocoders import Nominatim\n",
    "!conda install -c conda-forge folium=0.5.0 --yes \n",
    "import folium\n",
    "import urllib, json"
   ]
  },
  {
   "cell_type": "markdown",
   "metadata": {},
   "source": [
    "### 2. Get data on Israeli restaurants in New York from Foursquare"
   ]
  },
  {
   "cell_type": "code",
   "execution_count": 3,
   "metadata": {},
   "outputs": [],
   "source": [
    "CLIENT_ID = 'ADGZI2EDUVQ5KWEC2CR3J4P1AFWGPFGMDEPPRWRLAWWYZMOW' # my Foursquare ID\n",
    "CLIENT_SECRET = '5H3CTSKCDIY2UJTZUWDEEMD5WCAGMK30KS2AHO0XMF15VXMG' # my Foursquare Secret\n",
    "VERSION = '20180605'"
   ]
  },
  {
   "cell_type": "code",
   "execution_count": 4,
   "metadata": {},
   "outputs": [
    {
     "data": {
      "text/plain": [
       "'https://api.foursquare.com/v2/venues/explore?&client_id=ADGZI2EDUVQ5KWEC2CR3J4P1AFWGPFGMDEPPRWRLAWWYZMOW&client_secret=5H3CTSKCDIY2UJTZUWDEEMD5WCAGMK30KS2AHO0XMF15VXMG&query=Israeli&v=20180605&ll=40.7128,-74.006&radius=15000&limit=200'"
      ]
     },
     "execution_count": 4,
     "metadata": {},
     "output_type": "execute_result"
    }
   ],
   "source": [
    "radius = 15000\n",
    "limit=200\n",
    "latitude=40.7128\n",
    "longitude=-74.0060\n",
    "url = 'https://api.foursquare.com/v2/venues/explore?&client_id={}&client_secret={}&query={}&v={}&ll={},{}&radius={}&limit={}'.format(\n",
    "    CLIENT_ID, \n",
    "    CLIENT_SECRET,\n",
    "    \"Israeli\",\n",
    "    VERSION, \n",
    "    latitude, \n",
    "    longitude, \n",
    "    radius, \n",
    "    limit)\n",
    "url"
   ]
  },
  {
   "cell_type": "code",
   "execution_count": 5,
   "metadata": {},
   "outputs": [],
   "source": [
    "results = requests.get(url).json()\n",
    "venues = results['response']['groups'][0]['items']\n",
    "israeli_venues=json_normalize(venues)\n",
    "filtered_columns = ['venue.name', 'venue.location.postalCode', 'venue.location.lat', 'venue.location.lng', 'venue.id']\n",
    "israeli_venues = israeli_venues.loc[:, filtered_columns]\n",
    "israeli_venues=israeli_venues.rename(columns={\"venue.name\":\"Name\", \"venue.location.postalCode\":\"Zipcode\", \"venue.location.lat\":\"Latitude\", \"venue.location.lng\":\"Longitude\", \"venue.id\":\"ID\"})\n",
    "israeli_venues.dropna(inplace=True)"
   ]
  },
  {
   "cell_type": "markdown",
   "metadata": {},
   "source": [
    "Find and rename duplicates (when two locations exist with the same name)"
   ]
  },
  {
   "cell_type": "code",
   "execution_count": 6,
   "metadata": {},
   "outputs": [
    {
     "name": "stderr",
     "output_type": "stream",
     "text": [
      "C:\\Users\\elama\\Anaconda3\\lib\\site-packages\\ipykernel_launcher.py:2: SettingWithCopyWarning: \n",
      "A value is trying to be set on a copy of a slice from a DataFrame.\n",
      "Try using .loc[row_indexer,col_indexer] = value instead\n",
      "\n",
      "See the caveats in the documentation: http://pandas.pydata.org/pandas-docs/stable/indexing.html#indexing-view-versus-copy\n",
      "  \n"
     ]
    },
    {
     "data": {
      "text/html": [
       "<div>\n",
       "<style scoped>\n",
       "    .dataframe tbody tr th:only-of-type {\n",
       "        vertical-align: middle;\n",
       "    }\n",
       "\n",
       "    .dataframe tbody tr th {\n",
       "        vertical-align: top;\n",
       "    }\n",
       "\n",
       "    .dataframe thead th {\n",
       "        text-align: right;\n",
       "    }\n",
       "</style>\n",
       "<table border=\"1\" class=\"dataframe\">\n",
       "  <thead>\n",
       "    <tr style=\"text-align: right;\">\n",
       "      <th></th>\n",
       "      <th>Name</th>\n",
       "      <th>Zipcode</th>\n",
       "      <th>Latitude</th>\n",
       "      <th>Longitude</th>\n",
       "      <th>ID</th>\n",
       "    </tr>\n",
       "  </thead>\n",
       "  <tbody>\n",
       "    <tr>\n",
       "      <th>13</th>\n",
       "      <td>12 Chairs 1</td>\n",
       "      <td>11249</td>\n",
       "      <td>40.714384</td>\n",
       "      <td>-73.965148</td>\n",
       "      <td>54df9be0498e8ba3ab1d01fb</td>\n",
       "    </tr>\n",
       "    <tr>\n",
       "      <th>29</th>\n",
       "      <td>Jack's Wife Freda 1</td>\n",
       "      <td>10014</td>\n",
       "      <td>40.729999</td>\n",
       "      <td>-74.003584</td>\n",
       "      <td>549430f6498edcbb09ab35c0</td>\n",
       "    </tr>\n",
       "    <tr>\n",
       "      <th>31</th>\n",
       "      <td>The Hummus &amp; Pita Co 1</td>\n",
       "      <td>10011</td>\n",
       "      <td>40.739269</td>\n",
       "      <td>-73.995493</td>\n",
       "      <td>4f331c5ce4b05255bdf07d27</td>\n",
       "    </tr>\n",
       "    <tr>\n",
       "      <th>32</th>\n",
       "      <td>Taïm 1</td>\n",
       "      <td>10010</td>\n",
       "      <td>40.742256</td>\n",
       "      <td>-73.993144</td>\n",
       "      <td>5bf34fca018cbb002c99be4a</td>\n",
       "    </tr>\n",
       "    <tr>\n",
       "      <th>59</th>\n",
       "      <td>Hummus Kitchen 1</td>\n",
       "      <td>10028</td>\n",
       "      <td>40.776372</td>\n",
       "      <td>-73.952828</td>\n",
       "      <td>4a355b56f964a520dc9c1fe3</td>\n",
       "    </tr>\n",
       "    <tr>\n",
       "      <th>75</th>\n",
       "      <td>Olympic Pita 1</td>\n",
       "      <td>11230</td>\n",
       "      <td>40.622961</td>\n",
       "      <td>-73.964749</td>\n",
       "      <td>4a28b33cf964a5204c951fe3</td>\n",
       "    </tr>\n",
       "  </tbody>\n",
       "</table>\n",
       "</div>"
      ],
      "text/plain": [
       "                      Name Zipcode   Latitude  Longitude  \\\n",
       "13             12 Chairs 1   11249  40.714384 -73.965148   \n",
       "29     Jack's Wife Freda 1   10014  40.729999 -74.003584   \n",
       "31  The Hummus & Pita Co 1   10011  40.739269 -73.995493   \n",
       "32                  Taïm 1   10010  40.742256 -73.993144   \n",
       "59        Hummus Kitchen 1   10028  40.776372 -73.952828   \n",
       "75          Olympic Pita 1   11230  40.622961 -73.964749   \n",
       "\n",
       "                          ID  \n",
       "13  54df9be0498e8ba3ab1d01fb  \n",
       "29  549430f6498edcbb09ab35c0  \n",
       "31  4f331c5ce4b05255bdf07d27  \n",
       "32  5bf34fca018cbb002c99be4a  \n",
       "59  4a355b56f964a520dc9c1fe3  \n",
       "75  4a28b33cf964a5204c951fe3  "
      ]
     },
     "execution_count": 6,
     "metadata": {},
     "output_type": "execute_result"
    }
   ],
   "source": [
    "dup = israeli_venues[israeli_venues.duplicated(\"Name\")]\n",
    "dup[\"Name\"] = dup[\"Name\"] + \" 1\"\n",
    "dup"
   ]
  },
  {
   "cell_type": "code",
   "execution_count": 7,
   "metadata": {},
   "outputs": [],
   "source": [
    "israeli_venues2 = israeli_venues.drop_duplicates(\"Name\")\n",
    "israeli_venues = israeli_venues2.append(dup)\n",
    "israeli_venues = israeli_venues.reset_index(drop=True)"
   ]
  },
  {
   "cell_type": "code",
   "execution_count": 8,
   "metadata": {},
   "outputs": [
    {
     "data": {
      "text/html": [
       "<div>\n",
       "<style scoped>\n",
       "    .dataframe tbody tr th:only-of-type {\n",
       "        vertical-align: middle;\n",
       "    }\n",
       "\n",
       "    .dataframe tbody tr th {\n",
       "        vertical-align: top;\n",
       "    }\n",
       "\n",
       "    .dataframe thead th {\n",
       "        text-align: right;\n",
       "    }\n",
       "</style>\n",
       "<table border=\"1\" class=\"dataframe\">\n",
       "  <thead>\n",
       "    <tr style=\"text-align: right;\">\n",
       "      <th></th>\n",
       "      <th>Name</th>\n",
       "      <th>Zipcode</th>\n",
       "      <th>Latitude</th>\n",
       "      <th>Longitude</th>\n",
       "      <th>ID</th>\n",
       "    </tr>\n",
       "  </thead>\n",
       "  <tbody>\n",
       "    <tr>\n",
       "      <th>78</th>\n",
       "      <td>Alenbi Kitchen</td>\n",
       "      <td>11225</td>\n",
       "      <td>40.666392</td>\n",
       "      <td>-73.950696</td>\n",
       "      <td>59ee92dbe7a23778c5d660fb</td>\n",
       "    </tr>\n",
       "    <tr>\n",
       "      <th>79</th>\n",
       "      <td>Zion Kosher Market (ציון)</td>\n",
       "      <td>11218</td>\n",
       "      <td>40.641111</td>\n",
       "      <td>-73.985600</td>\n",
       "      <td>4bd5f36a4e32d13a47cac180</td>\n",
       "    </tr>\n",
       "    <tr>\n",
       "      <th>80</th>\n",
       "      <td>Flora Cafe</td>\n",
       "      <td>07114</td>\n",
       "      <td>40.697579</td>\n",
       "      <td>-74.175022</td>\n",
       "      <td>549464b1498e855d5f4f64a0</td>\n",
       "    </tr>\n",
       "    <tr>\n",
       "      <th>81</th>\n",
       "      <td>Sunflower Cafe - Brooklyn</td>\n",
       "      <td>11229</td>\n",
       "      <td>40.608049</td>\n",
       "      <td>-73.960099</td>\n",
       "      <td>4562f9fdf964a520a13d1fe3</td>\n",
       "    </tr>\n",
       "    <tr>\n",
       "      <th>82</th>\n",
       "      <td>12 Chairs 1</td>\n",
       "      <td>11249</td>\n",
       "      <td>40.714384</td>\n",
       "      <td>-73.965148</td>\n",
       "      <td>54df9be0498e8ba3ab1d01fb</td>\n",
       "    </tr>\n",
       "    <tr>\n",
       "      <th>83</th>\n",
       "      <td>Jack's Wife Freda 1</td>\n",
       "      <td>10014</td>\n",
       "      <td>40.729999</td>\n",
       "      <td>-74.003584</td>\n",
       "      <td>549430f6498edcbb09ab35c0</td>\n",
       "    </tr>\n",
       "    <tr>\n",
       "      <th>84</th>\n",
       "      <td>The Hummus &amp; Pita Co 1</td>\n",
       "      <td>10011</td>\n",
       "      <td>40.739269</td>\n",
       "      <td>-73.995493</td>\n",
       "      <td>4f331c5ce4b05255bdf07d27</td>\n",
       "    </tr>\n",
       "    <tr>\n",
       "      <th>85</th>\n",
       "      <td>Taïm 1</td>\n",
       "      <td>10010</td>\n",
       "      <td>40.742256</td>\n",
       "      <td>-73.993144</td>\n",
       "      <td>5bf34fca018cbb002c99be4a</td>\n",
       "    </tr>\n",
       "    <tr>\n",
       "      <th>86</th>\n",
       "      <td>Hummus Kitchen 1</td>\n",
       "      <td>10028</td>\n",
       "      <td>40.776372</td>\n",
       "      <td>-73.952828</td>\n",
       "      <td>4a355b56f964a520dc9c1fe3</td>\n",
       "    </tr>\n",
       "    <tr>\n",
       "      <th>87</th>\n",
       "      <td>Olympic Pita 1</td>\n",
       "      <td>11230</td>\n",
       "      <td>40.622961</td>\n",
       "      <td>-73.964749</td>\n",
       "      <td>4a28b33cf964a5204c951fe3</td>\n",
       "    </tr>\n",
       "  </tbody>\n",
       "</table>\n",
       "</div>"
      ],
      "text/plain": [
       "                         Name Zipcode   Latitude  Longitude  \\\n",
       "78             Alenbi Kitchen   11225  40.666392 -73.950696   \n",
       "79  Zion Kosher Market (ציון)   11218  40.641111 -73.985600   \n",
       "80                 Flora Cafe   07114  40.697579 -74.175022   \n",
       "81  Sunflower Cafe - Brooklyn   11229  40.608049 -73.960099   \n",
       "82                12 Chairs 1   11249  40.714384 -73.965148   \n",
       "83        Jack's Wife Freda 1   10014  40.729999 -74.003584   \n",
       "84     The Hummus & Pita Co 1   10011  40.739269 -73.995493   \n",
       "85                     Taïm 1   10010  40.742256 -73.993144   \n",
       "86           Hummus Kitchen 1   10028  40.776372 -73.952828   \n",
       "87             Olympic Pita 1   11230  40.622961 -73.964749   \n",
       "\n",
       "                          ID  \n",
       "78  59ee92dbe7a23778c5d660fb  \n",
       "79  4bd5f36a4e32d13a47cac180  \n",
       "80  549464b1498e855d5f4f64a0  \n",
       "81  4562f9fdf964a520a13d1fe3  \n",
       "82  54df9be0498e8ba3ab1d01fb  \n",
       "83  549430f6498edcbb09ab35c0  \n",
       "84  4f331c5ce4b05255bdf07d27  \n",
       "85  5bf34fca018cbb002c99be4a  \n",
       "86  4a355b56f964a520dc9c1fe3  \n",
       "87  4a28b33cf964a5204c951fe3  "
      ]
     },
     "execution_count": 8,
     "metadata": {},
     "output_type": "execute_result"
    }
   ],
   "source": [
    "israeli_venues.tail(10)"
   ]
  },
  {
   "cell_type": "markdown",
   "metadata": {},
   "source": [
    "### 3. Assign borough according to zipcode"
   ]
  },
  {
   "cell_type": "markdown",
   "metadata": {},
   "source": [
    "Get a list of zipcodes for each borough"
   ]
  },
  {
   "cell_type": "code",
   "execution_count": 9,
   "metadata": {},
   "outputs": [
    {
     "data": {
      "text/html": [
       "<div>\n",
       "<style scoped>\n",
       "    .dataframe tbody tr th:only-of-type {\n",
       "        vertical-align: middle;\n",
       "    }\n",
       "\n",
       "    .dataframe tbody tr th {\n",
       "        vertical-align: top;\n",
       "    }\n",
       "\n",
       "    .dataframe thead th {\n",
       "        text-align: right;\n",
       "    }\n",
       "</style>\n",
       "<table border=\"1\" class=\"dataframe\">\n",
       "  <thead>\n",
       "    <tr style=\"text-align: right;\">\n",
       "      <th></th>\n",
       "      <th>Borough</th>\n",
       "      <th>ZIP Codes</th>\n",
       "    </tr>\n",
       "  </thead>\n",
       "  <tbody>\n",
       "    <tr>\n",
       "      <th>0</th>\n",
       "      <td>Bronx</td>\n",
       "      <td>10453, 10457, 10460, 10458, 10467, 10468, 1045...</td>\n",
       "    </tr>\n",
       "    <tr>\n",
       "      <th>1</th>\n",
       "      <td>Brooklyn</td>\n",
       "      <td>11212, 11213, 11216, 11233, 11238, 11209, 1121...</td>\n",
       "    </tr>\n",
       "    <tr>\n",
       "      <th>2</th>\n",
       "      <td>Manhattan</td>\n",
       "      <td>10026, 10027, 10030, 10037, 10039, 10001, 1001...</td>\n",
       "    </tr>\n",
       "    <tr>\n",
       "      <th>3</th>\n",
       "      <td>Queens</td>\n",
       "      <td>11361, 11362, 11363, 11364, 11354, 11355, 1135...</td>\n",
       "    </tr>\n",
       "    <tr>\n",
       "      <th>4</th>\n",
       "      <td>Staten Island</td>\n",
       "      <td>10302, 10303, 10310, 10306, 10307, 10308, 1030...</td>\n",
       "    </tr>\n",
       "  </tbody>\n",
       "</table>\n",
       "</div>"
      ],
      "text/plain": [
       "         Borough                                          ZIP Codes\n",
       "0          Bronx  10453, 10457, 10460, 10458, 10467, 10468, 1045...\n",
       "1       Brooklyn  11212, 11213, 11216, 11233, 11238, 11209, 1121...\n",
       "2      Manhattan  10026, 10027, 10030, 10037, 10039, 10001, 1001...\n",
       "3         Queens  11361, 11362, 11363, 11364, 11354, 11355, 1135...\n",
       "4  Staten Island  10302, 10303, 10310, 10306, 10307, 10308, 1030..."
      ]
     },
     "execution_count": 9,
     "metadata": {},
     "output_type": "execute_result"
    }
   ],
   "source": [
    "zips=pd.read_html(\"https://www.health.ny.gov/statistics/cancer/registry/appendix/neighborhoods.htm\", index_col=None)\n",
    "zips=zips[0]\n",
    "zips=zips.drop(\"Neighborhood\", axis=1)\n",
    "zips = zips.groupby(['Borough'])['ZIP Codes'].apply(', '.join).reset_index()\n",
    "zips.head()"
   ]
  },
  {
   "cell_type": "code",
   "execution_count": 10,
   "metadata": {},
   "outputs": [],
   "source": [
    "Bronx=zips.iat[0, 1]\n",
    "Brooklyn=zips.iat[1, 1]\n",
    "Manhattan=zips.iat[2, 1]\n",
    "Queens=zips.iat[3, 1]\n",
    "StatenIsland=zips.iat[4, 1]"
   ]
  },
  {
   "cell_type": "markdown",
   "metadata": {},
   "source": [
    "Insert a \"Borough\" column"
   ]
  },
  {
   "cell_type": "code",
   "execution_count": 11,
   "metadata": {},
   "outputs": [],
   "source": [
    "israeli_venues[\"Zipcode\"].astype(str)\n",
    "israeli_venues[\"Borough\"]=\"\""
   ]
  },
  {
   "cell_type": "markdown",
   "metadata": {},
   "source": [
    "Assign a borough to each venue according to its zipcode"
   ]
  },
  {
   "cell_type": "code",
   "execution_count": 12,
   "metadata": {},
   "outputs": [],
   "source": [
    "index = 0\n",
    "for venue in israeli_venues[\"Name\"]:\n",
    "    try:\n",
    "        zipcode = israeli_venues.iat[index, 1]\n",
    "    except IndexError:\n",
    "        print(\"Something went wrong\")\n",
    "    index = israeli_venues[israeli_venues[\"Name\"] == venue].index.values.astype(int)[0]\n",
    "    zipcode = israeli_venues.iat[index, 1]\n",
    "    if zipcode in Manhattan:\n",
    "        israeli_venues.at[index,\"Borough\"]=\"Manhattan\"\n",
    "    elif zipcode in Brooklyn:\n",
    "        israeli_venues.at[index,\"Borough\"]=\"Brooklyn\"\n",
    "    elif zipcode in Bronx:\n",
    "        israeli_venues.at[index,\"Borough\"]=\"Bronx\"\n",
    "    elif zipcode in Queens:\n",
    "        israeli_venues.at[index,\"Borough\"]=\"Queens\"\n",
    "    elif zipcode in StatenIsland:\n",
    "        israeli_venues.at[index,\"Borough\"]=\"StatenIsland\"\n",
    "    else:\n",
    "        israeli_venues.at[index,\"Borough\"]=None"
   ]
  },
  {
   "cell_type": "markdown",
   "metadata": {},
   "source": [
    "Drop venues not assigned to any borough"
   ]
  },
  {
   "cell_type": "code",
   "execution_count": 13,
   "metadata": {},
   "outputs": [],
   "source": [
    "israeli_venues = israeli_venues.dropna()"
   ]
  },
  {
   "cell_type": "code",
   "execution_count": 14,
   "metadata": {},
   "outputs": [],
   "source": [
    "israeli_venues = israeli_venues.reset_index(drop=True)"
   ]
  },
  {
   "cell_type": "markdown",
   "metadata": {},
   "source": [
    "Get count of restaurants in each borough"
   ]
  },
  {
   "cell_type": "code",
   "execution_count": 15,
   "metadata": {},
   "outputs": [
    {
     "data": {
      "text/plain": [
       "Manhattan    63\n",
       "Brooklyn     20\n",
       "Queens        2\n",
       "Name: Borough, dtype: int64"
      ]
     },
     "execution_count": 15,
     "metadata": {},
     "output_type": "execute_result"
    }
   ],
   "source": [
    "rest_in_borough = israeli_venues['Borough'].value_counts()\n",
    "rest_in_borough"
   ]
  },
  {
   "cell_type": "code",
   "execution_count": 16,
   "metadata": {},
   "outputs": [],
   "source": [
    "x = list(rest_in_borough.index)\n",
    "y = list(rest_in_borough[:])\n",
    "label = \"Number of Israeli restaurants by borough\""
   ]
  },
  {
   "cell_type": "code",
   "execution_count": 17,
   "metadata": {},
   "outputs": [
    {
     "data": {
      "image/png": "[encoded data removed]",
      "text/plain": [
       "<Figure size 432x288 with 1 Axes>"
      ]
     },
     "metadata": {
      "needs_background": "light"
     },
     "output_type": "display_data"
    }
   ],
   "source": [
    "plt.bar(x, y)\n",
    "plt.title(label)\n",
    "plt.show()"
   ]
  },
  {
   "cell_type": "markdown",
   "metadata": {},
   "source": [
    "### 4. Get venue ratings and number of ratings for each venue"
   ]
  },
  {
   "cell_type": "code",
   "execution_count": 18,
   "metadata": {},
   "outputs": [],
   "source": [
    "israeli_venues[\"Rating\"]=\"\"\n",
    "israeli_venues[\"No. of Ratings\"]=\"\""
   ]
  },
  {
   "cell_type": "markdown",
   "metadata": {},
   "source": [
    "Code not run everytime to avoid multiple premium requests, ratings were received once and stored as a list"
   ]
  },
  {
   "cell_type": "code",
   "execution_count": 19,
   "metadata": {},
   "outputs": [],
   "source": [
    "#for venue_id in israeli_venues[\"ID\"]:\n",
    "#    index = israeli_venues[israeli_venues[\"ID\"] == venue_id].index.values.astype(int)[0]\n",
    "#    url = 'https://api.foursquare.com/v2/venues/{}?client_id={}&client_secret={}&v={}'.format(venue_id, CLIENT_ID, CLIENT_SECRET, VERSION)\n",
    "#    result = requests.get(url).json()\n",
    "#    try:\n",
    "#        print(result['response']['venue']['rating'])\n",
    "#    except:\n",
    "#        israeli_venues.at[index,\"Rating\"] = None\n",
    "#        israeli_venues.at[index,\"No. of Ratings\"] = None\n",
    "#        continue\n",
    "#    israeli_venues.at[index,\"Rating\"]=result['response']['venue']['rating']\n",
    "#    israeli_venues.at[index,\"No. of Ratings\"]=result['response']['venue']['ratingSignals']"
   ]
  },
  {
   "cell_type": "code",
   "execution_count": 25,
   "metadata": {},
   "outputs": [],
   "source": [
    "ratings = [9.0, 8.9, 9.3, 8.7, 8.2, 9.2, 8.7, 8.7, 8.6, 8.6, 8.4, 8.7, 8.6, 8.7, 9.2, 7.7, 8.9, 8.0, 8.5, 9.0, 8.2, 7.8, 8.6, 8.5, 8.8, 7.9, 9.0, 8.4, 9.3, 8.6, 6.9, 8.4, 8.5, 8.6, 6.9, 7.9, 9.0, 7.7, 8.2, 8.3, 8.3, 9.3, 8.2, 6.8, 7.5, 8.6, 7.9, 7.5, 7.7, 8.2, 7.5, 9.1, 8.1, 7.6, 6.5, 8.0, 7.3, 7.2, 6.8, 7.7, 8.0, 6.6, 7.3, None, 8.3, None, 9.0, 6.4, 8.7, 5.9, None, None, None, None, 8.3, None, 7.5, 5.5, None, None, None, 6.0, 8.8, 8.8, 8.3]\n",
    "no_of_ratings = [1214.0, 588.0, 295.0, 223.0, 307.0, 1075.0, 251.0, 826.0, 263.0, 22.0, 117.0, 428.0, 310.0, 2388.0, 114.0, 85.0, 534.0, 19.0, 78.0, 432.0, 119.0, 29.0, 93.0, 910.0, 783.0, 43.0, 358.0, 536.0, 1790.0, 303.0, 21.0, 223.0, 873.0, 74.0, 13.0, 181.0, 420.0, 246.0, 249.0, 41.0, 29.0, 1528.0, 181.0, 29.0, 142.0, 22.0, 295.0, 108.0, 54.0, 256.0, 166, 5726, 512, 59, 178, 97, 166, 59, 37, 190, 389, 23, 154, None, 252, None, 593, 19, 2444, 90, None, None, None, None, 82, None, 355, 42, None, None, None, 33, 42, 1054, 688,]"
   ]
  },
  {
   "cell_type": "code",
   "execution_count": 26,
   "metadata": {},
   "outputs": [],
   "source": [
    "israeli_venues[\"Rating\"] = ratings\n",
    "israeli_venues[\"No. of Ratings\"] = no_of_ratings"
   ]
  },
  {
   "cell_type": "markdown",
   "metadata": {},
   "source": [
    "Drop restaurants without a rating"
   ]
  },
  {
   "cell_type": "code",
   "execution_count": 27,
   "metadata": {},
   "outputs": [],
   "source": [
    "israeli_venues = israeli_venues.dropna()\n",
    "israeli_venues = israeli_venues.reset_index(drop=True)"
   ]
  },
  {
   "cell_type": "markdown",
   "metadata": {},
   "source": [
    "Get average rating and number of ratings of all Israeli restaurants in NYC"
   ]
  },
  {
   "cell_type": "code",
   "execution_count": 41,
   "metadata": {},
   "outputs": [
    {
     "data": {
      "text/plain": [
       "8.110666666666665"
      ]
     },
     "execution_count": 41,
     "metadata": {},
     "output_type": "execute_result"
    }
   ],
   "source": [
    "avg_rating = israeli_venues[\"Rating\"].mean()"
   ]
  },
  {
   "cell_type": "code",
   "execution_count": 42,
   "metadata": {},
   "outputs": [
    {
     "name": "stdout",
     "output_type": "stream",
     "text": [
      "The average rating of all Israeli restaurants in NYC is 8.1\n"
     ]
    }
   ],
   "source": [
    "print(\"The average rating of all Israeli restaurants in NYC is %.1f\" % (avg_rating))"
   ]
  },
  {
   "cell_type": "markdown",
   "metadata": {},
   "source": [
    "Get average rating of restaurants in each borough"
   ]
  },
  {
   "cell_type": "code",
   "execution_count": 30,
   "metadata": {},
   "outputs": [
    {
     "data": {
      "text/html": [
       "<div>\n",
       "<style scoped>\n",
       "    .dataframe tbody tr th:only-of-type {\n",
       "        vertical-align: middle;\n",
       "    }\n",
       "\n",
       "    .dataframe tbody tr th {\n",
       "        vertical-align: top;\n",
       "    }\n",
       "\n",
       "    .dataframe thead th {\n",
       "        text-align: right;\n",
       "    }\n",
       "</style>\n",
       "<table border=\"1\" class=\"dataframe\">\n",
       "  <thead>\n",
       "    <tr style=\"text-align: right;\">\n",
       "      <th></th>\n",
       "      <th>Latitude</th>\n",
       "      <th>Longitude</th>\n",
       "      <th>Rating</th>\n",
       "      <th>No. of Ratings</th>\n",
       "    </tr>\n",
       "    <tr>\n",
       "      <th>Borough</th>\n",
       "      <th></th>\n",
       "      <th></th>\n",
       "      <th></th>\n",
       "      <th></th>\n",
       "    </tr>\n",
       "  </thead>\n",
       "  <tbody>\n",
       "    <tr>\n",
       "      <th>Brooklyn</th>\n",
       "      <td>40.681459</td>\n",
       "      <td>-73.962077</td>\n",
       "      <td>8.093333</td>\n",
       "      <td>507.400000</td>\n",
       "    </tr>\n",
       "    <tr>\n",
       "      <th>Manhattan</th>\n",
       "      <td>40.747758</td>\n",
       "      <td>-73.986635</td>\n",
       "      <td>8.136207</td>\n",
       "      <td>430.086207</td>\n",
       "    </tr>\n",
       "    <tr>\n",
       "      <th>Queens</th>\n",
       "      <td>40.723832</td>\n",
       "      <td>-73.854504</td>\n",
       "      <td>7.500000</td>\n",
       "      <td>206.000000</td>\n",
       "    </tr>\n",
       "  </tbody>\n",
       "</table>\n",
       "</div>"
      ],
      "text/plain": [
       "            Latitude  Longitude    Rating  No. of Ratings\n",
       "Borough                                                  \n",
       "Brooklyn   40.681459 -73.962077  8.093333      507.400000\n",
       "Manhattan  40.747758 -73.986635  8.136207      430.086207\n",
       "Queens     40.723832 -73.854504  7.500000      206.000000"
      ]
     },
     "execution_count": 30,
     "metadata": {},
     "output_type": "execute_result"
    }
   ],
   "source": [
    "avg = israeli_venues.groupby(\"Borough\").mean()\n",
    "avg"
   ]
  },
  {
   "cell_type": "code",
   "execution_count": 31,
   "metadata": {},
   "outputs": [],
   "source": [
    "x = avg.index\n",
    "y1 = avg[\"Rating\"]\n",
    "y2 = avg[\"No. of Ratings\"]"
   ]
  },
  {
   "cell_type": "code",
   "execution_count": 33,
   "metadata": {},
   "outputs": [
    {
     "data": {
      "image/png": "[encoded data removed]",
      "text/plain": [
       "<Figure size 432x288 with 1 Axes>"
      ]
     },
     "metadata": {
      "needs_background": "light"
     },
     "output_type": "display_data"
    }
   ],
   "source": [
    "plt.bar(x, y1)\n",
    "plt.title(\"Ratings of Israeli restaurants by borough\")\n",
    "plt.show()"
   ]
  },
  {
   "cell_type": "code",
   "execution_count": 34,
   "metadata": {},
   "outputs": [
    {
     "data": {
      "image/png": "[encoded data removed]",
      "text/plain": [
       "<Figure size 432x288 with 1 Axes>"
      ]
     },
     "metadata": {
      "needs_background": "light"
     },
     "output_type": "display_data"
    }
   ],
   "source": [
    "plt.bar(x, y2)\n",
    "plt.title(\"Number of ratings of Israeli restaurants by borough\")\n",
    "plt.show()"
   ]
  },
  {
   "cell_type": "markdown",
   "metadata": {},
   "source": [
    "Top 10 rated venues"
   ]
  },
  {
   "cell_type": "code",
   "execution_count": 35,
   "metadata": {},
   "outputs": [],
   "source": [
    "top10 = israeli_venues.sort_values(\"Rating\", ascending = False).head(10)\n",
    "top10 = top10[[\"Name\", \"Rating\"]].reset_index(drop=True)"
   ]
  },
  {
   "cell_type": "code",
   "execution_count": 36,
   "metadata": {},
   "outputs": [
    {
     "data": {
      "text/html": [
       "<div>\n",
       "<style scoped>\n",
       "    .dataframe tbody tr th:only-of-type {\n",
       "        vertical-align: middle;\n",
       "    }\n",
       "\n",
       "    .dataframe tbody tr th {\n",
       "        vertical-align: top;\n",
       "    }\n",
       "\n",
       "    .dataframe thead th {\n",
       "        text-align: right;\n",
       "    }\n",
       "</style>\n",
       "<table border=\"1\" class=\"dataframe\">\n",
       "  <thead>\n",
       "    <tr style=\"text-align: right;\">\n",
       "      <th></th>\n",
       "      <th>Name</th>\n",
       "      <th>Rating</th>\n",
       "    </tr>\n",
       "  </thead>\n",
       "  <tbody>\n",
       "    <tr>\n",
       "      <th>0</th>\n",
       "      <td>12 Chairs</td>\n",
       "      <td>9.3</td>\n",
       "    </tr>\n",
       "    <tr>\n",
       "      <th>1</th>\n",
       "      <td>Ha Salon</td>\n",
       "      <td>9.3</td>\n",
       "    </tr>\n",
       "    <tr>\n",
       "      <th>2</th>\n",
       "      <td>Bite</td>\n",
       "      <td>9.3</td>\n",
       "    </tr>\n",
       "    <tr>\n",
       "      <th>3</th>\n",
       "      <td>Jack's Wife Freda</td>\n",
       "      <td>9.2</td>\n",
       "    </tr>\n",
       "    <tr>\n",
       "      <th>4</th>\n",
       "      <td>Taïm</td>\n",
       "      <td>9.2</td>\n",
       "    </tr>\n",
       "    <tr>\n",
       "      <th>5</th>\n",
       "      <td>Katz's Delicatessen</td>\n",
       "      <td>9.1</td>\n",
       "    </tr>\n",
       "    <tr>\n",
       "      <th>6</th>\n",
       "      <td>Taïm Falafel and Smoothie Bar</td>\n",
       "      <td>9.0</td>\n",
       "    </tr>\n",
       "    <tr>\n",
       "      <th>7</th>\n",
       "      <td>Mezetto</td>\n",
       "      <td>9.0</td>\n",
       "    </tr>\n",
       "    <tr>\n",
       "      <th>8</th>\n",
       "      <td>Oasis</td>\n",
       "      <td>9.0</td>\n",
       "    </tr>\n",
       "    <tr>\n",
       "      <th>9</th>\n",
       "      <td>Wrapido</td>\n",
       "      <td>9.0</td>\n",
       "    </tr>\n",
       "  </tbody>\n",
       "</table>\n",
       "</div>"
      ],
      "text/plain": [
       "                            Name  Rating\n",
       "0                      12 Chairs     9.3\n",
       "1                       Ha Salon     9.3\n",
       "2                           Bite     9.3\n",
       "3              Jack's Wife Freda     9.2\n",
       "4                           Taïm     9.2\n",
       "5            Katz's Delicatessen     9.1\n",
       "6  Taïm Falafel and Smoothie Bar     9.0\n",
       "7                        Mezetto     9.0\n",
       "8                          Oasis     9.0\n",
       "9                        Wrapido     9.0"
      ]
     },
     "execution_count": 36,
     "metadata": {},
     "output_type": "execute_result"
    }
   ],
   "source": [
    "top10"
   ]
  },
  {
   "cell_type": "markdown",
   "metadata": {},
   "source": [
    "Map of NYC with Israeli restaurants marked with color-coded markers"
   ]
  },
  {
   "cell_type": "code",
   "execution_count": 37,
   "metadata": {},
   "outputs": [],
   "source": [
    "# assign color to markers according to rating\n",
    "def get_color(rating):\n",
    "    if rating >= 9.0:\n",
    "        color = \"red\"\n",
    "    elif rating < 9.0 and rating >=8.0:\n",
    "        color = \"orange\"\n",
    "    elif rating < 8.0 and rating >=7.0:\n",
    "        color = \"yellow\"\n",
    "    elif rating < 7.0 and rating >=6.0:\n",
    "        color = \"green\"\n",
    "    elif rating < 6.0:\n",
    "        color = \"blue\"\n",
    "    return color"
   ]
  },
  {
   "cell_type": "code",
   "execution_count": 38,
   "metadata": {},
   "outputs": [
    {
     "data": {
      "text/html": [
       "<div style=\"width:100%;\"><div style=\"position:relative;width:100%;height:0;padding-bottom:60%;\"><iframe src=\"data:text/html;charset=utf-8;base64,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\" style=\"position:absolute;width:100%;height:100%;left:0;top:0;border:none !important;\" allowfullscreen webkitallowfullscreen mozallowfullscreen></iframe></div></div>"
      ],
      "text/plain": [
       "<folium.folium.Map at 0x2669594b710>"
      ]
     },
     "execution_count": 38,
     "metadata": {},
     "output_type": "execute_result"
    }
   ],
   "source": [
    "latitude=40.7128\n",
    "longitude=-74.0060\n",
    "map_newyork = folium.Map(location=[latitude, longitude], zoom_start=11)\n",
    "# add markers to map\n",
    "for lat, lng, name, rating in zip(israeli_venues['Latitude'], israeli_venues['Longitude'], israeli_venues['Name'], israeli_venues['Rating']):\n",
    "    label = '{}, {}'.format(name, rating)\n",
    "    label = folium.Popup(label, parse_html=True)\n",
    "    folium.CircleMarker(\n",
    "        [lat, lng],\n",
    "        radius=5,\n",
    "        popup=label,\n",
    "        color=get_color(rating),\n",
    "        fill=True,\n",
    "        fill_color=get_color(rating),\n",
    "        fill_opacity=0.7,\n",
    "        parse_html=False).add_to(map_newyork)  \n",
    "map_newyork"
   ]
  },
  {
   "cell_type": "code",
   "execution_count": null,
   "metadata": {},
   "outputs": [],
   "source": []
  }
 ],
 "metadata": {
  "kernelspec": {
   "display_name": "Python 3",
   "language": "python",
   "name": "python3"
  },
  "language_info": {
   "codemirror_mode": {
    "name": "ipython",
    "version": 3
   },
   "file_extension": ".py",
   "mimetype": "text/x-python",
   "name": "python",
   "nbconvert_exporter": "python",
   "pygments_lexer": "ipython3",
   "version": "3.7.3"
  }
 },
 "nbformat": 4,
 "nbformat_minor": 2
}
