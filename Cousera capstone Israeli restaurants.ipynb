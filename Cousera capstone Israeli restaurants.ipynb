{
 "cells": [
  {
   "cell_type": "markdown",
   "metadata": {},
   "source": [
    "# Analysis of Israeli Restaurants in New York City "
   ]
  },
  {
   "cell_type": "markdown",
   "metadata": {},
   "source": [
    "### 1. Install all the libraries"
   ]
  },
  {
   "cell_type": "code",
   "execution_count": 1,
   "metadata": {},
   "outputs": [],
   "source": [
    "import pandas as pd\n",
    "import numpy as np\n",
    "import json # library to handle JSON files\n",
    "\n",
    "import requests # library to handle requests\n",
    "from pandas.io.json import json_normalize # tranform JSON file into a pandas dataframe\n",
    "\n",
    "# Matplotlib and associated plotting modules\n",
    "import matplotlib.cm as cm\n",
    "import matplotlib.colors as colors\n",
    "import matplotlib.pyplot as plt"
   ]
  },
  {
   "cell_type": "code",
   "execution_count": 2,
   "metadata": {},
   "outputs": [
    {
     "name": "stdout",
     "output_type": "stream",
     "text": [
      "Collecting package metadata (repodata.json): ...working... done\n",
      "Solving environment: ...working... done\n",
      "\n",
      "# All requested packages already installed.\n",
      "\n",
      "Collecting package metadata (repodata.json): ...working... done\n",
      "Solving environment: ...working... done\n",
      "\n",
      "# All requested packages already installed.\n",
      "\n"
     ]
    }
   ],
   "source": [
    "!conda install -c conda-forge geopy --yes \n",
    "from geopy.geocoders import Nominatim\n",
    "!conda install -c conda-forge folium=0.5.0 --yes \n",
    "import folium\n",
    "import urllib, json"
   ]
  },
  {
   "cell_type": "markdown",
   "metadata": {},
   "source": [
    "### 2. Get data on Israeli restaurants in New York from Foursquare"
   ]
  },
  {
   "cell_type": "code",
   "execution_count": 4,
   "metadata": {},
   "outputs": [],
   "source": [
    "CLIENT_ID = 'ADGZI2EDUVQ5KWEC2CR3J4P1AFWGPFGMDEPPRWRLAWWYZMOW' # my Foursquare ID\n",
    "CLIENT_SECRET = '5H3CTSKCDIY2UJTZUWDEEMD5WCAGMK30KS2AHO0XMF15VXMG' # my Foursquare Secret\n",
    "VERSION = '20180605'"
   ]
  },
  {
   "cell_type": "code",
   "execution_count": 5,
   "metadata": {},
   "outputs": [
    {
     "data": {
      "text/plain": [
       "'https://api.foursquare.com/v2/venues/explore?&client_id=ADGZI2EDUVQ5KWEC2CR3J4P1AFWGPFGMDEPPRWRLAWWYZMOW&client_secret=5H3CTSKCDIY2UJTZUWDEEMD5WCAGMK30KS2AHO0XMF15VXMG&query=Israeli&v=20180605&ll=40.7128,-74.006&radius=15000&limit=200'"
      ]
     },
     "execution_count": 5,
     "metadata": {},
     "output_type": "execute_result"
    }
   ],
   "source": [
    "radius = 15000\n",
    "limit=200\n",
    "latitude=40.7128\n",
    "longitude=-74.0060\n",
    "url = 'https://api.foursquare.com/v2/venues/explore?&client_id={}&client_secret={}&query={}&v={}&ll={},{}&radius={}&limit={}'.format(\n",
    "    CLIENT_ID, \n",
    "    CLIENT_SECRET,\n",
    "    \"Israeli\",\n",
    "    VERSION, \n",
    "    latitude, \n",
    "    longitude, \n",
    "    radius, \n",
    "    limit)\n",
    "url"
   ]
  },
  {
   "cell_type": "code",
   "execution_count": 75,
   "metadata": {},
   "outputs": [],
   "source": [
    "results = requests.get(url).json()\n",
    "venues = results['response']['groups'][0]['items']\n",
    "israeli_venues=json_normalize(venues)\n",
    "filtered_columns = ['venue.name', 'venue.location.postalCode', 'venue.location.lat', 'venue.location.lng', 'venue.id']\n",
    "israeli_venues = israeli_venues.loc[:, filtered_columns]\n",
    "israeli_venues=israeli_venues.rename(columns={\"venue.name\":\"Name\", \"venue.location.postalCode\":\"Zipcode\", \"venue.location.lat\":\"Latitude\", \"venue.location.lng\":\"Longitude\", \"venue.id\":\"ID\"})\n",
    "israeli_venues.dropna(inplace=True)"
   ]
  },
  {
   "cell_type": "markdown",
   "metadata": {},
   "source": [
    "Find and rename duplicates (when two locations exist with the same name)"
   ]
  },
  {
   "cell_type": "code",
   "execution_count": 76,
   "metadata": {},
   "outputs": [
    {
     "name": "stderr",
     "output_type": "stream",
     "text": [
      "C:\\Users\\elama\\Anaconda3\\lib\\site-packages\\ipykernel_launcher.py:2: SettingWithCopyWarning: \n",
      "A value is trying to be set on a copy of a slice from a DataFrame.\n",
      "Try using .loc[row_indexer,col_indexer] = value instead\n",
      "\n",
      "See the caveats in the documentation: http://pandas.pydata.org/pandas-docs/stable/indexing.html#indexing-view-versus-copy\n",
      "  \n"
     ]
    },
    {
     "data": {
      "text/html": [
       "<div>\n",
       "<style scoped>\n",
       "    .dataframe tbody tr th:only-of-type {\n",
       "        vertical-align: middle;\n",
       "    }\n",
       "\n",
       "    .dataframe tbody tr th {\n",
       "        vertical-align: top;\n",
       "    }\n",
       "\n",
       "    .dataframe thead th {\n",
       "        text-align: right;\n",
       "    }\n",
       "</style>\n",
       "<table border=\"1\" class=\"dataframe\">\n",
       "  <thead>\n",
       "    <tr style=\"text-align: right;\">\n",
       "      <th></th>\n",
       "      <th>Name</th>\n",
       "      <th>Zipcode</th>\n",
       "      <th>Latitude</th>\n",
       "      <th>Longitude</th>\n",
       "      <th>ID</th>\n",
       "    </tr>\n",
       "  </thead>\n",
       "  <tbody>\n",
       "    <tr>\n",
       "      <th>13</th>\n",
       "      <td>12 Chairs 1</td>\n",
       "      <td>11249</td>\n",
       "      <td>40.714384</td>\n",
       "      <td>-73.965148</td>\n",
       "      <td>54df9be0498e8ba3ab1d01fb</td>\n",
       "    </tr>\n",
       "    <tr>\n",
       "      <th>28</th>\n",
       "      <td>Taïm 1</td>\n",
       "      <td>10010</td>\n",
       "      <td>40.742256</td>\n",
       "      <td>-73.993144</td>\n",
       "      <td>5bf34fca018cbb002c99be4a</td>\n",
       "    </tr>\n",
       "    <tr>\n",
       "      <th>30</th>\n",
       "      <td>Jack's Wife Freda 1</td>\n",
       "      <td>10014</td>\n",
       "      <td>40.729999</td>\n",
       "      <td>-74.003584</td>\n",
       "      <td>549430f6498edcbb09ab35c0</td>\n",
       "    </tr>\n",
       "    <tr>\n",
       "      <th>33</th>\n",
       "      <td>The Hummus &amp; Pita Co 1</td>\n",
       "      <td>10011</td>\n",
       "      <td>40.739269</td>\n",
       "      <td>-73.995493</td>\n",
       "      <td>4f331c5ce4b05255bdf07d27</td>\n",
       "    </tr>\n",
       "    <tr>\n",
       "      <th>57</th>\n",
       "      <td>Hummus Kitchen 1</td>\n",
       "      <td>10028</td>\n",
       "      <td>40.776372</td>\n",
       "      <td>-73.952828</td>\n",
       "      <td>4a355b56f964a520dc9c1fe3</td>\n",
       "    </tr>\n",
       "    <tr>\n",
       "      <th>90</th>\n",
       "      <td>Olympic Pita 1</td>\n",
       "      <td>10012</td>\n",
       "      <td>40.730038</td>\n",
       "      <td>-74.000310</td>\n",
       "      <td>5d82e915f8f15c000890c96f</td>\n",
       "    </tr>\n",
       "  </tbody>\n",
       "</table>\n",
       "</div>"
      ],
      "text/plain": [
       "                      Name Zipcode   Latitude  Longitude  \\\n",
       "13             12 Chairs 1   11249  40.714384 -73.965148   \n",
       "28                  Taïm 1   10010  40.742256 -73.993144   \n",
       "30     Jack's Wife Freda 1   10014  40.729999 -74.003584   \n",
       "33  The Hummus & Pita Co 1   10011  40.739269 -73.995493   \n",
       "57        Hummus Kitchen 1   10028  40.776372 -73.952828   \n",
       "90          Olympic Pita 1   10012  40.730038 -74.000310   \n",
       "\n",
       "                          ID  \n",
       "13  54df9be0498e8ba3ab1d01fb  \n",
       "28  5bf34fca018cbb002c99be4a  \n",
       "30  549430f6498edcbb09ab35c0  \n",
       "33  4f331c5ce4b05255bdf07d27  \n",
       "57  4a355b56f964a520dc9c1fe3  \n",
       "90  5d82e915f8f15c000890c96f  "
      ]
     },
     "execution_count": 76,
     "metadata": {},
     "output_type": "execute_result"
    }
   ],
   "source": [
    "dup = israeli_venues[israeli_venues.duplicated(\"Name\")]\n",
    "dup[\"Name\"] = dup[\"Name\"] + \" 1\"\n",
    "dup"
   ]
  },
  {
   "cell_type": "code",
   "execution_count": 77,
   "metadata": {},
   "outputs": [],
   "source": [
    "israeli_venues2 = israeli_venues.drop_duplicates(\"Name\")\n",
    "israeli_venues = israeli_venues2.append(dup)\n",
    "israeli_venues = israeli_venues.reset_index(drop=True)"
   ]
  },
  {
   "cell_type": "code",
   "execution_count": 78,
   "metadata": {},
   "outputs": [
    {
     "data": {
      "text/html": [
       "<div>\n",
       "<style scoped>\n",
       "    .dataframe tbody tr th:only-of-type {\n",
       "        vertical-align: middle;\n",
       "    }\n",
       "\n",
       "    .dataframe tbody tr th {\n",
       "        vertical-align: top;\n",
       "    }\n",
       "\n",
       "    .dataframe thead th {\n",
       "        text-align: right;\n",
       "    }\n",
       "</style>\n",
       "<table border=\"1\" class=\"dataframe\">\n",
       "  <thead>\n",
       "    <tr style=\"text-align: right;\">\n",
       "      <th></th>\n",
       "      <th>Name</th>\n",
       "      <th>Zipcode</th>\n",
       "      <th>Latitude</th>\n",
       "      <th>Longitude</th>\n",
       "      <th>ID</th>\n",
       "    </tr>\n",
       "  </thead>\n",
       "  <tbody>\n",
       "    <tr>\n",
       "      <th>80</th>\n",
       "      <td>Alenbi Kitchen</td>\n",
       "      <td>11225</td>\n",
       "      <td>40.666392</td>\n",
       "      <td>-73.950696</td>\n",
       "      <td>59ee92dbe7a23778c5d660fb</td>\n",
       "    </tr>\n",
       "    <tr>\n",
       "      <th>81</th>\n",
       "      <td>Zion Kosher Market (ציון)</td>\n",
       "      <td>11218</td>\n",
       "      <td>40.641111</td>\n",
       "      <td>-73.985600</td>\n",
       "      <td>4bd5f36a4e32d13a47cac180</td>\n",
       "    </tr>\n",
       "    <tr>\n",
       "      <th>82</th>\n",
       "      <td>Flora Cafe</td>\n",
       "      <td>07114</td>\n",
       "      <td>40.697579</td>\n",
       "      <td>-74.175022</td>\n",
       "      <td>549464b1498e855d5f4f64a0</td>\n",
       "    </tr>\n",
       "    <tr>\n",
       "      <th>83</th>\n",
       "      <td>Sunflower Cafe - Brooklyn</td>\n",
       "      <td>11229</td>\n",
       "      <td>40.608049</td>\n",
       "      <td>-73.960099</td>\n",
       "      <td>4562f9fdf964a520a13d1fe3</td>\n",
       "    </tr>\n",
       "    <tr>\n",
       "      <th>84</th>\n",
       "      <td>12 Chairs 1</td>\n",
       "      <td>11249</td>\n",
       "      <td>40.714384</td>\n",
       "      <td>-73.965148</td>\n",
       "      <td>54df9be0498e8ba3ab1d01fb</td>\n",
       "    </tr>\n",
       "    <tr>\n",
       "      <th>85</th>\n",
       "      <td>Taïm 1</td>\n",
       "      <td>10010</td>\n",
       "      <td>40.742256</td>\n",
       "      <td>-73.993144</td>\n",
       "      <td>5bf34fca018cbb002c99be4a</td>\n",
       "    </tr>\n",
       "    <tr>\n",
       "      <th>86</th>\n",
       "      <td>Jack's Wife Freda 1</td>\n",
       "      <td>10014</td>\n",
       "      <td>40.729999</td>\n",
       "      <td>-74.003584</td>\n",
       "      <td>549430f6498edcbb09ab35c0</td>\n",
       "    </tr>\n",
       "    <tr>\n",
       "      <th>87</th>\n",
       "      <td>The Hummus &amp; Pita Co 1</td>\n",
       "      <td>10011</td>\n",
       "      <td>40.739269</td>\n",
       "      <td>-73.995493</td>\n",
       "      <td>4f331c5ce4b05255bdf07d27</td>\n",
       "    </tr>\n",
       "    <tr>\n",
       "      <th>88</th>\n",
       "      <td>Hummus Kitchen 1</td>\n",
       "      <td>10028</td>\n",
       "      <td>40.776372</td>\n",
       "      <td>-73.952828</td>\n",
       "      <td>4a355b56f964a520dc9c1fe3</td>\n",
       "    </tr>\n",
       "    <tr>\n",
       "      <th>89</th>\n",
       "      <td>Olympic Pita 1</td>\n",
       "      <td>10012</td>\n",
       "      <td>40.730038</td>\n",
       "      <td>-74.000310</td>\n",
       "      <td>5d82e915f8f15c000890c96f</td>\n",
       "    </tr>\n",
       "  </tbody>\n",
       "</table>\n",
       "</div>"
      ],
      "text/plain": [
       "                         Name Zipcode   Latitude  Longitude  \\\n",
       "80             Alenbi Kitchen   11225  40.666392 -73.950696   \n",
       "81  Zion Kosher Market (ציון)   11218  40.641111 -73.985600   \n",
       "82                 Flora Cafe   07114  40.697579 -74.175022   \n",
       "83  Sunflower Cafe - Brooklyn   11229  40.608049 -73.960099   \n",
       "84                12 Chairs 1   11249  40.714384 -73.965148   \n",
       "85                     Taïm 1   10010  40.742256 -73.993144   \n",
       "86        Jack's Wife Freda 1   10014  40.729999 -74.003584   \n",
       "87     The Hummus & Pita Co 1   10011  40.739269 -73.995493   \n",
       "88           Hummus Kitchen 1   10028  40.776372 -73.952828   \n",
       "89             Olympic Pita 1   10012  40.730038 -74.000310   \n",
       "\n",
       "                          ID  \n",
       "80  59ee92dbe7a23778c5d660fb  \n",
       "81  4bd5f36a4e32d13a47cac180  \n",
       "82  549464b1498e855d5f4f64a0  \n",
       "83  4562f9fdf964a520a13d1fe3  \n",
       "84  54df9be0498e8ba3ab1d01fb  \n",
       "85  5bf34fca018cbb002c99be4a  \n",
       "86  549430f6498edcbb09ab35c0  \n",
       "87  4f331c5ce4b05255bdf07d27  \n",
       "88  4a355b56f964a520dc9c1fe3  \n",
       "89  5d82e915f8f15c000890c96f  "
      ]
     },
     "execution_count": 78,
     "metadata": {},
     "output_type": "execute_result"
    }
   ],
   "source": [
    "israeli_venues.tail(10)"
   ]
  },
  {
   "cell_type": "markdown",
   "metadata": {},
   "source": [
    "### 3. Assign borough according to zipcode"
   ]
  },
  {
   "cell_type": "markdown",
   "metadata": {},
   "source": [
    "Get a list of zipcodes for each borough"
   ]
  },
  {
   "cell_type": "code",
   "execution_count": 79,
   "metadata": {},
   "outputs": [
    {
     "data": {
      "text/html": [
       "<div>\n",
       "<style scoped>\n",
       "    .dataframe tbody tr th:only-of-type {\n",
       "        vertical-align: middle;\n",
       "    }\n",
       "\n",
       "    .dataframe tbody tr th {\n",
       "        vertical-align: top;\n",
       "    }\n",
       "\n",
       "    .dataframe thead th {\n",
       "        text-align: right;\n",
       "    }\n",
       "</style>\n",
       "<table border=\"1\" class=\"dataframe\">\n",
       "  <thead>\n",
       "    <tr style=\"text-align: right;\">\n",
       "      <th></th>\n",
       "      <th>Borough</th>\n",
       "      <th>ZIP Codes</th>\n",
       "    </tr>\n",
       "  </thead>\n",
       "  <tbody>\n",
       "    <tr>\n",
       "      <th>0</th>\n",
       "      <td>Bronx</td>\n",
       "      <td>10453, 10457, 10460, 10458, 10467, 10468, 1045...</td>\n",
       "    </tr>\n",
       "    <tr>\n",
       "      <th>1</th>\n",
       "      <td>Brooklyn</td>\n",
       "      <td>11212, 11213, 11216, 11233, 11238, 11209, 1121...</td>\n",
       "    </tr>\n",
       "    <tr>\n",
       "      <th>2</th>\n",
       "      <td>Manhattan</td>\n",
       "      <td>10026, 10027, 10030, 10037, 10039, 10001, 1001...</td>\n",
       "    </tr>\n",
       "    <tr>\n",
       "      <th>3</th>\n",
       "      <td>Queens</td>\n",
       "      <td>11361, 11362, 11363, 11364, 11354, 11355, 1135...</td>\n",
       "    </tr>\n",
       "    <tr>\n",
       "      <th>4</th>\n",
       "      <td>Staten Island</td>\n",
       "      <td>10302, 10303, 10310, 10306, 10307, 10308, 1030...</td>\n",
       "    </tr>\n",
       "  </tbody>\n",
       "</table>\n",
       "</div>"
      ],
      "text/plain": [
       "         Borough                                          ZIP Codes\n",
       "0          Bronx  10453, 10457, 10460, 10458, 10467, 10468, 1045...\n",
       "1       Brooklyn  11212, 11213, 11216, 11233, 11238, 11209, 1121...\n",
       "2      Manhattan  10026, 10027, 10030, 10037, 10039, 10001, 1001...\n",
       "3         Queens  11361, 11362, 11363, 11364, 11354, 11355, 1135...\n",
       "4  Staten Island  10302, 10303, 10310, 10306, 10307, 10308, 1030..."
      ]
     },
     "execution_count": 79,
     "metadata": {},
     "output_type": "execute_result"
    }
   ],
   "source": [
    "zips=pd.read_html(\"https://www.health.ny.gov/statistics/cancer/registry/appendix/neighborhoods.htm\", index_col=None)\n",
    "zips=zips[0]\n",
    "zips=zips.drop(\"Neighborhood\", axis=1)\n",
    "zips = zips.groupby(['Borough'])['ZIP Codes'].apply(', '.join).reset_index()\n",
    "zips.head()"
   ]
  },
  {
   "cell_type": "code",
   "execution_count": 80,
   "metadata": {},
   "outputs": [],
   "source": [
    "Bronx=zips.iat[0, 1]\n",
    "Brooklyn=zips.iat[1, 1]\n",
    "Manhattan=zips.iat[2, 1]\n",
    "Queens=zips.iat[3, 1]\n",
    "StatenIsland=zips.iat[4, 1]"
   ]
  },
  {
   "cell_type": "markdown",
   "metadata": {},
   "source": [
    "Insert a \"Borough\" column"
   ]
  },
  {
   "cell_type": "code",
   "execution_count": 81,
   "metadata": {},
   "outputs": [],
   "source": [
    "israeli_venues[\"Zipcode\"].astype(str)\n",
    "israeli_venues[\"Borough\"]=\"\""
   ]
  },
  {
   "cell_type": "markdown",
   "metadata": {},
   "source": [
    "Assign a borough to each venue according to its zipcode"
   ]
  },
  {
   "cell_type": "code",
   "execution_count": 82,
   "metadata": {},
   "outputs": [],
   "source": [
    "index = 0\n",
    "for venue in israeli_venues[\"Name\"]:\n",
    "    try:\n",
    "        zipcode = israeli_venues.iat[index, 1]\n",
    "    except IndexError:\n",
    "        print(\"Something went wrong\")\n",
    "    index = israeli_venues[israeli_venues[\"Name\"] == venue].index.values.astype(int)[0]\n",
    "    zipcode = israeli_venues.iat[index, 1]\n",
    "    if zipcode in Manhattan:\n",
    "        israeli_venues.at[index,\"Borough\"]=\"Manhattan\"\n",
    "    elif zipcode in Brooklyn:\n",
    "        israeli_venues.at[index,\"Borough\"]=\"Brooklyn\"\n",
    "    elif zipcode in Bronx:\n",
    "        israeli_venues.at[index,\"Borough\"]=\"Bronx\"\n",
    "    elif zipcode in Queens:\n",
    "        israeli_venues.at[index,\"Borough\"]=\"Queens\"\n",
    "    elif zipcode in StatenIsland:\n",
    "        israeli_venues.at[index,\"Borough\"]=\"StatenIsland\"\n",
    "    else:\n",
    "        israeli_venues.at[index,\"Borough\"]=None"
   ]
  },
  {
   "cell_type": "markdown",
   "metadata": {},
   "source": [
    "Drop venues not assigned to any borough"
   ]
  },
  {
   "cell_type": "code",
   "execution_count": 83,
   "metadata": {},
   "outputs": [],
   "source": [
    "israeli_venues = israeli_venues.dropna()"
   ]
  },
  {
   "cell_type": "code",
   "execution_count": 84,
   "metadata": {},
   "outputs": [],
   "source": [
    "israeli_venues = israeli_venues.reset_index(drop=True)"
   ]
  },
  {
   "cell_type": "markdown",
   "metadata": {},
   "source": [
    "Get count of restaurants in each borough"
   ]
  },
  {
   "cell_type": "code",
   "execution_count": 85,
   "metadata": {},
   "outputs": [
    {
     "data": {
      "text/plain": [
       "Manhattan    64\n",
       "Brooklyn     21\n",
       "Queens        2\n",
       "Name: Borough, dtype: int64"
      ]
     },
     "execution_count": 85,
     "metadata": {},
     "output_type": "execute_result"
    }
   ],
   "source": [
    "rest_in_borough = israeli_venues['Borough'].value_counts()\n",
    "rest_in_borough"
   ]
  },
  {
   "cell_type": "code",
   "execution_count": 86,
   "metadata": {},
   "outputs": [],
   "source": [
    "x = list(rest_in_borough.index)\n",
    "y = list(rest_in_borough[:])\n",
    "label = \"Number of Israeli restaurants by borough\""
   ]
  },
  {
   "cell_type": "code",
   "execution_count": 87,
   "metadata": {},
   "outputs": [
    {
     "data": {
      "image/png": "[encoded data removed]",
      "text/plain": [
       "<Figure size 432x288 with 1 Axes>"
      ]
     },
     "metadata": {
      "needs_background": "light"
     },
     "output_type": "display_data"
    }
   ],
   "source": [
    "plt.bar(x, y)\n",
    "plt.title(label)\n",
    "plt.show()"
   ]
  },
  {
   "cell_type": "markdown",
   "metadata": {},
   "source": [
    "### 4. Get venue ratings and number of ratings for each venue"
   ]
  },
  {
   "cell_type": "code",
   "execution_count": 88,
   "metadata": {},
   "outputs": [],
   "source": [
    "israeli_venues[\"Rating\"]=\"\"\n",
    "israeli_venues[\"No. of Ratings\"]=\"\""
   ]
  },
  {
   "cell_type": "markdown",
   "metadata": {},
   "source": [
    "Code not run everytime to avoid multiple premium requests, ratings were received once and stored as a list"
   ]
  },
  {
   "cell_type": "code",
   "execution_count": 18,
   "metadata": {},
   "outputs": [],
   "source": [
    "#for venue_id in israeli_venues[\"ID\"]:\n",
    "#    index = israeli_venues[israeli_venues[\"ID\"] == venue_id].index.values.astype(int)[0]\n",
    "#    url = 'https://api.foursquare.com/v2/venues/{}?client_id={}&client_secret={}&v={}'.format(venue_id, CLIENT_ID, CLIENT_SECRET, VERSION)\n",
    "#    result = requests.get(url).json()\n",
    "#    try:\n",
    "#        print(result['response']['venue']['rating'])\n",
    "#    except:\n",
    "#        last_venues.at[index,\"Rating\"] = None\n",
    "#        last_venues.at[index,\"No. of Ratings\"] = None\n",
    "#        continue\n",
    "#    israeli_venues.at[index,\"Rating\"]=result['response']['venue']['rating']\n",
    "#    israeli_venues.at[index,\"No. of Ratings\"]=result['response']['venue']['ratingSignals']"
   ]
  },
  {
   "cell_type": "code",
   "execution_count": 89,
   "metadata": {},
   "outputs": [],
   "source": [
    "ratings = [9.0, 8.9, 9.3, 8.7, 8.2, 9.2, 8.7, 8.7, 8.6, 8.6, 8.4, 8.7, 8.6, 8.7, 9.2, 7.7, 8.9, 8.0, 8.5, 9.0, 8.2, 7.8, 8.6, 8.5, 8.8, 7.9, 9.0, 8.4, 9.3, 8.6, 6.9, 8.4, 8.5, 8.6, 6.9, 7.9, 9.0, 7.7, 8.2, 8.3, 8.3, 9.3, 8.2, 6.8, 7.5, 8.6, 7.9, 7.5, 7.7, 8.2, 7.5, 9.1, 8.1, 7.6, 6.5, 8.0, 7.3, 7.2, 6.8, 7.7, 8.0, 6.6, 7.3, None, 8.3, None, 9.0, 6.4, 8.7, 5.9, None, None, None, None, 8.3, None, 7.5, 5.5, None, None, None, 6.0, 8.8, 8.8, 8.3, 7.5, None]\n",
    "no_of_ratings = [1214.0, 588.0, 295.0, 223.0, 307.0, 1075.0, 251.0, 826.0, 263.0, 22.0, 117.0, 428.0, 310.0, 2388.0, 114.0, 85.0, 534.0, 19.0, 78.0, 432.0, 119.0, 29.0, 93.0, 910.0, 783.0, 43.0, 358.0, 536.0, 1790.0, 303.0, 21.0, 223.0, 873.0, 74.0, 13.0, 181.0, 420.0, 246.0, 249.0, 41.0, 29.0, 1528.0, 181.0, 29.0, 142.0, 22.0, 295.0, 108.0, 54.0, 256.0, 166, 5726, 512, 59, 178, 97, 166, 59, 37, 190, 389, 23, 154, None, 252, None, 593, 19, 2444, 90, None, None, None, None, 82, None, 355, 42, None, None, None, 33, 42, 1054, 688, 122, None]"
   ]
  },
  {
   "cell_type": "code",
   "execution_count": 90,
   "metadata": {},
   "outputs": [],
   "source": [
    "israeli_venues[\"Rating\"] = ratings\n",
    "israeli_venues[\"No. of Ratings\"] = no_of_ratings"
   ]
  },
  {
   "cell_type": "markdown",
   "metadata": {},
   "source": [
    "Drop restaurants without a rating"
   ]
  },
  {
   "cell_type": "code",
   "execution_count": 91,
   "metadata": {},
   "outputs": [],
   "source": [
    "israeli_venues = israeli_venues.dropna()\n",
    "israeli_venues = israeli_venues.reset_index(drop=True)"
   ]
  },
  {
   "cell_type": "markdown",
   "metadata": {},
   "source": [
    "Get average rating and number of ratings of all Israeli restaurants in NYC"
   ]
  },
  {
   "cell_type": "code",
   "execution_count": 92,
   "metadata": {},
   "outputs": [],
   "source": [
    "avg_rating = israeli_venues[\"Rating\"].sum() / israeli_venues[\"Rating\"].count()\n",
    "avg_no_ratings = israeli_venues[\"No. of Ratings\"].sum() / israeli_venues[\"No. of Ratings\"].count()"
   ]
  },
  {
   "cell_type": "code",
   "execution_count": 93,
   "metadata": {},
   "outputs": [
    {
     "name": "stdout",
     "output_type": "stream",
     "text": [
      "The average rating of all Israeli restaurants in NYC is 8.1\n",
      "The average number of ratings of all Israeli restaurants in NYC is 435.4\n"
     ]
    }
   ],
   "source": [
    "print(\"The average rating of all Israeli restaurants in NYC is %.1f\" % (avg_rating))\n",
    "print(\"The average number of ratings of all Israeli restaurants in NYC is %.1f\" % (avg_no_ratings))"
   ]
  },
  {
   "cell_type": "markdown",
   "metadata": {},
   "source": [
    "Get average rating of restaurants in each borough"
   ]
  },
  {
   "cell_type": "code",
   "execution_count": 115,
   "metadata": {},
   "outputs": [
    {
     "data": {
      "text/html": [
       "<div>\n",
       "<style scoped>\n",
       "    .dataframe tbody tr th:only-of-type {\n",
       "        vertical-align: middle;\n",
       "    }\n",
       "\n",
       "    .dataframe tbody tr th {\n",
       "        vertical-align: top;\n",
       "    }\n",
       "\n",
       "    .dataframe thead th {\n",
       "        text-align: right;\n",
       "    }\n",
       "</style>\n",
       "<table border=\"1\" class=\"dataframe\">\n",
       "  <thead>\n",
       "    <tr style=\"text-align: right;\">\n",
       "      <th></th>\n",
       "      <th>Latitude</th>\n",
       "      <th>Longitude</th>\n",
       "      <th>Rating</th>\n",
       "      <th>No. of Ratings</th>\n",
       "    </tr>\n",
       "    <tr>\n",
       "      <th>Borough</th>\n",
       "      <th></th>\n",
       "      <th></th>\n",
       "      <th></th>\n",
       "      <th></th>\n",
       "    </tr>\n",
       "  </thead>\n",
       "  <tbody>\n",
       "    <tr>\n",
       "      <th>Brooklyn</th>\n",
       "      <td>40.678877</td>\n",
       "      <td>-73.964310</td>\n",
       "      <td>8.253846</td>\n",
       "      <td>295.615385</td>\n",
       "    </tr>\n",
       "    <tr>\n",
       "      <th>Manhattan</th>\n",
       "      <td>40.747277</td>\n",
       "      <td>-73.987246</td>\n",
       "      <td>8.068852</td>\n",
       "      <td>477.196721</td>\n",
       "    </tr>\n",
       "    <tr>\n",
       "      <th>Queens</th>\n",
       "      <td>40.723832</td>\n",
       "      <td>-73.854504</td>\n",
       "      <td>8.150000</td>\n",
       "      <td>69.000000</td>\n",
       "    </tr>\n",
       "  </tbody>\n",
       "</table>\n",
       "</div>"
      ],
      "text/plain": [
       "            Latitude  Longitude    Rating  No. of Ratings\n",
       "Borough                                                  \n",
       "Brooklyn   40.678877 -73.964310  8.253846      295.615385\n",
       "Manhattan  40.747277 -73.987246  8.068852      477.196721\n",
       "Queens     40.723832 -73.854504  8.150000       69.000000"
      ]
     },
     "execution_count": 115,
     "metadata": {},
     "output_type": "execute_result"
    }
   ],
   "source": [
    "avg = israeli_venues.groupby(\"Borough\").mean()\n",
    "avg"
   ]
  },
  {
   "cell_type": "code",
   "execution_count": 144,
   "metadata": {},
   "outputs": [],
   "source": [
    "x = avg.index\n",
    "y1 = avg[\"Rating\"]\n",
    "y2 = avg[\"No. of Ratings\"]"
   ]
  },
  {
   "cell_type": "code",
   "execution_count": 145,
   "metadata": {},
   "outputs": [
    {
     "data": {
      "image/png": "[encoded data removed]",
      "text/plain": [
       "<Figure size 432x288 with 1 Axes>"
      ]
     },
     "metadata": {
      "needs_background": "light"
     },
     "output_type": "display_data"
    }
   ],
   "source": [
    "plt.bar(x1, y1)\n",
    "plt.title(\"Ratings of Israeli restaurants by borough\")\n",
    "plt.show()"
   ]
  },
  {
   "cell_type": "code",
   "execution_count": 146,
   "metadata": {},
   "outputs": [
    {
     "data": {
      "image/png": "[encoded data removed]",
      "text/plain": [
       "<Figure size 432x288 with 1 Axes>"
      ]
     },
     "metadata": {
      "needs_background": "light"
     },
     "output_type": "display_data"
    }
   ],
   "source": [
    "plt.bar(x1, y2)\n",
    "plt.title(\"Number of ratings of Israeli restaurants by borough\")\n",
    "plt.show()"
   ]
  },
  {
   "cell_type": "markdown",
   "metadata": {},
   "source": [
    "Top 10 rated venues"
   ]
  },
  {
   "cell_type": "code",
   "execution_count": 176,
   "metadata": {},
   "outputs": [],
   "source": [
    "top10 = israeli_venues.sort_values(\"Rating\", ascending = False).head(10)\n",
    "top10 = top10[[\"Name\", \"Rating\"]].reset_index(drop=True)"
   ]
  },
  {
   "cell_type": "code",
   "execution_count": 177,
   "metadata": {},
   "outputs": [
    {
     "data": {
      "text/html": [
       "<div>\n",
       "<style scoped>\n",
       "    .dataframe tbody tr th:only-of-type {\n",
       "        vertical-align: middle;\n",
       "    }\n",
       "\n",
       "    .dataframe tbody tr th {\n",
       "        vertical-align: top;\n",
       "    }\n",
       "\n",
       "    .dataframe thead th {\n",
       "        text-align: right;\n",
       "    }\n",
       "</style>\n",
       "<table border=\"1\" class=\"dataframe\">\n",
       "  <thead>\n",
       "    <tr style=\"text-align: right;\">\n",
       "      <th></th>\n",
       "      <th>Name</th>\n",
       "      <th>Rating</th>\n",
       "    </tr>\n",
       "  </thead>\n",
       "  <tbody>\n",
       "    <tr>\n",
       "      <th>0</th>\n",
       "      <td>Breads Bakery</td>\n",
       "      <td>9.3</td>\n",
       "    </tr>\n",
       "    <tr>\n",
       "      <th>1</th>\n",
       "      <td>Miss Ada</td>\n",
       "      <td>9.3</td>\n",
       "    </tr>\n",
       "    <tr>\n",
       "      <th>2</th>\n",
       "      <td>Cafe Mogador</td>\n",
       "      <td>9.3</td>\n",
       "    </tr>\n",
       "    <tr>\n",
       "      <th>3</th>\n",
       "      <td>Nish Nūsh</td>\n",
       "      <td>9.2</td>\n",
       "    </tr>\n",
       "    <tr>\n",
       "      <th>4</th>\n",
       "      <td>Taïm</td>\n",
       "      <td>9.2</td>\n",
       "    </tr>\n",
       "    <tr>\n",
       "      <th>5</th>\n",
       "      <td>Katz's Delicatessen</td>\n",
       "      <td>9.1</td>\n",
       "    </tr>\n",
       "    <tr>\n",
       "      <th>6</th>\n",
       "      <td>Taboon</td>\n",
       "      <td>9.0</td>\n",
       "    </tr>\n",
       "    <tr>\n",
       "      <th>7</th>\n",
       "      <td>Oasis</td>\n",
       "      <td>9.0</td>\n",
       "    </tr>\n",
       "    <tr>\n",
       "      <th>8</th>\n",
       "      <td>Blue Hill</td>\n",
       "      <td>9.0</td>\n",
       "    </tr>\n",
       "    <tr>\n",
       "      <th>9</th>\n",
       "      <td>Zizi Limona</td>\n",
       "      <td>9.0</td>\n",
       "    </tr>\n",
       "  </tbody>\n",
       "</table>\n",
       "</div>"
      ],
      "text/plain": [
       "                  Name  Rating\n",
       "0        Breads Bakery     9.3\n",
       "1             Miss Ada     9.3\n",
       "2         Cafe Mogador     9.3\n",
       "3            Nish Nūsh     9.2\n",
       "4                 Taïm     9.2\n",
       "5  Katz's Delicatessen     9.1\n",
       "6               Taboon     9.0\n",
       "7                Oasis     9.0\n",
       "8            Blue Hill     9.0\n",
       "9          Zizi Limona     9.0"
      ]
     },
     "execution_count": 177,
     "metadata": {},
     "output_type": "execute_result"
    }
   ],
   "source": [
    "top10"
   ]
  },
  {
   "cell_type": "markdown",
   "metadata": {},
   "source": [
    "Map of NYC with Israeli restaurants marked with color-coded markers"
   ]
  },
  {
   "cell_type": "code",
   "execution_count": 191,
   "metadata": {},
   "outputs": [],
   "source": [
    "# assign color to markers according to rating\n",
    "def get_color(rating):\n",
    "    if rating >= 9.0:\n",
    "        color = \"red\"\n",
    "    elif rating < 9.0 and rating >=8.0:\n",
    "        color = \"orange\"\n",
    "    elif rating < 8.0 and rating >=7.0:\n",
    "        color = \"yellow\"\n",
    "    elif rating < 7.0 and rating >=6.0:\n",
    "        color = \"green\"\n",
    "    elif rating < 6.0:\n",
    "        color = \"blue\"\n",
    "    return color"
   ]
  },
  {
   "cell_type": "code",
   "execution_count": 193,
   "metadata": {},
   "outputs": [
    {
     "data": {
      "text/html": [
       "<div style=\"width:100%;\"><div style=\"position:relative;width:100%;height:0;padding-bottom:60%;\"><iframe src=\"data:text/html;charset=utf-8;base64,PCFET0NUWVBFIGh0bWw+CjxoZWFkPiAgICAKICAgIDxtZXRhIGh0dHAtZXF1aXY9ImNvbnRlbnQtdHlwZSIgY29udGVudD0idGV4dC9odG1sOyBjaGFyc2V0PVVURi04IiAvPgogICAgPHNjcmlwdD5MX1BSRUZFUl9DQU5WQVMgPSBmYWxzZTsgTF9OT19UT1VDSCA9IGZhbHNlOyBMX0RJU0FCTEVfM0QgPSBmYWxzZTs8L3NjcmlwdD4KICAgIDxzY3JpcHQgc3JjPSJodHRwczovL2Nkbi5qc2RlbGl2ci5uZXQvbnBtL2xlYWZsZXRAMS4yLjAvZGlzdC9sZWFmbGV0LmpzIj48L3NjcmlwdD4KICAgIDxzY3JpcHQgc3JjPSJodHRwczovL2FqYXguZ29vZ2xlYXBpcy5jb20vYWpheC9saWJzL2pxdWVyeS8xLjExLjEvanF1ZXJ5Lm1pbi5qcyI+PC9zY3JpcHQ+CiAgICA8c2NyaXB0IHNyYz0iaHR0cHM6Ly9tYXhjZG4uYm9vdHN0cmFwY2RuLmNvbS9ib290c3RyYXAvMy4yLjAvanMvYm9vdHN0cmFwLm1pbi5qcyI+PC9zY3JpcHQ+CiAgICA8c2NyaXB0IHNyYz0iaHR0cHM6Ly9jZG5qcy5jbG91ZGZsYXJlLmNvbS9hamF4L2xpYnMvTGVhZmxldC5hd2Vzb21lLW1hcmtlcnMvMi4wLjIvbGVhZmxldC5hd2Vzb21lLW1hcmtlcnMuanMiPjwvc2NyaXB0PgogICAgPGxpbmsgcmVsPSJzdHlsZXNoZWV0IiBocmVmPSJodHRwczovL2Nkbi5qc2RlbGl2ci5uZXQvbnBtL2xlYWZsZXRAMS4yLjAvZGlzdC9sZWFmbGV0LmNzcyIvPgogICAgPGxpbmsgcmVsPSJzdHlsZXNoZWV0IiBocmVmPSJodHRwczovL21heGNkbi5ib290c3RyYXBjZG4uY29tL2Jvb3RzdHJhcC8zLjIuMC9jc3MvYm9vdHN0cmFwLm1pbi5jc3MiLz4KICAgIDxsaW5rIHJlbD0ic3R5bGVzaGVldCIgaHJlZj0iaHR0cHM6Ly9tYXhjZG4uYm9vdHN0cmFwY2RuLmNvbS9ib290c3RyYXAvMy4yLjAvY3NzL2Jvb3RzdHJhcC10aGVtZS5taW4uY3NzIi8+CiAgICA8bGluayByZWw9InN0eWxlc2hlZXQiIGhyZWY9Imh0dHBzOi8vbWF4Y2RuLmJvb3RzdHJhcGNkbi5jb20vZm9udC1hd2Vzb21lLzQuNi4zL2Nzcy9mb250LWF3ZXNvbWUubWluLmNzcyIvPgogICAgPGxpbmsgcmVsPSJzdHlsZXNoZWV0IiBocmVmPSJodHRwczovL2NkbmpzLmNsb3VkZmxhcmUuY29tL2FqYXgvbGlicy9MZWFmbGV0LmF3ZXNvbWUtbWFya2Vycy8yLjAuMi9sZWFmbGV0LmF3ZXNvbWUtbWFya2Vycy5jc3MiLz4KICAgIDxsaW5rIHJlbD0ic3R5bGVzaGVldCIgaHJlZj0iaHR0cHM6Ly9yYXdnaXQuY29tL3B5dGhvbi12aXN1YWxpemF0aW9uL2ZvbGl1bS9tYXN0ZXIvZm9saXVtL3RlbXBsYXRlcy9sZWFmbGV0LmF3ZXNvbWUucm90YXRlLmNzcyIvPgogICAgPHN0eWxlPmh0bWwsIGJvZHkge3dpZHRoOiAxMDAlO2hlaWdodDogMTAwJTttYXJnaW46IDA7cGFkZGluZzogMDt9PC9zdHlsZT4KICAgIDxzdHlsZT4jbWFwIHtwb3NpdGlvbjphYnNvbHV0ZTt0b3A6MDtib3R0b206MDtyaWdodDowO2xlZnQ6MDt9PC9zdHlsZT4KICAgIAogICAgICAgICAgICA8c3R5bGU+ICNtYXBfYmU0MzZmYjhjY2RmNDM4YmIyMzQ3OGZmMjBhMGU1ZDIgewogICAgICAgICAgICAgICAgcG9zaXRpb24gOiByZWxhdGl2ZTsKICAgICAgICAgICAgICAgIHdpZHRoIDogMTAwLjAlOwogICAgICAgICAgICAgICAgaGVpZ2h0OiAxMDAuMCU7CiAgICAgICAgICAgICAgICBsZWZ0OiAwLjAlOwogICAgICAgICAgICAgICAgdG9wOiAwLjAlOwogICAgICAgICAgICAgICAgfQogICAgICAgICAgICA8L3N0eWxlPgogICAgICAgIAo8L2hlYWQ+Cjxib2R5PiAgICAKICAgIAogICAgICAgICAgICA8ZGl2IGNsYXNzPSJmb2xpdW0tbWFwIiBpZD0ibWFwX2JlNDM2ZmI4Y2NkZjQzOGJiMjM0NzhmZjIwYTBlNWQyIiA+PC9kaXY+CiAgICAgICAgCjwvYm9keT4KPHNjcmlwdD4gICAgCiAgICAKCiAgICAgICAgICAgIAogICAgICAgICAgICAgICAgdmFyIGJvdW5kcyA9IG51bGw7CiAgICAgICAgICAgIAoKICAgICAgICAgICAgdmFyIG1hcF9iZTQzNmZiOGNjZGY0MzhiYjIzNDc4ZmYyMGEwZTVkMiA9IEwubWFwKAogICAgICAgICAgICAgICAgICAgICAgICAgICAgICAgICAgJ21hcF9iZTQzNmZiOGNjZGY0MzhiYjIzNDc4ZmYyMGEwZTVkMicsCiAgICAgICAgICAgICAgICAgICAgICAgICAgICAgICAgICB7Y2VudGVyOiBbNDAuNzEyOCwtNzQuMDA2XSwKICAgICAgICAgICAgICAgICAgICAgICAgICAgICAgICAgIHpvb206IDExLAogICAgICAgICAgICAgICAgICAgICAgICAgICAgICAgICAgbWF4Qm91bmRzOiBib3VuZHMsCiAgICAgICAgICAgICAgICAgICAgICAgICAgICAgICAgICBsYXllcnM6IFtdLAogICAgICAgICAgICAgICAgICAgICAgICAgICAgICAgICAgd29ybGRDb3B5SnVtcDogZmFsc2UsCiAgICAgICAgICAgICAgICAgICAgICAgICAgICAgICAgICBjcnM6IEwuQ1JTLkVQU0czODU3CiAgICAgICAgICAgICAgICAgICAgICAgICAgICAgICAgIH0pOwogICAgICAgICAgICAKICAgICAgICAKICAgIAogICAgICAgICAgICB2YXIgdGlsZV9sYXllcl9kNTczMTc5NTVkM2Q0OTIxOWEwMGJjOTUyOTU3OGNjMSA9IEwudGlsZUxheWVyKAogICAgICAgICAgICAgICAgJ2h0dHBzOi8ve3N9LnRpbGUub3BlbnN0cmVldG1hcC5vcmcve3p9L3t4fS97eX0ucG5nJywKICAgICAgICAgICAgICAgIHsKICAiYXR0cmlidXRpb24iOiBudWxsLAogICJkZXRlY3RSZXRpbmEiOiBmYWxzZSwKICAibWF4Wm9vbSI6IDE4LAogICJtaW5ab29tIjogMSwKICAibm9XcmFwIjogZmFsc2UsCiAgInN1YmRvbWFpbnMiOiAiYWJjIgp9CiAgICAgICAgICAgICAgICApLmFkZFRvKG1hcF9iZTQzNmZiOGNjZGY0MzhiYjIzNDc4ZmYyMGEwZTVkMik7CiAgICAgICAgCiAgICAKICAgICAgICAgICAgdmFyIGNpcmNsZV9tYXJrZXJfNjAxMTJkYzM3YTdlNDYwZDhjMDhiNWI1NDIwMDk5ZmQgPSBMLmNpcmNsZU1hcmtlcigKICAgICAgICAgICAgICAgIFs0MC43MjE5MzYwOTA0MTkxMDYsLTczLjk5NjI3OTM1MDE5NzU4XSwKICAgICAgICAgICAgICAgIHsKICAiYnViYmxpbmdNb3VzZUV2ZW50cyI6IHRydWUsCiAgImNvbG9yIjogInJlZCIsCiAgImRhc2hBcnJheSI6IG51bGwsCiAgImRhc2hPZmZzZXQiOiBudWxsLAogICJmaWxsIjogdHJ1ZSwKICAiZmlsbENvbG9yIjogInJlZCIsCiAgImZpbGxPcGFjaXR5IjogMC43LAogICJmaWxsUnVsZSI6ICJldmVub2RkIiwKICAibGluZUNhcCI6ICJyb3VuZCIsCiAgImxpbmVKb2luIjogInJvdW5kIiwKICAib3BhY2l0eSI6IDEuMCwKICAicmFkaXVzIjogNSwKICAic3Ryb2tlIjogdHJ1ZSwKICAid2VpZ2h0IjogMwp9CiAgICAgICAgICAgICAgICApLmFkZFRvKG1hcF9iZTQzNmZiOGNjZGY0MzhiYjIzNDc4ZmYyMGEwZTVkMik7CiAgICAgICAgICAgIAogICAgCiAgICAgICAgICAgIHZhciBwb3B1cF83NDczZjE1ZWMzYmY0ZjllOTMxN2M4Mjg4MDdiZDNjNyA9IEwucG9wdXAoe21heFdpZHRoOiAnMzAwJ30pOwoKICAgICAgICAgICAgCiAgICAgICAgICAgICAgICB2YXIgaHRtbF9iMDhjMDQzMTM0OGU0NmEyOTlhYmFiMWVmZDc2ZDZjMCA9ICQoJzxkaXYgaWQ9Imh0bWxfYjA4YzA0MzEzNDhlNDZhMjk5YWJhYjFlZmQ3NmQ2YzAiIHN0eWxlPSJ3aWR0aDogMTAwLjAlOyBoZWlnaHQ6IDEwMC4wJTsiPlRhw69tIEZhbGFmZWwgYW5kIFNtb290aGllIEJhciwgOS4wPC9kaXY+JylbMF07CiAgICAgICAgICAgICAgICBwb3B1cF83NDczZjE1ZWMzYmY0ZjllOTMxN2M4Mjg4MDdiZDNjNy5zZXRDb250ZW50KGh0bWxfYjA4YzA0MzEzNDhlNDZhMjk5YWJhYjFlZmQ3NmQ2YzApOwogICAgICAgICAgICAKCiAgICAgICAgICAgIGNpcmNsZV9tYXJrZXJfNjAxMTJkYzM3YTdlNDYwZDhjMDhiNWI1NDIwMDk5ZmQuYmluZFBvcHVwKHBvcHVwXzc0NzNmMTVlYzNiZjRmOWU5MzE3YzgyODgwN2JkM2M3KTsKCiAgICAgICAgICAgIAogICAgICAgIAogICAgCiAgICAgICAgICAgIHZhciBjaXJjbGVfbWFya2VyXzAzODNjYzRlNzg2ZDQxMTNhYzcyZDI5NjUxNGFmYTU1ID0gTC5jaXJjbGVNYXJrZXIoCiAgICAgICAgICAgICAgICBbNDAuNzI3NjgwNDEzMTgsLTc0LjAwMjYxNjE0NDMyNzA1XSwKICAgICAgICAgICAgICAgIHsKICAiYnViYmxpbmdNb3VzZUV2ZW50cyI6IHRydWUsCiAgImNvbG9yIjogIm9yYW5nZSIsCiAgImRhc2hBcnJheSI6IG51bGwsCiAgImRhc2hPZmZzZXQiOiBudWxsLAogICJmaWxsIjogdHJ1ZSwKICAiZmlsbENvbG9yIjogIm9yYW5nZSIsCiAgImZpbGxPcGFjaXR5IjogMC43LAogICJmaWxsUnVsZSI6ICJldmVub2RkIiwKICAibGluZUNhcCI6ICJyb3VuZCIsCiAgImxpbmVKb2luIjogInJvdW5kIiwKICAib3BhY2l0eSI6IDEuMCwKICAicmFkaXVzIjogNSwKICAic3Ryb2tlIjogdHJ1ZSwKICAid2VpZ2h0IjogMwp9CiAgICAgICAgICAgICAgICApLmFkZFRvKG1hcF9iZTQzNmZiOGNjZGY0MzhiYjIzNDc4ZmYyMGEwZTVkMik7CiAgICAgICAgICAgIAogICAgCiAgICAgICAgICAgIHZhciBwb3B1cF9jZmI0YjQyY2ExN2M0ZTgwYWE4ZmRhYmNiZjZjYWUxOSA9IEwucG9wdXAoe21heFdpZHRoOiAnMzAwJ30pOwoKICAgICAgICAgICAgCiAgICAgICAgICAgICAgICB2YXIgaHRtbF80ZTA4NDIyYzJlZDg0MGYxYWM2ZGFhNGRlNjAwYTdhZiA9ICQoJzxkaXYgaWQ9Imh0bWxfNGUwODQyMmMyZWQ4NDBmMWFjNmRhYTRkZTYwMGE3YWYiIHN0eWxlPSJ3aWR0aDogMTAwLjAlOyBoZWlnaHQ6IDEwMC4wJTsiPjEyIENoYWlycywgOC45PC9kaXY+JylbMF07CiAgICAgICAgICAgICAgICBwb3B1cF9jZmI0YjQyY2ExN2M0ZTgwYWE4ZmRhYmNiZjZjYWUxOS5zZXRDb250ZW50KGh0bWxfNGUwODQyMmMyZWQ4NDBmMWFjNmRhYTRkZTYwMGE3YWYpOwogICAgICAgICAgICAKCiAgICAgICAgICAgIGNpcmNsZV9tYXJrZXJfMDM4M2NjNGU3ODZkNDExM2FjNzJkMjk2NTE0YWZhNTUuYmluZFBvcHVwKHBvcHVwX2NmYjRiNDJjYTE3YzRlODBhYThmZGFiY2JmNmNhZTE5KTsKCiAgICAgICAgICAgIAogICAgICAgIAogICAgCiAgICAgICAgICAgIHZhciBjaXJjbGVfbWFya2VyX2IxZmMyYmU1ZWRhZTRmOTU4MjcxNTI2YzNjOWE0MWZlID0gTC5jaXJjbGVNYXJrZXIoCiAgICAgICAgICAgICAgICBbNDAuNjg5NTYwNDc4MzkxMzUsLTczLjk3MjM1MTE1MzU3OTJdLAogICAgICAgICAgICAgICAgewogICJidWJibGluZ01vdXNlRXZlbnRzIjogdHJ1ZSwKICAiY29sb3IiOiAicmVkIiwKICAiZGFzaEFycmF5IjogbnVsbCwKICAiZGFzaE9mZnNldCI6IG51bGwsCiAgImZpbGwiOiB0cnVlLAogICJmaWxsQ29sb3IiOiAicmVkIiwKICAiZmlsbE9wYWNpdHkiOiAwLjcsCiAgImZpbGxSdWxlIjogImV2ZW5vZGQiLAogICJsaW5lQ2FwIjogInJvdW5kIiwKICAibGluZUpvaW4iOiAicm91bmQiLAogICJvcGFjaXR5IjogMS4wLAogICJyYWRpdXMiOiA1LAogICJzdHJva2UiOiB0cnVlLAogICJ3ZWlnaHQiOiAzCn0KICAgICAgICAgICAgICAgICkuYWRkVG8obWFwX2JlNDM2ZmI4Y2NkZjQzOGJiMjM0NzhmZjIwYTBlNWQyKTsKICAgICAgICAgICAgCiAgICAKICAgICAgICAgICAgdmFyIHBvcHVwXzZjYzQ4Y2U1MGE0OTQ0NTA4ZDhmZGJiODgwYTE5YTdjID0gTC5wb3B1cCh7bWF4V2lkdGg6ICczMDAnfSk7CgogICAgICAgICAgICAKICAgICAgICAgICAgICAgIHZhciBodG1sXzdmMGVhY2M4ZmQ5NzQ2ZjA5YzBkMjg4YmRmYjU5NTUyID0gJCgnPGRpdiBpZD0iaHRtbF83ZjBlYWNjOGZkOTc0NmYwOWMwZDI4OGJkZmI1OTU1MiIgc3R5bGU9IndpZHRoOiAxMDAuMCU7IGhlaWdodDogMTAwLjAlOyI+TWlzcyBBZGEsIDkuMzwvZGl2PicpWzBdOwogICAgICAgICAgICAgICAgcG9wdXBfNmNjNDhjZTUwYTQ5NDQ1MDhkOGZkYmI4ODBhMTlhN2Muc2V0Q29udGVudChodG1sXzdmMGVhY2M4ZmQ5NzQ2ZjA5YzBkMjg4YmRmYjU5NTUyKTsKICAgICAgICAgICAgCgogICAgICAgICAgICBjaXJjbGVfbWFya2VyX2IxZmMyYmU1ZWRhZTRmOTU4MjcxNTI2YzNjOWE0MWZlLmJpbmRQb3B1cChwb3B1cF82Y2M0OGNlNTBhNDk0NDUwOGQ4ZmRiYjg4MGExOWE3Yyk7CgogICAgICAgICAgICAKICAgICAgICAKICAgIAogICAgICAgICAgICB2YXIgY2lyY2xlX21hcmtlcl8xNjUyMzIwMTc1Yzk0OGI1ODJhNDliYjNiY2JmNTM3YSA9IEwuY2lyY2xlTWFya2VyKAogICAgICAgICAgICAgICAgWzQwLjczODU0LC03My45ODg4XSwKICAgICAgICAgICAgICAgIHsKICAiYnViYmxpbmdNb3VzZUV2ZW50cyI6IHRydWUsCiAgImNvbG9yIjogIm9yYW5nZSIsCiAgImRhc2hBcnJheSI6IG51bGwsCiAgImRhc2hPZmZzZXQiOiBudWxsLAogICJmaWxsIjogdHJ1ZSwKICAiZmlsbENvbG9yIjogIm9yYW5nZSIsCiAgImZpbGxPcGFjaXR5IjogMC43LAogICJmaWxsUnVsZSI6ICJldmVub2RkIiwKICAibGluZUNhcCI6ICJyb3VuZCIsCiAgImxpbmVKb2luIjogInJvdW5kIiwKICAib3BhY2l0eSI6IDEuMCwKICAicmFkaXVzIjogNSwKICAic3Ryb2tlIjogdHJ1ZSwKICAid2VpZ2h0IjogMwp9CiAgICAgICAgICAgICAgICApLmFkZFRvKG1hcF9iZTQzNmZiOGNjZGY0MzhiYjIzNDc4ZmYyMGEwZTVkMik7CiAgICAgICAgICAgIAogICAgCiAgICAgICAgICAgIHZhciBwb3B1cF80ZWYyZDk0MDk5NDI0ZGFmYWNkZTBhOTYyMTE2NjAxMyA9IEwucG9wdXAoe21heFdpZHRoOiAnMzAwJ30pOwoKICAgICAgICAgICAgCiAgICAgICAgICAgICAgICB2YXIgaHRtbF8xNDY0NWQ3YjdkMjM0MmQ0YTNhM2Y1Mjg2NjNhMTUwZSA9ICQoJzxkaXYgaWQ9Imh0bWxfMTQ2NDVkN2I3ZDIzNDJkNGEzYTNmNTI4NjYzYTE1MGUiIHN0eWxlPSJ3aWR0aDogMTAwLjAlOyBoZWlnaHQ6IDEwMC4wJTsiPk51ciwgOC43PC9kaXY+JylbMF07CiAgICAgICAgICAgICAgICBwb3B1cF80ZWYyZDk0MDk5NDI0ZGFmYWNkZTBhOTYyMTE2NjAxMy5zZXRDb250ZW50KGh0bWxfMTQ2NDVkN2I3ZDIzNDJkNGEzYTNmNTI4NjYzYTE1MGUpOwogICAgICAgICAgICAKCiAgICAgICAgICAgIGNpcmNsZV9tYXJrZXJfMTY1MjMyMDE3NWM5NDhiNTgyYTQ5YmIzYmNiZjUzN2EuYmluZFBvcHVwKHBvcHVwXzRlZjJkOTQwOTk0MjRkYWZhY2RlMGE5NjIxMTY2MDEzKTsKCiAgICAgICAgICAgIAogICAgICAgIAogICAgCiAgICAgICAgICAgIHZhciBjaXJjbGVfbWFya2VyX2JhMjk4NWY0OWJmYjQ3ZDI5YjY4ZjMyNWU5Mzk1YTg4ID0gTC5jaXJjbGVNYXJrZXIoCiAgICAgICAgICAgICAgICBbNDAuNzIzODQ5Mjk0NzQ1NzA1LC03My45ODc5NTQxNzgyNzU5MV0sCiAgICAgICAgICAgICAgICB7CiAgImJ1YmJsaW5nTW91c2VFdmVudHMiOiB0cnVlLAogICJjb2xvciI6ICJvcmFuZ2UiLAogICJkYXNoQXJyYXkiOiBudWxsLAogICJkYXNoT2Zmc2V0IjogbnVsbCwKICAiZmlsbCI6IHRydWUsCiAgImZpbGxDb2xvciI6ICJvcmFuZ2UiLAogICJmaWxsT3BhY2l0eSI6IDAuNywKICAiZmlsbFJ1bGUiOiAiZXZlbm9kZCIsCiAgImxpbmVDYXAiOiAicm91bmQiLAogICJsaW5lSm9pbiI6ICJyb3VuZCIsCiAgIm9wYWNpdHkiOiAxLjAsCiAgInJhZGl1cyI6IDUsCiAgInN0cm9rZSI6IHRydWUsCiAgIndlaWdodCI6IDMKfQogICAgICAgICAgICAgICAgKS5hZGRUbyhtYXBfYmU0MzZmYjhjY2RmNDM4YmIyMzQ3OGZmMjBhMGU1ZDIpOwogICAgICAgICAgICAKICAgIAogICAgICAgICAgICB2YXIgcG9wdXBfYWE4ZjgyNDkwNjQ5NDFjYWI2NGUyOTEyZTViYzY3MjUgPSBMLnBvcHVwKHttYXhXaWR0aDogJzMwMCd9KTsKCiAgICAgICAgICAgIAogICAgICAgICAgICAgICAgdmFyIGh0bWxfYTMwMzgwMmU1ZmVhNDBkZWE1MzFiYzYwZTUyY2YyZTMgPSAkKCc8ZGl2IGlkPSJodG1sX2EzMDM4MDJlNWZlYTQwZGVhNTMxYmM2MGU1MmNmMmUzIiBzdHlsZT0id2lkdGg6IDEwMC4wJTsgaGVpZ2h0OiAxMDAuMCU7Ij5TcGllZ2VsLCA4LjI8L2Rpdj4nKVswXTsKICAgICAgICAgICAgICAgIHBvcHVwX2FhOGY4MjQ5MDY0OTQxY2FiNjRlMjkxMmU1YmM2NzI1LnNldENvbnRlbnQoaHRtbF9hMzAzODAyZTVmZWE0MGRlYTUzMWJjNjBlNTJjZjJlMyk7CiAgICAgICAgICAgIAoKICAgICAgICAgICAgY2lyY2xlX21hcmtlcl9iYTI5ODVmNDliZmI0N2QyOWI2OGYzMjVlOTM5NWE4OC5iaW5kUG9wdXAocG9wdXBfYWE4ZjgyNDkwNjQ5NDFjYWI2NGUyOTEyZTViYzY3MjUpOwoKICAgICAgICAgICAgCiAgICAgICAgCiAgICAKICAgICAgICAgICAgdmFyIGNpcmNsZV9tYXJrZXJfZjJjOWMyMTUzYjY0NDk4MWJlNTU1ZTZhNGFiYTM2NjEgPSBMLmNpcmNsZU1hcmtlcigKICAgICAgICAgICAgICAgIFs0MC43MzU5NzAxMDI0OTE5MjYsLTc0LjAwMTk0MDE5MDc5MjA3XSwKICAgICAgICAgICAgICAgIHsKICAiYnViYmxpbmdNb3VzZUV2ZW50cyI6IHRydWUsCiAgImNvbG9yIjogInJlZCIsCiAgImRhc2hBcnJheSI6IG51bGwsCiAgImRhc2hPZmZzZXQiOiBudWxsLAogICJmaWxsIjogdHJ1ZSwKICAiZmlsbENvbG9yIjogInJlZCIsCiAgImZpbGxPcGFjaXR5IjogMC43LAogICJmaWxsUnVsZSI6ICJldmVub2RkIiwKICAibGluZUNhcCI6ICJyb3VuZCIsCiAgImxpbmVKb2luIjogInJvdW5kIiwKICAib3BhY2l0eSI6IDEuMCwKICAicmFkaXVzIjogNSwKICAic3Ryb2tlIjogdHJ1ZSwKICAid2VpZ2h0IjogMwp9CiAgICAgICAgICAgICAgICApLmFkZFRvKG1hcF9iZTQzNmZiOGNjZGY0MzhiYjIzNDc4ZmYyMGEwZTVkMik7CiAgICAgICAgICAgIAogICAgCiAgICAgICAgICAgIHZhciBwb3B1cF81ZWUwYWEzOGYxOTI0NDg5YWY2MTRiMzUzYTliM2NiZSA9IEwucG9wdXAoe21heFdpZHRoOiAnMzAwJ30pOwoKICAgICAgICAgICAgCiAgICAgICAgICAgICAgICB2YXIgaHRtbF9kZDlmODYxMmJiMjM0Yjc4OGYwNWY1Zjc5ZmFkODkyNyA9ICQoJzxkaXYgaWQ9Imh0bWxfZGQ5Zjg2MTJiYjIzNGI3ODhmMDVmNWY3OWZhZDg5MjciIHN0eWxlPSJ3aWR0aDogMTAwLjAlOyBoZWlnaHQ6IDEwMC4wJTsiPlRhw69tLCA5LjI8L2Rpdj4nKVswXTsKICAgICAgICAgICAgICAgIHBvcHVwXzVlZTBhYTM4ZjE5MjQ0ODlhZjYxNGIzNTNhOWIzY2JlLnNldENvbnRlbnQoaHRtbF9kZDlmODYxMmJiMjM0Yjc4OGYwNWY1Zjc5ZmFkODkyNyk7CiAgICAgICAgICAgIAoKICAgICAgICAgICAgY2lyY2xlX21hcmtlcl9mMmM5YzIxNTNiNjQ0OTgxYmU1NTVlNmE0YWJhMzY2MS5iaW5kUG9wdXAocG9wdXBfNWVlMGFhMzhmMTkyNDQ4OWFmNjE0YjM1M2E5YjNjYmUpOwoKICAgICAgICAgICAgCiAgICAgICAgCiAgICAKICAgICAgICAgICAgdmFyIGNpcmNsZV9tYXJrZXJfNjgxMDVmZTI4M2Q5NDZmOTgzNTc1YjRlZGRmNWMxNWEgPSBMLmNpcmNsZU1hcmtlcigKICAgICAgICAgICAgICAgIFs0MC43MTQyNTY3Njg3MDUyMDUsLTczLjk4NzE1Njk0NDMwMDAxXSwKICAgICAgICAgICAgICAgIHsKICAiYnViYmxpbmdNb3VzZUV2ZW50cyI6IHRydWUsCiAgImNvbG9yIjogIm9yYW5nZSIsCiAgImRhc2hBcnJheSI6IG51bGwsCiAgImRhc2hPZmZzZXQiOiBudWxsLAogICJmaWxsIjogdHJ1ZSwKICAiZmlsbENvbG9yIjogIm9yYW5nZSIsCiAgImZpbGxPcGFjaXR5IjogMC43LAogICJmaWxsUnVsZSI6ICJldmVub2RkIiwKICAibGluZUNhcCI6ICJyb3VuZCIsCiAgImxpbmVKb2luIjogInJvdW5kIiwKICAib3BhY2l0eSI6IDEuMCwKICAicmFkaXVzIjogNSwKICAic3Ryb2tlIjogdHJ1ZSwKICAid2VpZ2h0IjogMwp9CiAgICAgICAgICAgICAgICApLmFkZFRvKG1hcF9iZTQzNmZiOGNjZGY0MzhiYjIzNDc4ZmYyMGEwZTVkMik7CiAgICAgICAgICAgIAogICAgCiAgICAgICAgICAgIHZhciBwb3B1cF81MTFlOWNlYWM0YjI0ZjI4YTM2NjU1YjgzNWJkMmQ1NyA9IEwucG9wdXAoe21heFdpZHRoOiAnMzAwJ30pOwoKICAgICAgICAgICAgCiAgICAgICAgICAgICAgICB2YXIgaHRtbF9jYWNmYjJjNGM2Y2U0NTMyYTFlZWQwMjlhNGIwYzJhZCA9ICQoJzxkaXYgaWQ9Imh0bWxfY2FjZmIyYzRjNmNlNDUzMmExZWVkMDI5YTRiMGMyYWQiIHN0eWxlPSJ3aWR0aDogMTAwLjAlOyBoZWlnaHQ6IDEwMC4wJTsiPkVhc3R3b29kLCA4Ljc8L2Rpdj4nKVswXTsKICAgICAgICAgICAgICAgIHBvcHVwXzUxMWU5Y2VhYzRiMjRmMjhhMzY2NTViODM1YmQyZDU3LnNldENvbnRlbnQoaHRtbF9jYWNmYjJjNGM2Y2U0NTMyYTFlZWQwMjlhNGIwYzJhZCk7CiAgICAgICAgICAgIAoKICAgICAgICAgICAgY2lyY2xlX21hcmtlcl82ODEwNWZlMjgzZDk0NmY5ODM1NzViNGVkZGY1YzE1YS5iaW5kUG9wdXAocG9wdXBfNTExZTljZWFjNGIyNGYyOGEzNjY1NWI4MzViZDJkNTcpOwoKICAgICAgICAgICAgCiAgICAgICAgCiAgICAKICAgICAgICAgICAgdmFyIGNpcmNsZV9tYXJrZXJfYjVmNmIzYTBhY2I3NDUzMmIzOWFlZWNlOWYxYzViNzEgPSBMLmNpcmNsZU1hcmtlcigKICAgICAgICAgICAgICAgIFs0MC42ODAyODIxMjI3ODkzNjUsLTczLjk3Nzc3NzE0Mzc0OTFdLAogICAgICAgICAgICAgICAgewogICJidWJibGluZ01vdXNlRXZlbnRzIjogdHJ1ZSwKICAiY29sb3IiOiAib3JhbmdlIiwKICAiZGFzaEFycmF5IjogbnVsbCwKICAiZGFzaE9mZnNldCI6IG51bGwsCiAgImZpbGwiOiB0cnVlLAogICJmaWxsQ29sb3IiOiAib3JhbmdlIiwKICAiZmlsbE9wYWNpdHkiOiAwLjcsCiAgImZpbGxSdWxlIjogImV2ZW5vZGQiLAogICJsaW5lQ2FwIjogInJvdW5kIiwKICAibGluZUpvaW4iOiAicm91bmQiLAogICJvcGFjaXR5IjogMS4wLAogICJyYWRpdXMiOiA1LAogICJzdHJva2UiOiB0cnVlLAogICJ3ZWlnaHQiOiAzCn0KICAgICAgICAgICAgICAgICkuYWRkVG8obWFwX2JlNDM2ZmI4Y2NkZjQzOGJiMjM0NzhmZjIwYTBlNWQyKTsKICAgICAgICAgICAgCiAgICAKICAgICAgICAgICAgdmFyIHBvcHVwX2NmMDhmOGVjN2ViMDRmYjdhMjllYTZkNWU0MmQ1NGJhID0gTC5wb3B1cCh7bWF4V2lkdGg6ICczMDAnfSk7CgogICAgICAgICAgICAKICAgICAgICAgICAgICAgIHZhciBodG1sXzBhNGU3MjExYzhjZTQyMWY5Zjc1MjY0NjRiNjRjZjQ5ID0gJCgnPGRpdiBpZD0iaHRtbF8wYTRlNzIxMWM4Y2U0MjFmOWY3NTI2NDY0YjY0Y2Y0OSIgc3R5bGU9IndpZHRoOiAxMDAuMCU7IGhlaWdodDogMTAwLjAlOyI+TWlyaWFtLCA4Ljc8L2Rpdj4nKVswXTsKICAgICAgICAgICAgICAgIHBvcHVwX2NmMDhmOGVjN2ViMDRmYjdhMjllYTZkNWU0MmQ1NGJhLnNldENvbnRlbnQoaHRtbF8wYTRlNzIxMWM4Y2U0MjFmOWY3NTI2NDY0YjY0Y2Y0OSk7CiAgICAgICAgICAgIAoKICAgICAgICAgICAgY2lyY2xlX21hcmtlcl9iNWY2YjNhMGFjYjc0NTMyYjM5YWVlY2U5ZjFjNWI3MS5iaW5kUG9wdXAocG9wdXBfY2YwOGY4ZWM3ZWIwNGZiN2EyOWVhNmQ1ZTQyZDU0YmEpOwoKICAgICAgICAgICAgCiAgICAgICAgCiAgICAKICAgICAgICAgICAgdmFyIGNpcmNsZV9tYXJrZXJfNTIxYjBkMzBjNTE2NDg5YWE5YjI4ZGU3YzA4OTNmYTAgPSBMLmNpcmNsZU1hcmtlcigKICAgICAgICAgICAgICAgIFs0MC43NDIzODQxMzIzMjI3OCwtNzQuMDA2NDU1NjY4Njg4NjddLAogICAgICAgICAgICAgICAgewogICJidWJibGluZ01vdXNlRXZlbnRzIjogdHJ1ZSwKICAiY29sb3IiOiAib3JhbmdlIiwKICAiZGFzaEFycmF5IjogbnVsbCwKICAiZGFzaE9mZnNldCI6IG51bGwsCiAgImZpbGwiOiB0cnVlLAogICJmaWxsQ29sb3IiOiAib3JhbmdlIiwKICAiZmlsbE9wYWNpdHkiOiAwLjcsCiAgImZpbGxSdWxlIjogImV2ZW5vZGQiLAogICJsaW5lQ2FwIjogInJvdW5kIiwKICAibGluZUpvaW4iOiAicm91bmQiLAogICJvcGFjaXR5IjogMS4wLAogICJyYWRpdXMiOiA1LAogICJzdHJva2UiOiB0cnVlLAogICJ3ZWlnaHQiOiAzCn0KICAgICAgICAgICAgICAgICkuYWRkVG8obWFwX2JlNDM2ZmI4Y2NkZjQzOGJiMjM0NzhmZjIwYTBlNWQyKTsKICAgICAgICAgICAgCiAgICAKICAgICAgICAgICAgdmFyIHBvcHVwX2I5MTgyZTJlZWQ5NjQ1NzdhOGZlMGJlNTcyMmUzMzhhID0gTC5wb3B1cCh7bWF4V2lkdGg6ICczMDAnfSk7CgogICAgICAgICAgICAKICAgICAgICAgICAgICAgIHZhciBodG1sXzVkZDJmNjEwOTZmYjQ0MGM4YzdhNjgzNDBhN2IxY2I4ID0gJCgnPGRpdiBpZD0iaHRtbF81ZGQyZjYxMDk2ZmI0NDBjOGM3YTY4MzQwYTdiMWNiOCIgc3R5bGU9IndpZHRoOiAxMDAuMCU7IGhlaWdodDogMTAwLjAlOyI+TWl6bm9uLCA4LjY8L2Rpdj4nKVswXTsKICAgICAgICAgICAgICAgIHBvcHVwX2I5MTgyZTJlZWQ5NjQ1NzdhOGZlMGJlNTcyMmUzMzhhLnNldENvbnRlbnQoaHRtbF81ZGQyZjYxMDk2ZmI0NDBjOGM3YTY4MzQwYTdiMWNiOCk7CiAgICAgICAgICAgIAoKICAgICAgICAgICAgY2lyY2xlX21hcmtlcl81MjFiMGQzMGM1MTY0ODlhYTliMjhkZTdjMDg5M2ZhMC5iaW5kUG9wdXAocG9wdXBfYjkxODJlMmVlZDk2NDU3N2E4ZmUwYmU1NzIyZTMzOGEpOwoKICAgICAgICAgICAgCiAgICAgICAgCiAgICAKICAgICAgICAgICAgdmFyIGNpcmNsZV9tYXJrZXJfMjc1MzY2ZWIzNDVhNGI2NmE5YjcxYTcyOTlhYzkzMjUgPSBMLmNpcmNsZU1hcmtlcigKICAgICAgICAgICAgICAgIFs0MC43MzA5OTcyMTUxOTUwNzUsLTczLjk5MzM2MzgzNjEyMTk2XSwKICAgICAgICAgICAgICAgIHsKICAiYnViYmxpbmdNb3VzZUV2ZW50cyI6IHRydWUsCiAgImNvbG9yIjogIm9yYW5nZSIsCiAgImRhc2hBcnJheSI6IG51bGwsCiAgImRhc2hPZmZzZXQiOiBudWxsLAogICJmaWxsIjogdHJ1ZSwKICAiZmlsbENvbG9yIjogIm9yYW5nZSIsCiAgImZpbGxPcGFjaXR5IjogMC43LAogICJmaWxsUnVsZSI6ICJldmVub2RkIiwKICAibGluZUNhcCI6ICJyb3VuZCIsCiAgImxpbmVKb2luIjogInJvdW5kIiwKICAib3BhY2l0eSI6IDEuMCwKICAicmFkaXVzIjogNSwKICAic3Ryb2tlIjogdHJ1ZSwKICAid2VpZ2h0IjogMwp9CiAgICAgICAgICAgICAgICApLmFkZFRvKG1hcF9iZTQzNmZiOGNjZGY0MzhiYjIzNDc4ZmYyMGEwZTVkMik7CiAgICAgICAgICAgIAogICAgCiAgICAgICAgICAgIHZhciBwb3B1cF85YTE3ZDMzZGEzNDI0NGM2YTAyNmNkZDJhNTU3MGJkZSA9IEwucG9wdXAoe21heFdpZHRoOiAnMzAwJ30pOwoKICAgICAgICAgICAgCiAgICAgICAgICAgICAgICB2YXIgaHRtbF9hZGM1YzQ0MDczMzk0MzQ3ODM4MjU3YWFkNjk2ZjIzMCA9ICQoJzxkaXYgaWQ9Imh0bWxfYWRjNWM0NDA3MzM5NDM0NzgzODI1N2FhZDY5NmYyMzAiIHN0eWxlPSJ3aWR0aDogMTAwLjAlOyBoZWlnaHQ6IDEwMC4wJTsiPlN1bnNoaW5lIEh1bW11cywgOC42PC9kaXY+JylbMF07CiAgICAgICAgICAgICAgICBwb3B1cF85YTE3ZDMzZGEzNDI0NGM2YTAyNmNkZDJhNTU3MGJkZS5zZXRDb250ZW50KGh0bWxfYWRjNWM0NDA3MzM5NDM0NzgzODI1N2FhZDY5NmYyMzApOwogICAgICAgICAgICAKCiAgICAgICAgICAgIGNpcmNsZV9tYXJrZXJfMjc1MzY2ZWIzNDVhNGI2NmE5YjcxYTcyOTlhYzkzMjUuYmluZFBvcHVwKHBvcHVwXzlhMTdkMzNkYTM0MjQ0YzZhMDI2Y2RkMmE1NTcwYmRlKTsKCiAgICAgICAgICAgIAogICAgICAgIAogICAgCiAgICAgICAgICAgIHZhciBjaXJjbGVfbWFya2VyXzUyY2RlNGU2N2EwOTRjNmI4MWY1MmY1OWFhZDI3MGZmID0gTC5jaXJjbGVNYXJrZXIoCiAgICAgICAgICAgICAgICBbNDAuNzM1MzQxMTA1MzY5OTksLTczLjk5ODA3ODg4MjYwNTkxXSwKICAgICAgICAgICAgICAgIHsKICAiYnViYmxpbmdNb3VzZUV2ZW50cyI6IHRydWUsCiAgImNvbG9yIjogIm9yYW5nZSIsCiAgImRhc2hBcnJheSI6IG51bGwsCiAgImRhc2hPZmZzZXQiOiBudWxsLAogICJmaWxsIjogdHJ1ZSwKICAiZmlsbENvbG9yIjogIm9yYW5nZSIsCiAgImZpbGxPcGFjaXR5IjogMC43LAogICJmaWxsUnVsZSI6ICJldmVub2RkIiwKICAibGluZUNhcCI6ICJyb3VuZCIsCiAgImxpbmVKb2luIjogInJvdW5kIiwKICAib3BhY2l0eSI6IDEuMCwKICAicmFkaXVzIjogNSwKICAic3Ryb2tlIjogdHJ1ZSwKICAid2VpZ2h0IjogMwp9CiAgICAgICAgICAgICAgICApLmFkZFRvKG1hcF9iZTQzNmZiOGNjZGY0MzhiYjIzNDc4ZmYyMGEwZTVkMik7CiAgICAgICAgICAgIAogICAgCiAgICAgICAgICAgIHZhciBwb3B1cF9iMDMzYTEyODRjZWM0OWZkODlhMWU3YmI5Y2ZlMjIxZiA9IEwucG9wdXAoe21heFdpZHRoOiAnMzAwJ30pOwoKICAgICAgICAgICAgCiAgICAgICAgICAgICAgICB2YXIgaHRtbF80ZjhlNmVjZWQwZDA0NzFjYWY4MGNjMjQyODAyY2UyNyA9ICQoJzxkaXYgaWQ9Imh0bWxfNGY4ZTZlY2VkMGQwNDcxY2FmODBjYzI0MjgwMmNlMjciIHN0eWxlPSJ3aWR0aDogMTAwLjAlOyBoZWlnaHQ6IDEwMC4wJTsiPkt1YmVoLCA4LjQ8L2Rpdj4nKVswXTsKICAgICAgICAgICAgICAgIHBvcHVwX2IwMzNhMTI4NGNlYzQ5ZmQ4OWExZTdiYjljZmUyMjFmLnNldENvbnRlbnQoaHRtbF80ZjhlNmVjZWQwZDA0NzFjYWY4MGNjMjQyODAyY2UyNyk7CiAgICAgICAgICAgIAoKICAgICAgICAgICAgY2lyY2xlX21hcmtlcl81MmNkZTRlNjdhMDk0YzZiODFmNTJmNTlhYWQyNzBmZi5iaW5kUG9wdXAocG9wdXBfYjAzM2ExMjg0Y2VjNDlmZDg5YTFlN2JiOWNmZTIyMWYpOwoKICAgICAgICAgICAgCiAgICAgICAgCiAgICAKICAgICAgICAgICAgdmFyIGNpcmNsZV9tYXJrZXJfNTllM2NkYTc0NGU3NDJjNmEwZTcwZDFhOTliYjZmMjAgPSBMLmNpcmNsZU1hcmtlcigKICAgICAgICAgICAgICAgIFs0MC43MTY3OTgsLTczLjk1MTkzNF0sCiAgICAgICAgICAgICAgICB7CiAgImJ1YmJsaW5nTW91c2VFdmVudHMiOiB0cnVlLAogICJjb2xvciI6ICJvcmFuZ2UiLAogICJkYXNoQXJyYXkiOiBudWxsLAogICJkYXNoT2Zmc2V0IjogbnVsbCwKICAiZmlsbCI6IHRydWUsCiAgImZpbGxDb2xvciI6ICJvcmFuZ2UiLAogICJmaWxsT3BhY2l0eSI6IDAuNywKICAiZmlsbFJ1bGUiOiAiZXZlbm9kZCIsCiAgImxpbmVDYXAiOiAicm91bmQiLAogICJsaW5lSm9pbiI6ICJyb3VuZCIsCiAgIm9wYWNpdHkiOiAxLjAsCiAgInJhZGl1cyI6IDUsCiAgInN0cm9rZSI6IHRydWUsCiAgIndlaWdodCI6IDMKfQogICAgICAgICAgICAgICAgKS5hZGRUbyhtYXBfYmU0MzZmYjhjY2RmNDM4YmIyMzQ3OGZmMjBhMGU1ZDIpOwogICAgICAgICAgICAKICAgIAogICAgICAgICAgICB2YXIgcG9wdXBfNDk3NzQ1ZmNjODA3NGI3ODgwZGMzYTk4M2Q3NmQyMjUgPSBMLnBvcHVwKHttYXhXaWR0aDogJzMwMCd9KTsKCiAgICAgICAgICAgIAogICAgICAgICAgICAgICAgdmFyIGh0bWxfNmUzMWVmODhlNWY4NDJjMGJmOWMwM2I2YTAxZDFiNGIgPSAkKCc8ZGl2IGlkPSJodG1sXzZlMzFlZjg4ZTVmODQyYzBiZjljMDNiNmEwMWQxYjRiIiBzdHlsZT0id2lkdGg6IDEwMC4wJTsgaGVpZ2h0OiAxMDAuMCU7Ij5SZXVuaW9uIENhZmUsIDguNzwvZGl2PicpWzBdOwogICAgICAgICAgICAgICAgcG9wdXBfNDk3NzQ1ZmNjODA3NGI3ODgwZGMzYTk4M2Q3NmQyMjUuc2V0Q29udGVudChodG1sXzZlMzFlZjg4ZTVmODQyYzBiZjljMDNiNmEwMWQxYjRiKTsKICAgICAgICAgICAgCgogICAgICAgICAgICBjaXJjbGVfbWFya2VyXzU5ZTNjZGE3NDRlNzQyYzZhMGU3MGQxYTk5YmI2ZjIwLmJpbmRQb3B1cChwb3B1cF80OTc3NDVmY2M4MDc0Yjc4ODBkYzNhOTgzZDc2ZDIyNSk7CgogICAgICAgICAgICAKICAgICAgICAKICAgIAogICAgICAgICAgICB2YXIgY2lyY2xlX21hcmtlcl8yNjUzYmRkMjZmOWY0NWM1ODM4YTRmZmY0N2FmM2FiMyA9IEwuY2lyY2xlTWFya2VyKAogICAgICAgICAgICAgICAgWzQwLjc4MDE0ODUxNzg4MDk5LC03My45ODA1NTY0ODMzMzY5NV0sCiAgICAgICAgICAgICAgICB7CiAgImJ1YmJsaW5nTW91c2VFdmVudHMiOiB0cnVlLAogICJjb2xvciI6ICJvcmFuZ2UiLAogICJkYXNoQXJyYXkiOiBudWxsLAogICJkYXNoT2Zmc2V0IjogbnVsbCwKICAiZmlsbCI6IHRydWUsCiAgImZpbGxDb2xvciI6ICJvcmFuZ2UiLAogICJmaWxsT3BhY2l0eSI6IDAuNywKICAiZmlsbFJ1bGUiOiAiZXZlbm9kZCIsCiAgImxpbmVDYXAiOiAicm91bmQiLAogICJsaW5lSm9pbiI6ICJyb3VuZCIsCiAgIm9wYWNpdHkiOiAxLjAsCiAgInJhZGl1cyI6IDUsCiAgInN0cm9rZSI6IHRydWUsCiAgIndlaWdodCI6IDMKfQogICAgICAgICAgICAgICAgKS5hZGRUbyhtYXBfYmU0MzZmYjhjY2RmNDM4YmIyMzQ3OGZmMjBhMGU1ZDIpOwogICAgICAgICAgICAKICAgIAogICAgICAgICAgICB2YXIgcG9wdXBfMDA3NTI3ODNlMmFmNGU4MmE4YmEwNTgxMTFmNzZiZjEgPSBMLnBvcHVwKHttYXhXaWR0aDogJzMwMCd9KTsKCiAgICAgICAgICAgIAogICAgICAgICAgICAgICAgdmFyIGh0bWxfNjRjOTk1NzJjYjAxNDYwOTk0YTYwNTQ3YTY5MGVmNDUgPSAkKCc8ZGl2IGlkPSJodG1sXzY0Yzk5NTcyY2IwMTQ2MDk5NGE2MDU0N2E2OTBlZjQ1IiBzdHlsZT0id2lkdGg6IDEwMC4wJTsgaGVpZ2h0OiAxMDAuMCU7Ij5IdW1tdXMgUGxhY2UsIDguNjwvZGl2PicpWzBdOwogICAgICAgICAgICAgICAgcG9wdXBfMDA3NTI3ODNlMmFmNGU4MmE4YmEwNTgxMTFmNzZiZjEuc2V0Q29udGVudChodG1sXzY0Yzk5NTcyY2IwMTQ2MDk5NGE2MDU0N2E2OTBlZjQ1KTsKICAgICAgICAgICAgCgogICAgICAgICAgICBjaXJjbGVfbWFya2VyXzI2NTNiZGQyNmY5ZjQ1YzU4MzhhNGZmZjQ3YWYzYWIzLmJpbmRQb3B1cChwb3B1cF8wMDc1Mjc4M2UyYWY0ZTgyYThiYTA1ODExMWY3NmJmMSk7CgogICAgICAgICAgICAKICAgICAgICAKICAgIAogICAgICAgICAgICB2YXIgY2lyY2xlX21hcmtlcl9jMDZkMTFiODE1ZWM0N2Y4YjE5MWM3NTMzZjYzMjllMSA9IEwuY2lyY2xlTWFya2VyKAogICAgICAgICAgICAgICAgWzQwLjcyMjAyMiwtNzMuOTk3NTI4XSwKICAgICAgICAgICAgICAgIHsKICAiYnViYmxpbmdNb3VzZUV2ZW50cyI6IHRydWUsCiAgImNvbG9yIjogIm9yYW5nZSIsCiAgImRhc2hBcnJheSI6IG51bGwsCiAgImRhc2hPZmZzZXQiOiBudWxsLAogICJmaWxsIjogdHJ1ZSwKICAiZmlsbENvbG9yIjogIm9yYW5nZSIsCiAgImZpbGxPcGFjaXR5IjogMC43LAogICJmaWxsUnVsZSI6ICJldmVub2RkIiwKICAibGluZUNhcCI6ICJyb3VuZCIsCiAgImxpbmVKb2luIjogInJvdW5kIiwKICAib3BhY2l0eSI6IDEuMCwKICAicmFkaXVzIjogNSwKICAic3Ryb2tlIjogdHJ1ZSwKICAid2VpZ2h0IjogMwp9CiAgICAgICAgICAgICAgICApLmFkZFRvKG1hcF9iZTQzNmZiOGNjZGY0MzhiYjIzNDc4ZmYyMGEwZTVkMik7CiAgICAgICAgICAgIAogICAgCiAgICAgICAgICAgIHZhciBwb3B1cF8yMTZiMWYxODViMGQ0Y2M4OTNiYjgxMDM3OGMwZDMyYSA9IEwucG9wdXAoe21heFdpZHRoOiAnMzAwJ30pOwoKICAgICAgICAgICAgCiAgICAgICAgICAgICAgICB2YXIgaHRtbF9iM2QxYTYyMmFjYzk0NWM5Yjk5MzA1NDY3ZjBjMGUwOSA9ICQoJzxkaXYgaWQ9Imh0bWxfYjNkMWE2MjJhY2M5NDVjOWI5OTMwNTQ2N2YwYzBlMDkiIHN0eWxlPSJ3aWR0aDogMTAwLjAlOyBoZWlnaHQ6IDEwMC4wJTsiPkphY2smIzM5O3MgV2lmZSBGcmVkYSwgOC43PC9kaXY+JylbMF07CiAgICAgICAgICAgICAgICBwb3B1cF8yMTZiMWYxODViMGQ0Y2M4OTNiYjgxMDM3OGMwZDMyYS5zZXRDb250ZW50KGh0bWxfYjNkMWE2MjJhY2M5NDVjOWI5OTMwNTQ2N2YwYzBlMDkpOwogICAgICAgICAgICAKCiAgICAgICAgICAgIGNpcmNsZV9tYXJrZXJfYzA2ZDExYjgxNWVjNDdmOGIxOTFjNzUzM2Y2MzI5ZTEuYmluZFBvcHVwKHBvcHVwXzIxNmIxZjE4NWIwZDRjYzg5M2JiODEwMzc4YzBkMzJhKTsKCiAgICAgICAgICAgIAogICAgICAgIAogICAgCiAgICAgICAgICAgIHZhciBjaXJjbGVfbWFya2VyX2Q1YTZiZTU5ZmVmYzQxYTBiNGY3ZThlYjY5MjAyNTY4ID0gTC5jaXJjbGVNYXJrZXIoCiAgICAgICAgICAgICAgICBbNDAuNzE1NTM3MTAxMTY0MTYsLTc0LjAwNzcyNDUyOTI1NTY1XSwKICAgICAgICAgICAgICAgIHsKICAiYnViYmxpbmdNb3VzZUV2ZW50cyI6IHRydWUsCiAgImNvbG9yIjogInJlZCIsCiAgImRhc2hBcnJheSI6IG51bGwsCiAgImRhc2hPZmZzZXQiOiBudWxsLAogICJmaWxsIjogdHJ1ZSwKICAiZmlsbENvbG9yIjogInJlZCIsCiAgImZpbGxPcGFjaXR5IjogMC43LAogICJmaWxsUnVsZSI6ICJldmVub2RkIiwKICAibGluZUNhcCI6ICJyb3VuZCIsCiAgImxpbmVKb2luIjogInJvdW5kIiwKICAib3BhY2l0eSI6IDEuMCwKICAicmFkaXVzIjogNSwKICAic3Ryb2tlIjogdHJ1ZSwKICAid2VpZ2h0IjogMwp9CiAgICAgICAgICAgICAgICApLmFkZFRvKG1hcF9iZTQzNmZiOGNjZGY0MzhiYjIzNDc4ZmYyMGEwZTVkMik7CiAgICAgICAgICAgIAogICAgCiAgICAgICAgICAgIHZhciBwb3B1cF9lN2IzOTEzZmZmZmM0YzYyYWRiMWFlZGQwZTMxYjljNCA9IEwucG9wdXAoe21heFdpZHRoOiAnMzAwJ30pOwoKICAgICAgICAgICAgCiAgICAgICAgICAgICAgICB2YXIgaHRtbF85MDFiMTdiYzMxYTk0YWY4OWU5NzhlYzNiMDI5MDk3MSA9ICQoJzxkaXYgaWQ9Imh0bWxfOTAxYjE3YmMzMWE5NGFmODllOTc4ZWMzYjAyOTA5NzEiIHN0eWxlPSJ3aWR0aDogMTAwLjAlOyBoZWlnaHQ6IDEwMC4wJTsiPk5pc2ggTsWrc2gsIDkuMjwvZGl2PicpWzBdOwogICAgICAgICAgICAgICAgcG9wdXBfZTdiMzkxM2ZmZmZjNGM2MmFkYjFhZWRkMGUzMWI5YzQuc2V0Q29udGVudChodG1sXzkwMWIxN2JjMzFhOTRhZjg5ZTk3OGVjM2IwMjkwOTcxKTsKICAgICAgICAgICAgCgogICAgICAgICAgICBjaXJjbGVfbWFya2VyX2Q1YTZiZTU5ZmVmYzQxYTBiNGY3ZThlYjY5MjAyNTY4LmJpbmRQb3B1cChwb3B1cF9lN2IzOTEzZmZmZmM0YzYyYWRiMWFlZGQwZTMxYjljNCk7CgogICAgICAgICAgICAKICAgICAgICAKICAgIAogICAgICAgICAgICB2YXIgY2lyY2xlX21hcmtlcl8yMzM0NDVmYjc2NjE0NWU4YjExMTYwZTY5NGZhOWMxYSA9IEwuY2lyY2xlTWFya2VyKAogICAgICAgICAgICAgICAgWzQwLjc0ODExNjQyMzgwMDI5LC03My45NzY0NDU0MTMyNzAyXSwKICAgICAgICAgICAgICAgIHsKICAiYnViYmxpbmdNb3VzZUV2ZW50cyI6IHRydWUsCiAgImNvbG9yIjogInllbGxvdyIsCiAgImRhc2hBcnJheSI6IG51bGwsCiAgImRhc2hPZmZzZXQiOiBudWxsLAogICJmaWxsIjogdHJ1ZSwKICAiZmlsbENvbG9yIjogInllbGxvdyIsCiAgImZpbGxPcGFjaXR5IjogMC43LAogICJmaWxsUnVsZSI6ICJldmVub2RkIiwKICAibGluZUNhcCI6ICJyb3VuZCIsCiAgImxpbmVKb2luIjogInJvdW5kIiwKICAib3BhY2l0eSI6IDEuMCwKICAicmFkaXVzIjogNSwKICAic3Ryb2tlIjogdHJ1ZSwKICAid2VpZ2h0IjogMwp9CiAgICAgICAgICAgICAgICApLmFkZFRvKG1hcF9iZTQzNmZiOGNjZGY0MzhiYjIzNDc4ZmYyMGEwZTVkMik7CiAgICAgICAgICAgIAogICAgCiAgICAgICAgICAgIHZhciBwb3B1cF84ZjI3ZTcyZDNmM2Y0MWQ1OWFiNjQ1MTNkYzRkNWIzNCA9IEwucG9wdXAoe21heFdpZHRoOiAnMzAwJ30pOwoKICAgICAgICAgICAgCiAgICAgICAgICAgICAgICB2YXIgaHRtbF81NDNhMjllODg5M2I0N2U3YTA3ZmMzMzY3MjQ2MmYyNCA9ICQoJzxkaXYgaWQ9Imh0bWxfNTQzYTI5ZTg4OTNiNDdlN2EwN2ZjMzM2NzI0NjJmMjQiIHN0eWxlPSJ3aWR0aDogMTAwLjAlOyBoZWlnaHQ6IDEwMC4wJTsiPkRlbGVjdGljYSwgNy43PC9kaXY+JylbMF07CiAgICAgICAgICAgICAgICBwb3B1cF84ZjI3ZTcyZDNmM2Y0MWQ1OWFiNjQ1MTNkYzRkNWIzNC5zZXRDb250ZW50KGh0bWxfNTQzYTI5ZTg4OTNiNDdlN2EwN2ZjMzM2NzI0NjJmMjQpOwogICAgICAgICAgICAKCiAgICAgICAgICAgIGNpcmNsZV9tYXJrZXJfMjMzNDQ1ZmI3NjYxNDVlOGIxMTE2MGU2OTRmYTljMWEuYmluZFBvcHVwKHBvcHVwXzhmMjdlNzJkM2YzZjQxZDU5YWI2NDUxM2RjNGQ1YjM0KTsKCiAgICAgICAgICAgIAogICAgICAgIAogICAgCiAgICAgICAgICAgIHZhciBjaXJjbGVfbWFya2VyX2RkMTE0NmI3ZDE5YzQ1ODBiNTFiMWE4ZTg0ZTdhNjAzID0gTC5jaXJjbGVNYXJrZXIoCiAgICAgICAgICAgICAgICBbNDAuNzE1NDE3ODI5MDk5NTY1LC03My45NDQ3MzAwMzMyNDg3Ml0sCiAgICAgICAgICAgICAgICB7CiAgImJ1YmJsaW5nTW91c2VFdmVudHMiOiB0cnVlLAogICJjb2xvciI6ICJvcmFuZ2UiLAogICJkYXNoQXJyYXkiOiBudWxsLAogICJkYXNoT2Zmc2V0IjogbnVsbCwKICAiZmlsbCI6IHRydWUsCiAgImZpbGxDb2xvciI6ICJvcmFuZ2UiLAogICJmaWxsT3BhY2l0eSI6IDAuNywKICAiZmlsbFJ1bGUiOiAiZXZlbm9kZCIsCiAgImxpbmVDYXAiOiAicm91bmQiLAogICJsaW5lSm9pbiI6ICJyb3VuZCIsCiAgIm9wYWNpdHkiOiAxLjAsCiAgInJhZGl1cyI6IDUsCiAgInN0cm9rZSI6IHRydWUsCiAgIndlaWdodCI6IDMKfQogICAgICAgICAgICAgICAgKS5hZGRUbyhtYXBfYmU0MzZmYjhjY2RmNDM4YmIyMzQ3OGZmMjBhMGU1ZDIpOwogICAgICAgICAgICAKICAgIAogICAgICAgICAgICB2YXIgcG9wdXBfMTIwYmJkMWY0MjNiNDEyZjg2ODViMTJkN2RmZWE5MGQgPSBMLnBvcHVwKHttYXhXaWR0aDogJzMwMCd9KTsKCiAgICAgICAgICAgIAogICAgICAgICAgICAgICAgdmFyIGh0bWxfYzZhNTQzZjA0YmFjNDdjZWFjYzhkNWZjODZmZGZkZGYgPSAkKCc8ZGl2IGlkPSJodG1sX2M2YTU0M2YwNGJhYzQ3Y2VhY2M4ZDVmYzg2ZmRmZGRmIiBzdHlsZT0id2lkdGg6IDEwMC4wJTsgaGVpZ2h0OiAxMDAuMCU7Ij5IdW1tdXMgTWFya2V0LCA4Ljk8L2Rpdj4nKVswXTsKICAgICAgICAgICAgICAgIHBvcHVwXzEyMGJiZDFmNDIzYjQxMmY4Njg1YjEyZDdkZmVhOTBkLnNldENvbnRlbnQoaHRtbF9jNmE1NDNmMDRiYWM0N2NlYWNjOGQ1ZmM4NmZkZmRkZik7CiAgICAgICAgICAgIAoKICAgICAgICAgICAgY2lyY2xlX21hcmtlcl9kZDExNDZiN2QxOWM0NTgwYjUxYjFhOGU4NGU3YTYwMy5iaW5kUG9wdXAocG9wdXBfMTIwYmJkMWY0MjNiNDEyZjg2ODViMTJkN2RmZWE5MGQpOwoKICAgICAgICAgICAgCiAgICAgICAgCiAgICAKICAgICAgICAgICAgdmFyIGNpcmNsZV9tYXJrZXJfMjc4MzQwZDJhNmVhNDE0ZGE0MWNmOGJhNzdjZTQ4MmYgPSBMLmNpcmNsZU1hcmtlcigKICAgICAgICAgICAgICAgIFs0MC43ODQyMDQsLTczLjk3MzkwOV0sCiAgICAgICAgICAgICAgICB7CiAgImJ1YmJsaW5nTW91c2VFdmVudHMiOiB0cnVlLAogICJjb2xvciI6ICJvcmFuZ2UiLAogICJkYXNoQXJyYXkiOiBudWxsLAogICJkYXNoT2Zmc2V0IjogbnVsbCwKICAiZmlsbCI6IHRydWUsCiAgImZpbGxDb2xvciI6ICJvcmFuZ2UiLAogICJmaWxsT3BhY2l0eSI6IDAuNywKICAiZmlsbFJ1bGUiOiAiZXZlbm9kZCIsCiAgImxpbmVDYXAiOiAicm91bmQiLAogICJsaW5lSm9pbiI6ICJyb3VuZCIsCiAgIm9wYWNpdHkiOiAxLjAsCiAgInJhZGl1cyI6IDUsCiAgInN0cm9rZSI6IHRydWUsCiAgIndlaWdodCI6IDMKfQogICAgICAgICAgICAgICAgKS5hZGRUbyhtYXBfYmU0MzZmYjhjY2RmNDM4YmIyMzQ3OGZmMjBhMGU1ZDIpOwogICAgICAgICAgICAKICAgIAogICAgICAgICAgICB2YXIgcG9wdXBfYjlmMDM0ZDFlZTgxNDc4NmFmYmRiNTcyMWY1MjVkZTEgPSBMLnBvcHVwKHttYXhXaWR0aDogJzMwMCd9KTsKCiAgICAgICAgICAgIAogICAgICAgICAgICAgICAgdmFyIGh0bWxfYjA0OWEwMmM4NDI0NDE0NmI2NzMwNTc2OGFjNzczOGMgPSAkKCc8ZGl2IGlkPSJodG1sX2IwNDlhMDJjODQyNDQxNDZiNjczMDU3NjhhYzc3MzhjIiBzdHlsZT0id2lkdGg6IDEwMC4wJTsgaGVpZ2h0OiAxMDAuMCU7Ij5Nb2Rlcm4gQnJlYWQgJmFtcDsgQmFnZWwsIDguMDwvZGl2PicpWzBdOwogICAgICAgICAgICAgICAgcG9wdXBfYjlmMDM0ZDFlZTgxNDc4NmFmYmRiNTcyMWY1MjVkZTEuc2V0Q29udGVudChodG1sX2IwNDlhMDJjODQyNDQxNDZiNjczMDU3NjhhYzc3MzhjKTsKICAgICAgICAgICAgCgogICAgICAgICAgICBjaXJjbGVfbWFya2VyXzI3ODM0MGQyYTZlYTQxNGRhNDFjZjhiYTc3Y2U0ODJmLmJpbmRQb3B1cChwb3B1cF9iOWYwMzRkMWVlODE0Nzg2YWZiZGI1NzIxZjUyNWRlMSk7CgogICAgICAgICAgICAKICAgICAgICAKICAgIAogICAgICAgICAgICB2YXIgY2lyY2xlX21hcmtlcl84ZmMxNmI1NzgzMWM0YTQ4ODJjZDQ4ZWFjYWY5MjllMCA9IEwuY2lyY2xlTWFya2VyKAogICAgICAgICAgICAgICAgWzQwLjczMTMzMzYzNDMxNjIzLC03NC4wMDY3MDU4MTY5Mjc1NF0sCiAgICAgICAgICAgICAgICB7CiAgImJ1YmJsaW5nTW91c2VFdmVudHMiOiB0cnVlLAogICJjb2xvciI6ICJvcmFuZ2UiLAogICJkYXNoQXJyYXkiOiBudWxsLAogICJkYXNoT2Zmc2V0IjogbnVsbCwKICAiZmlsbCI6IHRydWUsCiAgImZpbGxDb2xvciI6ICJvcmFuZ2UiLAogICJmaWxsT3BhY2l0eSI6IDAuNywKICAiZmlsbFJ1bGUiOiAiZXZlbm9kZCIsCiAgImxpbmVDYXAiOiAicm91bmQiLAogICJsaW5lSm9pbiI6ICJyb3VuZCIsCiAgIm9wYWNpdHkiOiAxLjAsCiAgInJhZGl1cyI6IDUsCiAgInN0cm9rZSI6IHRydWUsCiAgIndlaWdodCI6IDMKfQogICAgICAgICAgICAgICAgKS5hZGRUbyhtYXBfYmU0MzZmYjhjY2RmNDM4YmIyMzQ3OGZmMjBhMGU1ZDIpOwogICAgICAgICAgICAKICAgIAogICAgICAgICAgICB2YXIgcG9wdXBfNjJjOGFhM2U5ZDhjNDNiZGE4YmIxNWYyMTAwYzdjNWYgPSBMLnBvcHVwKHttYXhXaWR0aDogJzMwMCd9KTsKCiAgICAgICAgICAgIAogICAgICAgICAgICAgICAgdmFyIGh0bWxfMjNhMzUzM2NlZDM3NDQ3NjlkZTZjMmZlMWE3ODc0MzcgPSAkKCc8ZGl2IGlkPSJodG1sXzIzYTM1MzNjZWQzNzQ0NzY5ZGU2YzJmZTFhNzg3NDM3IiBzdHlsZT0id2lkdGg6IDEwMC4wJTsgaGVpZ2h0OiAxMDAuMCU7Ij5LaXNoLUthc2gsIDguNTwvZGl2PicpWzBdOwogICAgICAgICAgICAgICAgcG9wdXBfNjJjOGFhM2U5ZDhjNDNiZGE4YmIxNWYyMTAwYzdjNWYuc2V0Q29udGVudChodG1sXzIzYTM1MzNjZWQzNzQ0NzY5ZGU2YzJmZTFhNzg3NDM3KTsKICAgICAgICAgICAgCgogICAgICAgICAgICBjaXJjbGVfbWFya2VyXzhmYzE2YjU3ODMxYzRhNDg4MmNkNDhlYWNhZjkyOWUwLmJpbmRQb3B1cChwb3B1cF82MmM4YWEzZTlkOGM0M2JkYThiYjE1ZjIxMDBjN2M1Zik7CgogICAgICAgICAgICAKICAgICAgICAKICAgIAogICAgICAgICAgICB2YXIgY2lyY2xlX21hcmtlcl9jMDJhM2M5ZTlmMjc0NzMyOTM1YTg4NjYwNjIyZTNjOSA9IEwuY2lyY2xlTWFya2VyKAogICAgICAgICAgICAgICAgWzQwLjcxMjM5NDEzMjU0Mjc4NCwtNzMuOTU3MDI5ODcwNjcxMTJdLAogICAgICAgICAgICAgICAgewogICJidWJibGluZ01vdXNlRXZlbnRzIjogdHJ1ZSwKICAiY29sb3IiOiAicmVkIiwKICAiZGFzaEFycmF5IjogbnVsbCwKICAiZGFzaE9mZnNldCI6IG51bGwsCiAgImZpbGwiOiB0cnVlLAogICJmaWxsQ29sb3IiOiAicmVkIiwKICAiZmlsbE9wYWNpdHkiOiAwLjcsCiAgImZpbGxSdWxlIjogImV2ZW5vZGQiLAogICJsaW5lQ2FwIjogInJvdW5kIiwKICAibGluZUpvaW4iOiAicm91bmQiLAogICJvcGFjaXR5IjogMS4wLAogICJyYWRpdXMiOiA1LAogICJzdHJva2UiOiB0cnVlLAogICJ3ZWlnaHQiOiAzCn0KICAgICAgICAgICAgICAgICkuYWRkVG8obWFwX2JlNDM2ZmI4Y2NkZjQzOGJiMjM0NzhmZjIwYTBlNWQyKTsKICAgICAgICAgICAgCiAgICAKICAgICAgICAgICAgdmFyIHBvcHVwXzUzZWRkOTFmN2RjNTRlZTNiNjhhODEzZDMzNDYyMTRlID0gTC5wb3B1cCh7bWF4V2lkdGg6ICczMDAnfSk7CgogICAgICAgICAgICAKICAgICAgICAgICAgICAgIHZhciBodG1sX2JkYzU5NmNlN2ExODQzMzJhYjJjMTY4MmM0MDY2NGYzID0gJCgnPGRpdiBpZD0iaHRtbF9iZGM1OTZjZTdhMTg0MzMyYWIyYzE2ODJjNDA2NjRmMyIgc3R5bGU9IndpZHRoOiAxMDAuMCU7IGhlaWdodDogMTAwLjAlOyI+Wml6aSBMaW1vbmEsIDkuMDwvZGl2PicpWzBdOwogICAgICAgICAgICAgICAgcG9wdXBfNTNlZGQ5MWY3ZGM1NGVlM2I2OGE4MTNkMzM0NjIxNGUuc2V0Q29udGVudChodG1sX2JkYzU5NmNlN2ExODQzMzJhYjJjMTY4MmM0MDY2NGYzKTsKICAgICAgICAgICAgCgogICAgICAgICAgICBjaXJjbGVfbWFya2VyX2MwMmEzYzllOWYyNzQ3MzI5MzVhODg2NjA2MjJlM2M5LmJpbmRQb3B1cChwb3B1cF81M2VkZDkxZjdkYzU0ZWUzYjY4YTgxM2QzMzQ2MjE0ZSk7CgogICAgICAgICAgICAKICAgICAgICAKICAgIAogICAgICAgICAgICB2YXIgY2lyY2xlX21hcmtlcl81ZTFlZmZjNDQ3MDk0NzUyYTkxMTk5N2E1MDgzOTQ5OCA9IEwuY2lyY2xlTWFya2VyKAogICAgICAgICAgICAgICAgWzQwLjcxNDQ1MzAzMTgwMTE4NSwtNzQuMDA2ODUyNzQ4NDMzNTRdLAogICAgICAgICAgICAgICAgewogICJidWJibGluZ01vdXNlRXZlbnRzIjogdHJ1ZSwKICAiY29sb3IiOiAib3JhbmdlIiwKICAiZGFzaEFycmF5IjogbnVsbCwKICAiZGFzaE9mZnNldCI6IG51bGwsCiAgImZpbGwiOiB0cnVlLAogICJmaWxsQ29sb3IiOiAib3JhbmdlIiwKICAiZmlsbE9wYWNpdHkiOiAwLjcsCiAgImZpbGxSdWxlIjogImV2ZW5vZGQiLAogICJsaW5lQ2FwIjogInJvdW5kIiwKICAibGluZUpvaW4iOiAicm91bmQiLAogICJvcGFjaXR5IjogMS4wLAogICJyYWRpdXMiOiA1LAogICJzdHJva2UiOiB0cnVlLAogICJ3ZWlnaHQiOiAzCn0KICAgICAgICAgICAgICAgICkuYWRkVG8obWFwX2JlNDM2ZmI4Y2NkZjQzOGJiMjM0NzhmZjIwYTBlNWQyKTsKICAgICAgICAgICAgCiAgICAKICAgICAgICAgICAgdmFyIHBvcHVwX2JjN2Y0ZWM0NGNiNTQwMGM4YTA2MGViZGE1ZDUzNTEwID0gTC5wb3B1cCh7bWF4V2lkdGg6ICczMDAnfSk7CgogICAgICAgICAgICAKICAgICAgICAgICAgICAgIHZhciBodG1sXzg5NzFlZjQ2MjhhYjQ5NTQ5M2ZiM2IyMzU1MDFjOGZmID0gJCgnPGRpdiBpZD0iaHRtbF84OTcxZWY0NjI4YWI0OTU0OTNmYjNiMjM1NTAxYzhmZiIgc3R5bGU9IndpZHRoOiAxMDAuMCU7IGhlaWdodDogMTAwLjAlOyI+VGhlIEh1bW11cyAmYW1wOyBQaXRhIENvLCA4LjI8L2Rpdj4nKVswXTsKICAgICAgICAgICAgICAgIHBvcHVwX2JjN2Y0ZWM0NGNiNTQwMGM4YTA2MGViZGE1ZDUzNTEwLnNldENvbnRlbnQoaHRtbF84OTcxZWY0NjI4YWI0OTU0OTNmYjNiMjM1NTAxYzhmZik7CiAgICAgICAgICAgIAoKICAgICAgICAgICAgY2lyY2xlX21hcmtlcl81ZTFlZmZjNDQ3MDk0NzUyYTkxMTk5N2E1MDgzOTQ5OC5iaW5kUG9wdXAocG9wdXBfYmM3ZjRlYzQ0Y2I1NDAwYzhhMDYwZWJkYTVkNTM1MTApOwoKICAgICAgICAgICAgCiAgICAgICAgCiAgICAKICAgICAgICAgICAgdmFyIGNpcmNsZV9tYXJrZXJfM2MxNGI2NDIxNWIyNDA4YTg0ZTRjYzk4NjFhNWIwODAgPSBMLmNpcmNsZU1hcmtlcigKICAgICAgICAgICAgICAgIFs0MC43OTMxMDcxOTk4MTQ5MywtNzMuOTY4MTA2MDg5NzIwMzVdLAogICAgICAgICAgICAgICAgewogICJidWJibGluZ01vdXNlRXZlbnRzIjogdHJ1ZSwKICAiY29sb3IiOiAieWVsbG93IiwKICAiZGFzaEFycmF5IjogbnVsbCwKICAiZGFzaE9mZnNldCI6IG51bGwsCiAgImZpbGwiOiB0cnVlLAogICJmaWxsQ29sb3IiOiAieWVsbG93IiwKICAiZmlsbE9wYWNpdHkiOiAwLjcsCiAgImZpbGxSdWxlIjogImV2ZW5vZGQiLAogICJsaW5lQ2FwIjogInJvdW5kIiwKICAibGluZUpvaW4iOiAicm91bmQiLAogICJvcGFjaXR5IjogMS4wLAogICJyYWRpdXMiOiA1LAogICJzdHJva2UiOiB0cnVlLAogICJ3ZWlnaHQiOiAzCn0KICAgICAgICAgICAgICAgICkuYWRkVG8obWFwX2JlNDM2ZmI4Y2NkZjQzOGJiMjM0NzhmZjIwYTBlNWQyKTsKICAgICAgICAgICAgCiAgICAKICAgICAgICAgICAgdmFyIHBvcHVwXzg2MWE4YTZmYWEwNzQ2MGZiNmFiMmUzNmY3MzI1ZGNkID0gTC5wb3B1cCh7bWF4V2lkdGg6ICczMDAnfSk7CgogICAgICAgICAgICAKICAgICAgICAgICAgICAgIHZhciBodG1sX2UxNWYwOThkMWM5ZDRmY2ViMGJmODliYmI4NDc0Y2UwID0gJCgnPGRpdiBpZD0iaHRtbF9lMTVmMDk4ZDFjOWQ0ZmNlYjBiZjg5YmJiODQ3NGNlMCIgc3R5bGU9IndpZHRoOiAxMDAuMCU7IGhlaWdodDogMTAwLjAlOyI+RWZmeSYjMzk7cyBDYWZlLCA3Ljg8L2Rpdj4nKVswXTsKICAgICAgICAgICAgICAgIHBvcHVwXzg2MWE4YTZmYWEwNzQ2MGZiNmFiMmUzNmY3MzI1ZGNkLnNldENvbnRlbnQoaHRtbF9lMTVmMDk4ZDFjOWQ0ZmNlYjBiZjg5YmJiODQ3NGNlMCk7CiAgICAgICAgICAgIAoKICAgICAgICAgICAgY2lyY2xlX21hcmtlcl8zYzE0YjY0MjE1YjI0MDhhODRlNGNjOTg2MWE1YjA4MC5iaW5kUG9wdXAocG9wdXBfODYxYThhNmZhYTA3NDYwZmI2YWIyZTM2ZjczMjVkY2QpOwoKICAgICAgICAgICAgCiAgICAgICAgCiAgICAKICAgICAgICAgICAgdmFyIGNpcmNsZV9tYXJrZXJfMzE5MDY5ZWU2ZGNhNDMwOGE4OGU2YTdhMzJhYWIzZTEgPSBMLmNpcmNsZU1hcmtlcigKICAgICAgICAgICAgICAgIFs0MC42ODA2MDIsLTczLjk3NDE5NF0sCiAgICAgICAgICAgICAgICB7CiAgImJ1YmJsaW5nTW91c2VFdmVudHMiOiB0cnVlLAogICJjb2xvciI6ICJvcmFuZ2UiLAogICJkYXNoQXJyYXkiOiBudWxsLAogICJkYXNoT2Zmc2V0IjogbnVsbCwKICAiZmlsbCI6IHRydWUsCiAgImZpbGxDb2xvciI6ICJvcmFuZ2UiLAogICJmaWxsT3BhY2l0eSI6IDAuNywKICAiZmlsbFJ1bGUiOiAiZXZlbm9kZCIsCiAgImxpbmVDYXAiOiAicm91bmQiLAogICJsaW5lSm9pbiI6ICJyb3VuZCIsCiAgIm9wYWNpdHkiOiAxLjAsCiAgInJhZGl1cyI6IDUsCiAgInN0cm9rZSI6IHRydWUsCiAgIndlaWdodCI6IDMKfQogICAgICAgICAgICAgICAgKS5hZGRUbyhtYXBfYmU0MzZmYjhjY2RmNDM4YmIyMzQ3OGZmMjBhMGU1ZDIpOwogICAgICAgICAgICAKICAgIAogICAgICAgICAgICB2YXIgcG9wdXBfYzM2N2YyZmRlYzU1NGIwZWIxMWRhYjg1ODA0Y2E0NTAgPSBMLnBvcHVwKHttYXhXaWR0aDogJzMwMCd9KTsKCiAgICAgICAgICAgIAogICAgICAgICAgICAgICAgdmFyIGh0bWxfNzVkNmM3MWZkY2QwNDkxYjg1YzFiZjNmNDhjZDlkMmIgPSAkKCc8ZGl2IGlkPSJodG1sXzc1ZDZjNzFmZGNkMDQ5MWI4NWMxYmYzZjQ4Y2Q5ZDJiIiBzdHlsZT0id2lkdGg6IDEwMC4wJTsgaGVpZ2h0OiAxMDAuMCU7Ij5DaGljayBQLCA4LjY8L2Rpdj4nKVswXTsKICAgICAgICAgICAgICAgIHBvcHVwX2MzNjdmMmZkZWM1NTRiMGViMTFkYWI4NTgwNGNhNDUwLnNldENvbnRlbnQoaHRtbF83NWQ2YzcxZmRjZDA0OTFiODVjMWJmM2Y0OGNkOWQyYik7CiAgICAgICAgICAgIAoKICAgICAgICAgICAgY2lyY2xlX21hcmtlcl8zMTkwNjllZTZkY2E0MzA4YTg4ZTZhN2EzMmFhYjNlMS5iaW5kUG9wdXAocG9wdXBfYzM2N2YyZmRlYzU1NGIwZWIxMWRhYjg1ODA0Y2E0NTApOwoKICAgICAgICAgICAgCiAgICAgICAgCiAgICAKICAgICAgICAgICAgdmFyIGNpcmNsZV9tYXJrZXJfYzI1ODRhMmEyZGNlNDIwN2E4MzJjM2QxZjAxZTRlNWIgPSBMLmNpcmNsZU1hcmtlcigKICAgICAgICAgICAgICAgIFs0MC43Mjg5NjkwNjExMjQzMywtNzMuOTg4NDQ2NDM3Mjc5MjRdLAogICAgICAgICAgICAgICAgewogICJidWJibGluZ01vdXNlRXZlbnRzIjogdHJ1ZSwKICAiY29sb3IiOiAib3JhbmdlIiwKICAiZGFzaEFycmF5IjogbnVsbCwKICAiZGFzaE9mZnNldCI6IG51bGwsCiAgImZpbGwiOiB0cnVlLAogICJmaWxsQ29sb3IiOiAib3JhbmdlIiwKICAiZmlsbE9wYWNpdHkiOiAwLjcsCiAgImZpbGxSdWxlIjogImV2ZW5vZGQiLAogICJsaW5lQ2FwIjogInJvdW5kIiwKICAibGluZUpvaW4iOiAicm91bmQiLAogICJvcGFjaXR5IjogMS4wLAogICJyYWRpdXMiOiA1LAogICJzdHJva2UiOiB0cnVlLAogICJ3ZWlnaHQiOiAzCn0KICAgICAgICAgICAgICAgICkuYWRkVG8obWFwX2JlNDM2ZmI4Y2NkZjQzOGJiMjM0NzhmZjIwYTBlNWQyKTsKICAgICAgICAgICAgCiAgICAKICAgICAgICAgICAgdmFyIHBvcHVwXzFlMWY0NjkwNGJmYjRkM2JhMWRjZGJiYzQwNzg5OWFhID0gTC5wb3B1cCh7bWF4V2lkdGg6ICczMDAnfSk7CgogICAgICAgICAgICAKICAgICAgICAgICAgICAgIHZhciBodG1sXzYwOTEzOTcyNzg4NTQ5ZWM5YWM3NTJkYThmNjY4MWJhID0gJCgnPGRpdiBpZD0iaHRtbF82MDkxMzk3Mjc4ODU0OWVjOWFjNzUyZGE4ZjY2ODFiYSIgc3R5bGU9IndpZHRoOiAxMDAuMCU7IGhlaWdodDogMTAwLjAlOyI+TWFtb3VuJiMzOTtzIEZhbGFmZWwsIDguNTwvZGl2PicpWzBdOwogICAgICAgICAgICAgICAgcG9wdXBfMWUxZjQ2OTA0YmZiNGQzYmExZGNkYmJjNDA3ODk5YWEuc2V0Q29udGVudChodG1sXzYwOTEzOTcyNzg4NTQ5ZWM5YWM3NTJkYThmNjY4MWJhKTsKICAgICAgICAgICAgCgogICAgICAgICAgICBjaXJjbGVfbWFya2VyX2MyNTg0YTJhMmRjZTQyMDdhODMyYzNkMWYwMWU0ZTViLmJpbmRQb3B1cChwb3B1cF8xZTFmNDY5MDRiZmI0ZDNiYTFkY2RiYmM0MDc4OTlhYSk7CgogICAgICAgICAgICAKICAgICAgICAKICAgIAogICAgICAgICAgICB2YXIgY2lyY2xlX21hcmtlcl9jNzljMDcwZDdiZmI0N2JkYmU1ODc5YzJlNzdhZTFjYSA9IEwuY2lyY2xlTWFya2VyKAogICAgICAgICAgICAgICAgWzQwLjczNDYwNCwtNzMuOTkyNzg1XSwKICAgICAgICAgICAgICAgIHsKICAiYnViYmxpbmdNb3VzZUV2ZW50cyI6IHRydWUsCiAgImNvbG9yIjogIm9yYW5nZSIsCiAgImRhc2hBcnJheSI6IG51bGwsCiAgImRhc2hPZmZzZXQiOiBudWxsLAogICJmaWxsIjogdHJ1ZSwKICAiZmlsbENvbG9yIjogIm9yYW5nZSIsCiAgImZpbGxPcGFjaXR5IjogMC43LAogICJmaWxsUnVsZSI6ICJldmVub2RkIiwKICAibGluZUNhcCI6ICJyb3VuZCIsCiAgImxpbmVKb2luIjogInJvdW5kIiwKICAib3BhY2l0eSI6IDEuMCwKICAicmFkaXVzIjogNSwKICAic3Ryb2tlIjogdHJ1ZSwKICAid2VpZ2h0IjogMwp9CiAgICAgICAgICAgICAgICApLmFkZFRvKG1hcF9iZTQzNmZiOGNjZGY0MzhiYjIzNDc4ZmYyMGEwZTVkMik7CiAgICAgICAgICAgIAogICAgCiAgICAgICAgICAgIHZhciBwb3B1cF80ZGVkOWY5ZDQ2OGQ0NDI4YjkwZWY5M2EyMTVhYTYwMCA9IEwucG9wdXAoe21heFdpZHRoOiAnMzAwJ30pOwoKICAgICAgICAgICAgCiAgICAgICAgICAgICAgICB2YXIgaHRtbF8zYmE3MmFmNTg0N2M0MTExOTBiOGYxYTNhOTBmZjQ1NyA9ICQoJzxkaXYgaWQ9Imh0bWxfM2JhNzJhZjU4NDdjNDExMTkwYjhmMWEzYTkwZmY0NTciIHN0eWxlPSJ3aWR0aDogMTAwLjAlOyBoZWlnaHQ6IDEwMC4wJTsiPlRhYm9vbmV0dGUsIDguODwvZGl2PicpWzBdOwogICAgICAgICAgICAgICAgcG9wdXBfNGRlZDlmOWQ0NjhkNDQyOGI5MGVmOTNhMjE1YWE2MDAuc2V0Q29udGVudChodG1sXzNiYTcyYWY1ODQ3YzQxMTE5MGI4ZjFhM2E5MGZmNDU3KTsKICAgICAgICAgICAgCgogICAgICAgICAgICBjaXJjbGVfbWFya2VyX2M3OWMwNzBkN2JmYjQ3YmRiZTU4NzljMmU3N2FlMWNhLmJpbmRQb3B1cChwb3B1cF80ZGVkOWY5ZDQ2OGQ0NDI4YjkwZWY5M2EyMTVhYTYwMCk7CgogICAgICAgICAgICAKICAgICAgICAKICAgIAogICAgICAgICAgICB2YXIgY2lyY2xlX21hcmtlcl80NjI2MjQ5YmJhM2Y0YjdjODdkZTQwZmM2N2NlYmY2NyA9IEwuY2lyY2xlTWFya2VyKAogICAgICAgICAgICAgICAgWzQwLjcxMTAyODI4MTkzMDA3LC03NC4wMDc5NjQ1ODM2OTI4NV0sCiAgICAgICAgICAgICAgICB7CiAgImJ1YmJsaW5nTW91c2VFdmVudHMiOiB0cnVlLAogICJjb2xvciI6ICJ5ZWxsb3ciLAogICJkYXNoQXJyYXkiOiBudWxsLAogICJkYXNoT2Zmc2V0IjogbnVsbCwKICAiZmlsbCI6IHRydWUsCiAgImZpbGxDb2xvciI6ICJ5ZWxsb3ciLAogICJmaWxsT3BhY2l0eSI6IDAuNywKICAiZmlsbFJ1bGUiOiAiZXZlbm9kZCIsCiAgImxpbmVDYXAiOiAicm91bmQiLAogICJsaW5lSm9pbiI6ICJyb3VuZCIsCiAgIm9wYWNpdHkiOiAxLjAsCiAgInJhZGl1cyI6IDUsCiAgInN0cm9rZSI6IHRydWUsCiAgIndlaWdodCI6IDMKfQogICAgICAgICAgICAgICAgKS5hZGRUbyhtYXBfYmU0MzZmYjhjY2RmNDM4YmIyMzQ3OGZmMjBhMGU1ZDIpOwogICAgICAgICAgICAKICAgIAogICAgICAgICAgICB2YXIgcG9wdXBfMzE0NmU4MGFiNTk0NGVhNjk4MDNjY2QxYzZkZTc0YTEgPSBMLnBvcHVwKHttYXhXaWR0aDogJzMwMCd9KTsKCiAgICAgICAgICAgIAogICAgICAgICAgICAgICAgdmFyIGh0bWxfNGQ4MTgwZDQyODUzNGY4ZDliYTkwNGRkZjI2ODAwNjMgPSAkKCc8ZGl2IGlkPSJodG1sXzRkODE4MGQ0Mjg1MzRmOGQ5YmE5MDRkZGYyNjgwMDYzIiBzdHlsZT0id2lkdGg6IDEwMC4wJTsgaGVpZ2h0OiAxMDAuMCU7Ij5QaXRhIEV4cHJlc3MsIDcuOTwvZGl2PicpWzBdOwogICAgICAgICAgICAgICAgcG9wdXBfMzE0NmU4MGFiNTk0NGVhNjk4MDNjY2QxYzZkZTc0YTEuc2V0Q29udGVudChodG1sXzRkODE4MGQ0Mjg1MzRmOGQ5YmE5MDRkZGYyNjgwMDYzKTsKICAgICAgICAgICAgCgogICAgICAgICAgICBjaXJjbGVfbWFya2VyXzQ2MjYyNDliYmEzZjRiN2M4N2RlNDBmYzY3Y2ViZjY3LmJpbmRQb3B1cChwb3B1cF8zMTQ2ZTgwYWI1OTQ0ZWE2OTgwM2NjZDFjNmRlNzRhMSk7CgogICAgICAgICAgICAKICAgICAgICAKICAgIAogICAgICAgICAgICB2YXIgY2lyY2xlX21hcmtlcl8xMjQ2MWE1NTk3MjA0Yjk4YWJlZTI2NzA3MTVkZDg2ZiA9IEwuY2lyY2xlTWFya2VyKAogICAgICAgICAgICAgICAgWzQwLjcxNzY2NzgyNjE1NzY5NCwtNzMuOTU3NTQ4NDQ1NjU0NjFdLAogICAgICAgICAgICAgICAgewogICJidWJibGluZ01vdXNlRXZlbnRzIjogdHJ1ZSwKICAiY29sb3IiOiAicmVkIiwKICAiZGFzaEFycmF5IjogbnVsbCwKICAiZGFzaE9mZnNldCI6IG51bGwsCiAgImZpbGwiOiB0cnVlLAogICJmaWxsQ29sb3IiOiAicmVkIiwKICAiZmlsbE9wYWNpdHkiOiAwLjcsCiAgImZpbGxSdWxlIjogImV2ZW5vZGQiLAogICJsaW5lQ2FwIjogInJvdW5kIiwKICAibGluZUpvaW4iOiAicm91bmQiLAogICJvcGFjaXR5IjogMS4wLAogICJyYWRpdXMiOiA1LAogICJzdHJva2UiOiB0cnVlLAogICJ3ZWlnaHQiOiAzCn0KICAgICAgICAgICAgICAgICkuYWRkVG8obWFwX2JlNDM2ZmI4Y2NkZjQzOGJiMjM0NzhmZjIwYTBlNWQyKTsKICAgICAgICAgICAgCiAgICAKICAgICAgICAgICAgdmFyIHBvcHVwXzg5MzFhNDUzZTk4ZDQxOWZhZmEyNWE4MmY4ZWJmYWIwID0gTC5wb3B1cCh7bWF4V2lkdGg6ICczMDAnfSk7CgogICAgICAgICAgICAKICAgICAgICAgICAgICAgIHZhciBodG1sXzU3YjNmM2ViNTdjYTQzNmI4ZDJhODFkMzQyY2U1ODRhID0gJCgnPGRpdiBpZD0iaHRtbF81N2IzZjNlYjU3Y2E0MzZiOGQyYTgxZDM0MmNlNTg0YSIgc3R5bGU9IndpZHRoOiAxMDAuMCU7IGhlaWdodDogMTAwLjAlOyI+T2FzaXMsIDkuMDwvZGl2PicpWzBdOwogICAgICAgICAgICAgICAgcG9wdXBfODkzMWE0NTNlOThkNDE5ZmFmYTI1YTgyZjhlYmZhYjAuc2V0Q29udGVudChodG1sXzU3YjNmM2ViNTdjYTQzNmI4ZDJhODFkMzQyY2U1ODRhKTsKICAgICAgICAgICAgCgogICAgICAgICAgICBjaXJjbGVfbWFya2VyXzEyNDYxYTU1OTcyMDRiOThhYmVlMjY3MDcxNWRkODZmLmJpbmRQb3B1cChwb3B1cF84OTMxYTQ1M2U5OGQ0MTlmYWZhMjVhODJmOGViZmFiMCk7CgogICAgICAgICAgICAKICAgICAgICAKICAgIAogICAgICAgICAgICB2YXIgY2lyY2xlX21hcmtlcl82NzE1OGNjMDM4ODY0MWFlYTRhYWFhZTZjNmUzZTY4MSA9IEwuY2lyY2xlTWFya2VyKAogICAgICAgICAgICAgICAgWzQwLjcyNzA4MzI2ODg2MDc5LC03NC4wMDI5MTM2MDQ3NTc4MV0sCiAgICAgICAgICAgICAgICB7CiAgImJ1YmJsaW5nTW91c2VFdmVudHMiOiB0cnVlLAogICJjb2xvciI6ICJvcmFuZ2UiLAogICJkYXNoQXJyYXkiOiBudWxsLAogICJkYXNoT2Zmc2V0IjogbnVsbCwKICAiZmlsbCI6IHRydWUsCiAgImZpbGxDb2xvciI6ICJvcmFuZ2UiLAogICJmaWxsT3BhY2l0eSI6IDAuNywKICAiZmlsbFJ1bGUiOiAiZXZlbm9kZCIsCiAgImxpbmVDYXAiOiAicm91bmQiLAogICJsaW5lSm9pbiI6ICJyb3VuZCIsCiAgIm9wYWNpdHkiOiAxLjAsCiAgInJhZGl1cyI6IDUsCiAgInN0cm9rZSI6IHRydWUsCiAgIndlaWdodCI6IDMKfQogICAgICAgICAgICAgICAgKS5hZGRUbyhtYXBfYmU0MzZmYjhjY2RmNDM4YmIyMzQ3OGZmMjBhMGU1ZDIpOwogICAgICAgICAgICAKICAgIAogICAgICAgICAgICB2YXIgcG9wdXBfZjM5NDQ3ODAwZGNlNDNhZDg2ZTRlZTU0ZTJjN2QyMTIgPSBMLnBvcHVwKHttYXhXaWR0aDogJzMwMCd9KTsKCiAgICAgICAgICAgIAogICAgICAgICAgICAgICAgdmFyIGh0bWxfMzEwNDY0MmU0M2JjNDIzOGE2ZTg1ZmIyMjAyNGY2MmQgPSAkKCc8ZGl2IGlkPSJodG1sXzMxMDQ2NDJlNDNiYzQyMzhhNmU4NWZiMjIwMjRmNjJkIiBzdHlsZT0id2lkdGg6IDEwMC4wJTsgaGVpZ2h0OiAxMDAuMCU7Ij5TaHVrYSwgOC40PC9kaXY+JylbMF07CiAgICAgICAgICAgICAgICBwb3B1cF9mMzk0NDc4MDBkY2U0M2FkODZlNGVlNTRlMmM3ZDIxMi5zZXRDb250ZW50KGh0bWxfMzEwNDY0MmU0M2JjNDIzOGE2ZTg1ZmIyMjAyNGY2MmQpOwogICAgICAgICAgICAKCiAgICAgICAgICAgIGNpcmNsZV9tYXJrZXJfNjcxNThjYzAzODg2NDFhZWE0YWFhYWU2YzZlM2U2ODEuYmluZFBvcHVwKHBvcHVwX2YzOTQ0NzgwMGRjZTQzYWQ4NmU0ZWU1NGUyYzdkMjEyKTsKCiAgICAgICAgICAgIAogICAgICAgIAogICAgCiAgICAgICAgICAgIHZhciBjaXJjbGVfbWFya2VyX2NjNDQzYjM5MzZlNzQwZDQ4Mzg1ZGViZGVkOGE0Mzk4ID0gTC5jaXJjbGVNYXJrZXIoCiAgICAgICAgICAgICAgICBbNDAuNzI3Mjc3MzUzNTg0NTgsLTczLjk4NDUwNTI5ODAwMTg4XSwKICAgICAgICAgICAgICAgIHsKICAiYnViYmxpbmdNb3VzZUV2ZW50cyI6IHRydWUsCiAgImNvbG9yIjogInJlZCIsCiAgImRhc2hBcnJheSI6IG51bGwsCiAgImRhc2hPZmZzZXQiOiBudWxsLAogICJmaWxsIjogdHJ1ZSwKICAiZmlsbENvbG9yIjogInJlZCIsCiAgImZpbGxPcGFjaXR5IjogMC43LAogICJmaWxsUnVsZSI6ICJldmVub2RkIiwKICAibGluZUNhcCI6ICJyb3VuZCIsCiAgImxpbmVKb2luIjogInJvdW5kIiwKICAib3BhY2l0eSI6IDEuMCwKICAicmFkaXVzIjogNSwKICAic3Ryb2tlIjogdHJ1ZSwKICAid2VpZ2h0IjogMwp9CiAgICAgICAgICAgICAgICApLmFkZFRvKG1hcF9iZTQzNmZiOGNjZGY0MzhiYjIzNDc4ZmYyMGEwZTVkMik7CiAgICAgICAgICAgIAogICAgCiAgICAgICAgICAgIHZhciBwb3B1cF8xYTMxOGQwMmNjYjU0NTQ2YWIwZjY3MjQ1YjQ1Njk0MiA9IEwucG9wdXAoe21heFdpZHRoOiAnMzAwJ30pOwoKICAgICAgICAgICAgCiAgICAgICAgICAgICAgICB2YXIgaHRtbF9kOGEzNTUzZGM2YzM0MzYxYjM1YTdmMjc1NzlkODMxMSA9ICQoJzxkaXYgaWQ9Imh0bWxfZDhhMzU1M2RjNmMzNDM2MWIzNWE3ZjI3NTc5ZDgzMTEiIHN0eWxlPSJ3aWR0aDogMTAwLjAlOyBoZWlnaHQ6IDEwMC4wJTsiPkNhZmUgTW9nYWRvciwgOS4zPC9kaXY+JylbMF07CiAgICAgICAgICAgICAgICBwb3B1cF8xYTMxOGQwMmNjYjU0NTQ2YWIwZjY3MjQ1YjQ1Njk0Mi5zZXRDb250ZW50KGh0bWxfZDhhMzU1M2RjNmMzNDM2MWIzNWE3ZjI3NTc5ZDgzMTEpOwogICAgICAgICAgICAKCiAgICAgICAgICAgIGNpcmNsZV9tYXJrZXJfY2M0NDNiMzkzNmU3NDBkNDgzODVkZWJkZWQ4YTQzOTguYmluZFBvcHVwKHBvcHVwXzFhMzE4ZDAyY2NiNTQ1NDZhYjBmNjcyNDViNDU2OTQyKTsKCiAgICAgICAgICAgIAogICAgICAgIAogICAgCiAgICAgICAgICAgIHZhciBjaXJjbGVfbWFya2VyXzUzMzA1ZmE1MzM0ZTQzZWY4OGE0NmNmYjg3ZGJlM2VlID0gTC5jaXJjbGVNYXJrZXIoCiAgICAgICAgICAgICAgICBbNDAuNzMyOTQyMTk3NjM0ODEsLTczLjk4NjM2NDgzODA1Mzk0XSwKICAgICAgICAgICAgICAgIHsKICAiYnViYmxpbmdNb3VzZUV2ZW50cyI6IHRydWUsCiAgImNvbG9yIjogIm9yYW5nZSIsCiAgImRhc2hBcnJheSI6IG51bGwsCiAgImRhc2hPZmZzZXQiOiBudWxsLAogICJmaWxsIjogdHJ1ZSwKICAiZmlsbENvbG9yIjogIm9yYW5nZSIsCiAgImZpbGxPcGFjaXR5IjogMC43LAogICJmaWxsUnVsZSI6ICJldmVub2RkIiwKICAibGluZUNhcCI6ICJyb3VuZCIsCiAgImxpbmVKb2luIjogInJvdW5kIiwKICAib3BhY2l0eSI6IDEuMCwKICAicmFkaXVzIjogNSwKICAic3Ryb2tlIjogdHJ1ZSwKICAid2VpZ2h0IjogMwp9CiAgICAgICAgICAgICAgICApLmFkZFRvKG1hcF9iZTQzNmZiOGNjZGY0MzhiYjIzNDc4ZmYyMGEwZTVkMik7CiAgICAgICAgICAgIAogICAgCiAgICAgICAgICAgIHZhciBwb3B1cF8wYjJiYTQ3ZDVmNWY0NTE5ODYzMzBkMGI1MDVlYmFjZiA9IEwucG9wdXAoe21heFdpZHRoOiAnMzAwJ30pOwoKICAgICAgICAgICAgCiAgICAgICAgICAgICAgICB2YXIgaHRtbF84NmMwNWZhM2E3OWE0NThhYTQ3YWY2MWFkMzlmYTQ2OCA9ICQoJzxkaXYgaWQ9Imh0bWxfODZjMDVmYTNhNzlhNDU4YWE0N2FmNjFhZDM5ZmE0NjgiIHN0eWxlPSJ3aWR0aDogMTAwLjAlOyBoZWlnaHQ6IDEwMC4wJTsiPkJpdGUsIDguNjwvZGl2PicpWzBdOwogICAgICAgICAgICAgICAgcG9wdXBfMGIyYmE0N2Q1ZjVmNDUxOTg2MzMwZDBiNTA1ZWJhY2Yuc2V0Q29udGVudChodG1sXzg2YzA1ZmEzYTc5YTQ1OGFhNDdhZjYxYWQzOWZhNDY4KTsKICAgICAgICAgICAgCgogICAgICAgICAgICBjaXJjbGVfbWFya2VyXzUzMzA1ZmE1MzM0ZTQzZWY4OGE0NmNmYjg3ZGJlM2VlLmJpbmRQb3B1cChwb3B1cF8wYjJiYTQ3ZDVmNWY0NTE5ODYzMzBkMGI1MDVlYmFjZik7CgogICAgICAgICAgICAKICAgICAgICAKICAgIAogICAgICAgICAgICB2YXIgY2lyY2xlX21hcmtlcl85MjhhNzAxZGUyMjU0YTdiYjM3MGI5ZjVkMWY2MWRlNCA9IEwuY2lyY2xlTWFya2VyKAogICAgICAgICAgICAgICAgWzQwLjc1Mzg3MTY2MDEyOTY3NiwtNzMuOTg1NzIzMjk0MzY3ODddLAogICAgICAgICAgICAgICAgewogICJidWJibGluZ01vdXNlRXZlbnRzIjogdHJ1ZSwKICAiY29sb3IiOiAiZ3JlZW4iLAogICJkYXNoQXJyYXkiOiBudWxsLAogICJkYXNoT2Zmc2V0IjogbnVsbCwKICAiZmlsbCI6IHRydWUsCiAgImZpbGxDb2xvciI6ICJncmVlbiIsCiAgImZpbGxPcGFjaXR5IjogMC43LAogICJmaWxsUnVsZSI6ICJldmVub2RkIiwKICAibGluZUNhcCI6ICJyb3VuZCIsCiAgImxpbmVKb2luIjogInJvdW5kIiwKICAib3BhY2l0eSI6IDEuMCwKICAicmFkaXVzIjogNSwKICAic3Ryb2tlIjogdHJ1ZSwKICAid2VpZ2h0IjogMwp9CiAgICAgICAgICAgICAgICApLmFkZFRvKG1hcF9iZTQzNmZiOGNjZGY0MzhiYjIzNDc4ZmYyMGEwZTVkMik7CiAgICAgICAgICAgIAogICAgCiAgICAgICAgICAgIHZhciBwb3B1cF8zYjczYTdjNzE1NDY0NTkwYTNjM2M5Y2IzZTI2NDFhMiA9IEwucG9wdXAoe21heFdpZHRoOiAnMzAwJ30pOwoKICAgICAgICAgICAgCiAgICAgICAgICAgICAgICB2YXIgaHRtbF8zNWYxMDUzOGVhNjE0YzExYjZmZWM3ODdkZGEyMzY5YSA9ICQoJzxkaXYgaWQ9Imh0bWxfMzVmMTA1MzhlYTYxNGMxMWI2ZmVjNzg3ZGRhMjM2OWEiIHN0eWxlPSJ3aWR0aDogMTAwLjAlOyBoZWlnaHQ6IDEwMC4wJTsiPkNyaXNwLCA2Ljk8L2Rpdj4nKVswXTsKICAgICAgICAgICAgICAgIHBvcHVwXzNiNzNhN2M3MTU0NjQ1OTBhM2MzYzljYjNlMjY0MWEyLnNldENvbnRlbnQoaHRtbF8zNWYxMDUzOGVhNjE0YzExYjZmZWM3ODdkZGEyMzY5YSk7CiAgICAgICAgICAgIAoKICAgICAgICAgICAgY2lyY2xlX21hcmtlcl85MjhhNzAxZGUyMjU0YTdiYjM3MGI5ZjVkMWY2MWRlNC5iaW5kUG9wdXAocG9wdXBfM2I3M2E3YzcxNTQ2NDU5MGEzYzNjOWNiM2UyNjQxYTIpOwoKICAgICAgICAgICAgCiAgICAgICAgCiAgICAKICAgICAgICAgICAgdmFyIGNpcmNsZV9tYXJrZXJfNzI0YTZjZGI3YWZmNDg0ODk2ZWY1Y2RhYTlmNmU2Y2MgPSBMLmNpcmNsZU1hcmtlcigKICAgICAgICAgICAgICAgIFs0MC43MjY5OTQ4Mjg0ODE1NDQsLTczLjk4Mzg1NzgzNzU3OTM2XSwKICAgICAgICAgICAgICAgIHsKICAiYnViYmxpbmdNb3VzZUV2ZW50cyI6IHRydWUsCiAgImNvbG9yIjogIm9yYW5nZSIsCiAgImRhc2hBcnJheSI6IG51bGwsCiAgImRhc2hPZmZzZXQiOiBudWxsLAogICJmaWxsIjogdHJ1ZSwKICAiZmlsbENvbG9yIjogIm9yYW5nZSIsCiAgImZpbGxPcGFjaXR5IjogMC43LAogICJmaWxsUnVsZSI6ICJldmVub2RkIiwKICAibGluZUNhcCI6ICJyb3VuZCIsCiAgImxpbmVKb2luIjogInJvdW5kIiwKICAib3BhY2l0eSI6IDEuMCwKICAicmFkaXVzIjogNSwKICAic3Ryb2tlIjogdHJ1ZSwKICAid2VpZ2h0IjogMwp9CiAgICAgICAgICAgICAgICApLmFkZFRvKG1hcF9iZTQzNmZiOGNjZGY0MzhiYjIzNDc4ZmYyMGEwZTVkMik7CiAgICAgICAgICAgIAogICAgCiAgICAgICAgICAgIHZhciBwb3B1cF8yMjM5Mjc2NmI5NjE0N2U0YTllNWJkMDMyMDVhOWUxYSA9IEwucG9wdXAoe21heFdpZHRoOiAnMzAwJ30pOwoKICAgICAgICAgICAgCiAgICAgICAgICAgICAgICB2YXIgaHRtbF8zZDcyNzgxNmVjOWM0MGZlODYyYzlmN2IzYzdlOTkxMSA9ICQoJzxkaXYgaWQ9Imh0bWxfM2Q3Mjc4MTZlYzljNDBmZTg2MmM5ZjdiM2M3ZTk5MTEiIHN0eWxlPSJ3aWR0aDogMTAwLjAlOyBoZWlnaHQ6IDEwMC4wJTsiPkhvbHlsYW5kIE1hcmtldCwgOC40PC9kaXY+JylbMF07CiAgICAgICAgICAgICAgICBwb3B1cF8yMjM5Mjc2NmI5NjE0N2U0YTllNWJkMDMyMDVhOWUxYS5zZXRDb250ZW50KGh0bWxfM2Q3Mjc4MTZlYzljNDBmZTg2MmM5ZjdiM2M3ZTk5MTEpOwogICAgICAgICAgICAKCiAgICAgICAgICAgIGNpcmNsZV9tYXJrZXJfNzI0YTZjZGI3YWZmNDg0ODk2ZWY1Y2RhYTlmNmU2Y2MuYmluZFBvcHVwKHBvcHVwXzIyMzkyNzY2Yjk2MTQ3ZTRhOWU1YmQwMzIwNWE5ZTFhKTsKCiAgICAgICAgICAgIAogICAgICAgIAogICAgCiAgICAgICAgICAgIHZhciBjaXJjbGVfbWFya2VyXzRmMTc0MDAxNzE0OTQ0NjFhYjYzYzc2YTAyMGQwYWE3ID0gTC5jaXJjbGVNYXJrZXIoCiAgICAgICAgICAgICAgICBbNDAuNzM4MjM0MDI1MzA0MywtNzMuOTg3OTA2Mjg4MTY0NzhdLAogICAgICAgICAgICAgICAgewogICJidWJibGluZ01vdXNlRXZlbnRzIjogdHJ1ZSwKICAiY29sb3IiOiAib3JhbmdlIiwKICAiZGFzaEFycmF5IjogbnVsbCwKICAiZGFzaE9mZnNldCI6IG51bGwsCiAgImZpbGwiOiB0cnVlLAogICJmaWxsQ29sb3IiOiAib3JhbmdlIiwKICAiZmlsbE9wYWNpdHkiOiAwLjcsCiAgImZpbGxSdWxlIjogImV2ZW5vZGQiLAogICJsaW5lQ2FwIjogInJvdW5kIiwKICAibGluZUpvaW4iOiAicm91bmQiLAogICJvcGFjaXR5IjogMS4wLAogICJyYWRpdXMiOiA1LAogICJzdHJva2UiOiB0cnVlLAogICJ3ZWlnaHQiOiAzCn0KICAgICAgICAgICAgICAgICkuYWRkVG8obWFwX2JlNDM2ZmI4Y2NkZjQzOGJiMjM0NzhmZjIwYTBlNWQyKTsKICAgICAgICAgICAgCiAgICAKICAgICAgICAgICAgdmFyIHBvcHVwXzdhZjdjM2MxY2JlNTRhMWU5NTU5YWJjZDBlNzkwMmQxID0gTC5wb3B1cCh7bWF4V2lkdGg6ICczMDAnfSk7CgogICAgICAgICAgICAKICAgICAgICAgICAgICAgIHZhciBodG1sXzZiMzZmMmVhYzcwZTRlMGY4ZjhmZTQwODJkZThkYzIwID0gJCgnPGRpdiBpZD0iaHRtbF82YjM2ZjJlYWM3MGU0ZTBmOGY4ZmU0MDgyZGU4ZGMyMCIgc3R5bGU9IndpZHRoOiAxMDAuMCU7IGhlaWdodDogMTAwLjAlOyI+QmFyYm91bmlhLCA4LjU8L2Rpdj4nKVswXTsKICAgICAgICAgICAgICAgIHBvcHVwXzdhZjdjM2MxY2JlNTRhMWU5NTU5YWJjZDBlNzkwMmQxLnNldENvbnRlbnQoaHRtbF82YjM2ZjJlYWM3MGU0ZTBmOGY4ZmU0MDgyZGU4ZGMyMCk7CiAgICAgICAgICAgIAoKICAgICAgICAgICAgY2lyY2xlX21hcmtlcl80ZjE3NDAwMTcxNDk0NDYxYWI2M2M3NmEwMjBkMGFhNy5iaW5kUG9wdXAocG9wdXBfN2FmN2MzYzFjYmU1NGExZTk1NTlhYmNkMGU3OTAyZDEpOwoKICAgICAgICAgICAgCiAgICAgICAgCiAgICAKICAgICAgICAgICAgdmFyIGNpcmNsZV9tYXJrZXJfZmNmMGNkMzQ2MjRlNDgxYjlhNzY0ZjJiNzZkZWYwNzQgPSBMLmNpcmNsZU1hcmtlcigKICAgICAgICAgICAgICAgIFs0MC42NDg0MDIsLTczLjk3ODk1Nl0sCiAgICAgICAgICAgICAgICB7CiAgImJ1YmJsaW5nTW91c2VFdmVudHMiOiB0cnVlLAogICJjb2xvciI6ICJvcmFuZ2UiLAogICJkYXNoQXJyYXkiOiBudWxsLAogICJkYXNoT2Zmc2V0IjogbnVsbCwKICAiZmlsbCI6IHRydWUsCiAgImZpbGxDb2xvciI6ICJvcmFuZ2UiLAogICJmaWxsT3BhY2l0eSI6IDAuNywKICAiZmlsbFJ1bGUiOiAiZXZlbm9kZCIsCiAgImxpbmVDYXAiOiAicm91bmQiLAogICJsaW5lSm9pbiI6ICJyb3VuZCIsCiAgIm9wYWNpdHkiOiAxLjAsCiAgInJhZGl1cyI6IDUsCiAgInN0cm9rZSI6IHRydWUsCiAgIndlaWdodCI6IDMKfQogICAgICAgICAgICAgICAgKS5hZGRUbyhtYXBfYmU0MzZmYjhjY2RmNDM4YmIyMzQ3OGZmMjBhMGU1ZDIpOwogICAgICAgICAgICAKICAgIAogICAgICAgICAgICB2YXIgcG9wdXBfNDg4NWFmYTI2ZWZhNGE5OWE2NTg2OTM2NmFmNjAzMzcgPSBMLnBvcHVwKHttYXhXaWR0aDogJzMwMCd9KTsKCiAgICAgICAgICAgIAogICAgICAgICAgICAgICAgdmFyIGh0bWxfMTM0MWQyNTJiMWU1NDM0MmJmMmUzYTI3ZGM5MjQ5NDYgPSAkKCc8ZGl2IGlkPSJodG1sXzEzNDFkMjUyYjFlNTQzNDJiZjJlM2EyN2RjOTI0OTQ2IiBzdHlsZT0id2lkdGg6IDEwMC4wJTsgaGVpZ2h0OiAxMDAuMCU7Ij5CYXRhdGEgUGl0YSBCYXIsIDguNjwvZGl2PicpWzBdOwogICAgICAgICAgICAgICAgcG9wdXBfNDg4NWFmYTI2ZWZhNGE5OWE2NTg2OTM2NmFmNjAzMzcuc2V0Q29udGVudChodG1sXzEzNDFkMjUyYjFlNTQzNDJiZjJlM2EyN2RjOTI0OTQ2KTsKICAgICAgICAgICAgCgogICAgICAgICAgICBjaXJjbGVfbWFya2VyX2ZjZjBjZDM0NjI0ZTQ4MWI5YTc2NGYyYjc2ZGVmMDc0LmJpbmRQb3B1cChwb3B1cF80ODg1YWZhMjZlZmE0YTk5YTY1ODY5MzY2YWY2MDMzNyk7CgogICAgICAgICAgICAKICAgICAgICAKICAgIAogICAgICAgICAgICB2YXIgY2lyY2xlX21hcmtlcl85YjNhZmIyNmViNDU0Y2MzYTVjNzc0NGU2MWRlM2UzMCA9IEwuY2lyY2xlTWFya2VyKAogICAgICAgICAgICAgICAgWzQwLjc2NDQ0LC03My45OTIxNF0sCiAgICAgICAgICAgICAgICB7CiAgImJ1YmJsaW5nTW91c2VFdmVudHMiOiB0cnVlLAogICJjb2xvciI6ICJncmVlbiIsCiAgImRhc2hBcnJheSI6IG51bGwsCiAgImRhc2hPZmZzZXQiOiBudWxsLAogICJmaWxsIjogdHJ1ZSwKICAiZmlsbENvbG9yIjogImdyZWVuIiwKICAiZmlsbE9wYWNpdHkiOiAwLjcsCiAgImZpbGxSdWxlIjogImV2ZW5vZGQiLAogICJsaW5lQ2FwIjogInJvdW5kIiwKICAibGluZUpvaW4iOiAicm91bmQiLAogICJvcGFjaXR5IjogMS4wLAogICJyYWRpdXMiOiA1LAogICJzdHJva2UiOiB0cnVlLAogICJ3ZWlnaHQiOiAzCn0KICAgICAgICAgICAgICAgICkuYWRkVG8obWFwX2JlNDM2ZmI4Y2NkZjQzOGJiMjM0NzhmZjIwYTBlNWQyKTsKICAgICAgICAgICAgCiAgICAKICAgICAgICAgICAgdmFyIHBvcHVwX2Q0ZjFmZDgyYjc5YTRkYjFhYmI0ZTc0NTVmMWI5MDIyID0gTC5wb3B1cCh7bWF4V2lkdGg6ICczMDAnfSk7CgogICAgICAgICAgICAKICAgICAgICAgICAgICAgIHZhciBodG1sXzA0ZTdlYTllZWM1YjQ1MjY5ZTE1MjE0OWVlMTMxMDgzID0gJCgnPGRpdiBpZD0iaHRtbF8wNGU3ZWE5ZWVjNWI0NTI2OWUxNTIxNDllZTEzMTA4MyIgc3R5bGU9IndpZHRoOiAxMDAuMCU7IGhlaWdodDogMTAwLjAlOyI+SGEgU2Fsb24sIDYuOTwvZGl2PicpWzBdOwogICAgICAgICAgICAgICAgcG9wdXBfZDRmMWZkODJiNzlhNGRiMWFiYjRlNzQ1NWYxYjkwMjIuc2V0Q29udGVudChodG1sXzA0ZTdlYTllZWM1YjQ1MjY5ZTE1MjE0OWVlMTMxMDgzKTsKICAgICAgICAgICAgCgogICAgICAgICAgICBjaXJjbGVfbWFya2VyXzliM2FmYjI2ZWI0NTRjYzNhNWM3NzQ0ZTYxZGUzZTMwLmJpbmRQb3B1cChwb3B1cF9kNGYxZmQ4MmI3OWE0ZGIxYWJiNGU3NDU1ZjFiOTAyMik7CgogICAgICAgICAgICAKICAgICAgICAKICAgIAogICAgICAgICAgICB2YXIgY2lyY2xlX21hcmtlcl8xMWQyOGUwNzUzOGE0OThkOGY5YmI2MWU4MGY4NjJlMyA9IEwuY2lyY2xlTWFya2VyKAogICAgICAgICAgICAgICAgWzQwLjY4MjI2NjUxOTc4NDE5LC03My45NzYyNzE1MTgxOTM5NV0sCiAgICAgICAgICAgICAgICB7CiAgImJ1YmJsaW5nTW91c2VFdmVudHMiOiB0cnVlLAogICJjb2xvciI6ICJ5ZWxsb3ciLAogICJkYXNoQXJyYXkiOiBudWxsLAogICJkYXNoT2Zmc2V0IjogbnVsbCwKICAiZmlsbCI6IHRydWUsCiAgImZpbGxDb2xvciI6ICJ5ZWxsb3ciLAogICJmaWxsT3BhY2l0eSI6IDAuNywKICAiZmlsbFJ1bGUiOiAiZXZlbm9kZCIsCiAgImxpbmVDYXAiOiAicm91bmQiLAogICJsaW5lSm9pbiI6ICJyb3VuZCIsCiAgIm9wYWNpdHkiOiAxLjAsCiAgInJhZGl1cyI6IDUsCiAgInN0cm9rZSI6IHRydWUsCiAgIndlaWdodCI6IDMKfQogICAgICAgICAgICAgICAgKS5hZGRUbyhtYXBfYmU0MzZmYjhjY2RmNDM4YmIyMzQ3OGZmMjBhMGU1ZDIpOwogICAgICAgICAgICAKICAgIAogICAgICAgICAgICB2YXIgcG9wdXBfNDQ2MDFlZTE3YTAzNGRlYzliMTEwOTg3N2I0MjAwOTEgPSBMLnBvcHVwKHttYXhXaWR0aDogJzMwMCd9KTsKCiAgICAgICAgICAgIAogICAgICAgICAgICAgICAgdmFyIGh0bWxfZTFmYWNhNDdmZTliNGM0Njg2ZjA1MTc1NmFlNjQ2YTAgPSAkKCc8ZGl2IGlkPSJodG1sX2UxZmFjYTQ3ZmU5YjRjNDY4NmYwNTE3NTZhZTY0NmEwIiBzdHlsZT0id2lkdGg6IDEwMC4wJTsgaGVpZ2h0OiAxMDAuMCU7Ij5LdWx1c2hrYXQsIDcuOTwvZGl2PicpWzBdOwogICAgICAgICAgICAgICAgcG9wdXBfNDQ2MDFlZTE3YTAzNGRlYzliMTEwOTg3N2I0MjAwOTEuc2V0Q29udGVudChodG1sX2UxZmFjYTQ3ZmU5YjRjNDY4NmYwNTE3NTZhZTY0NmEwKTsKICAgICAgICAgICAgCgogICAgICAgICAgICBjaXJjbGVfbWFya2VyXzExZDI4ZTA3NTM4YTQ5OGQ4ZjliYjYxZTgwZjg2MmUzLmJpbmRQb3B1cChwb3B1cF80NDYwMWVlMTdhMDM0ZGVjOWIxMTA5ODc3YjQyMDA5MSk7CgogICAgICAgICAgICAKICAgICAgICAKICAgIAogICAgICAgICAgICB2YXIgY2lyY2xlX21hcmtlcl84Njg0NzJhNjQ1Y2E0MzI2OWIzZDRiYmQ2NWQxMmYwNSA9IEwuY2lyY2xlTWFya2VyKAogICAgICAgICAgICAgICAgWzQwLjc2NjEwMzQxNTE1MjQsLTczLjk5MDk5Njc3ODAxMTMyXSwKICAgICAgICAgICAgICAgIHsKICAiYnViYmxpbmdNb3VzZUV2ZW50cyI6IHRydWUsCiAgImNvbG9yIjogInJlZCIsCiAgImRhc2hBcnJheSI6IG51bGwsCiAgImRhc2hPZmZzZXQiOiBudWxsLAogICJmaWxsIjogdHJ1ZSwKICAiZmlsbENvbG9yIjogInJlZCIsCiAgImZpbGxPcGFjaXR5IjogMC43LAogICJmaWxsUnVsZSI6ICJldmVub2RkIiwKICAibGluZUNhcCI6ICJyb3VuZCIsCiAgImxpbmVKb2luIjogInJvdW5kIiwKICAib3BhY2l0eSI6IDEuMCwKICAicmFkaXVzIjogNSwKICAic3Ryb2tlIjogdHJ1ZSwKICAid2VpZ2h0IjogMwp9CiAgICAgICAgICAgICAgICApLmFkZFRvKG1hcF9iZTQzNmZiOGNjZGY0MzhiYjIzNDc4ZmYyMGEwZTVkMik7CiAgICAgICAgICAgIAogICAgCiAgICAgICAgICAgIHZhciBwb3B1cF8yNTAyZTQ1YjlhOWM0MTZkYmFmMzVmODkxNzIyZjZjYyA9IEwucG9wdXAoe21heFdpZHRoOiAnMzAwJ30pOwoKICAgICAgICAgICAgCiAgICAgICAgICAgICAgICB2YXIgaHRtbF9hZTE5YjRlMTJlOWI0OTc4ODVkODJiN2Q1YWU1NTkyMSA9ICQoJzxkaXYgaWQ9Imh0bWxfYWUxOWI0ZTEyZTliNDk3ODg1ZDgyYjdkNWFlNTU5MjEiIHN0eWxlPSJ3aWR0aDogMTAwLjAlOyBoZWlnaHQ6IDEwMC4wJTsiPlRhYm9vbiwgOS4wPC9kaXY+JylbMF07CiAgICAgICAgICAgICAgICBwb3B1cF8yNTAyZTQ1YjlhOWM0MTZkYmFmMzVmODkxNzIyZjZjYy5zZXRDb250ZW50KGh0bWxfYWUxOWI0ZTEyZTliNDk3ODg1ZDgyYjdkNWFlNTU5MjEpOwogICAgICAgICAgICAKCiAgICAgICAgICAgIGNpcmNsZV9tYXJrZXJfODY4NDcyYTY0NWNhNDMyNjliM2Q0YmJkNjVkMTJmMDUuYmluZFBvcHVwKHBvcHVwXzI1MDJlNDViOWE5YzQxNmRiYWYzNWY4OTE3MjJmNmNjKTsKCiAgICAgICAgICAgIAogICAgICAgIAogICAgCiAgICAgICAgICAgIHZhciBjaXJjbGVfbWFya2VyXzMwMDgwMWUyYTJmMzQ3NTg5YjQzZWY2MGJhMzE5YWMwID0gTC5jaXJjbGVNYXJrZXIoCiAgICAgICAgICAgICAgICBbNDAuNzIyOTQ0MjU3MTgyODMsLTczLjk4ODcxODU3Njc5OTFdLAogICAgICAgICAgICAgICAgewogICJidWJibGluZ01vdXNlRXZlbnRzIjogdHJ1ZSwKICAiY29sb3IiOiAieWVsbG93IiwKICAiZGFzaEFycmF5IjogbnVsbCwKICAiZGFzaE9mZnNldCI6IG51bGwsCiAgImZpbGwiOiB0cnVlLAogICJmaWxsQ29sb3IiOiAieWVsbG93IiwKICAiZmlsbE9wYWNpdHkiOiAwLjcsCiAgImZpbGxSdWxlIjogImV2ZW5vZGQiLAogICJsaW5lQ2FwIjogInJvdW5kIiwKICAibGluZUpvaW4iOiAicm91bmQiLAogICJvcGFjaXR5IjogMS4wLAogICJyYWRpdXMiOiA1LAogICJzdHJva2UiOiB0cnVlLAogICJ3ZWlnaHQiOiAzCn0KICAgICAgICAgICAgICAgICkuYWRkVG8obWFwX2JlNDM2ZmI4Y2NkZjQzOGJiMjM0NzhmZjIwYTBlNWQyKTsKICAgICAgICAgICAgCiAgICAKICAgICAgICAgICAgdmFyIHBvcHVwX2ZmYWNhYzFhZGY3OTQ4NDFhNDE5YjY4NjBkNDA4ZTYwID0gTC5wb3B1cCh7bWF4V2lkdGg6ICczMDAnfSk7CgogICAgICAgICAgICAKICAgICAgICAgICAgICAgIHZhciBodG1sXzVmMWQ2NjFlNzdmMTQ0N2Q4ZWYzN2NiYzhiNGI2ZDA2ID0gJCgnPGRpdiBpZD0iaHRtbF81ZjFkNjYxZTc3ZjE0NDdkOGVmMzdjYmM4YjRiNmQwNiIgc3R5bGU9IndpZHRoOiAxMDAuMCU7IGhlaWdodDogMTAwLjAlOyI+TWV6ZXR0bywgNy43PC9kaXY+JylbMF07CiAgICAgICAgICAgICAgICBwb3B1cF9mZmFjYWMxYWRmNzk0ODQxYTQxOWI2ODYwZDQwOGU2MC5zZXRDb250ZW50KGh0bWxfNWYxZDY2MWU3N2YxNDQ3ZDhlZjM3Y2JjOGI0YjZkMDYpOwogICAgICAgICAgICAKCiAgICAgICAgICAgIGNpcmNsZV9tYXJrZXJfMzAwODAxZTJhMmYzNDc1ODliNDNlZjYwYmEzMTlhYzAuYmluZFBvcHVwKHBvcHVwX2ZmYWNhYzFhZGY3OTQ4NDFhNDE5YjY4NjBkNDA4ZTYwKTsKCiAgICAgICAgICAgIAogICAgICAgIAogICAgCiAgICAgICAgICAgIHZhciBjaXJjbGVfbWFya2VyXzY2NTk1ZDU2ZGFiYzQxMWQ5YWU2ZTE1OGJmNDYzZDYzID0gTC5jaXJjbGVNYXJrZXIoCiAgICAgICAgICAgICAgICBbNDAuNzMwMTM2MjI2NDU2MzIsLTc0LjAwMDQxOTk2NzI5NzVdLAogICAgICAgICAgICAgICAgewogICJidWJibGluZ01vdXNlRXZlbnRzIjogdHJ1ZSwKICAiY29sb3IiOiAib3JhbmdlIiwKICAiZGFzaEFycmF5IjogbnVsbCwKICAiZGFzaE9mZnNldCI6IG51bGwsCiAgImZpbGwiOiB0cnVlLAogICJmaWxsQ29sb3IiOiAib3JhbmdlIiwKICAiZmlsbE9wYWNpdHkiOiAwLjcsCiAgImZpbGxSdWxlIjogImV2ZW5vZGQiLAogICJsaW5lQ2FwIjogInJvdW5kIiwKICAibGluZUpvaW4iOiAicm91bmQiLAogICJvcGFjaXR5IjogMS4wLAogICJyYWRpdXMiOiA1LAogICJzdHJva2UiOiB0cnVlLAogICJ3ZWlnaHQiOiAzCn0KICAgICAgICAgICAgICAgICkuYWRkVG8obWFwX2JlNDM2ZmI4Y2NkZjQzOGJiMjM0NzhmZjIwYTBlNWQyKTsKICAgICAgICAgICAgCiAgICAKICAgICAgICAgICAgdmFyIHBvcHVwX2FmNDU5NDkwMWY1MDQ4YTZhMWM3NTNhYTVhN2NkNmNlID0gTC5wb3B1cCh7bWF4V2lkdGg6ICczMDAnfSk7CgogICAgICAgICAgICAKICAgICAgICAgICAgICAgIHZhciBodG1sXzAxMDZlNGI4Nzg3NjQ0NTM5YmYzN2Q0ZjQ2MDBjYTViID0gJCgnPGRpdiBpZD0iaHRtbF8wMTA2ZTRiODc4NzY0NDUzOWJmMzdkNGY0NjAwY2E1YiIgc3R5bGU9IndpZHRoOiAxMDAuMCU7IGhlaWdodDogMTAwLjAlOyI+T2xpdmUgVHJlZSBDYWZlLCA4LjI8L2Rpdj4nKVswXTsKICAgICAgICAgICAgICAgIHBvcHVwX2FmNDU5NDkwMWY1MDQ4YTZhMWM3NTNhYTVhN2NkNmNlLnNldENvbnRlbnQoaHRtbF8wMTA2ZTRiODc4NzY0NDUzOWJmMzdkNGY0NjAwY2E1Yik7CiAgICAgICAgICAgIAoKICAgICAgICAgICAgY2lyY2xlX21hcmtlcl82NjU5NWQ1NmRhYmM0MTFkOWFlNmUxNThiZjQ2M2Q2My5iaW5kUG9wdXAocG9wdXBfYWY0NTk0OTAxZjUwNDhhNmExYzc1M2FhNWE3Y2Q2Y2UpOwoKICAgICAgICAgICAgCiAgICAgICAgCiAgICAKICAgICAgICAgICAgdmFyIGNpcmNsZV9tYXJrZXJfMjY1ZmU1N2M1YWM1NGNmYTg5ODdlMzI0Nzg4YWY2NzAgPSBMLmNpcmNsZU1hcmtlcigKICAgICAgICAgICAgICAgIFs0MC43MTk5NDMzMjczOTgzMSwtNzMuODQ0OTc2MTQzOTYwMjddLAogICAgICAgICAgICAgICAgewogICJidWJibGluZ01vdXNlRXZlbnRzIjogdHJ1ZSwKICAiY29sb3IiOiAib3JhbmdlIiwKICAiZGFzaEFycmF5IjogbnVsbCwKICAiZGFzaE9mZnNldCI6IG51bGwsCiAgImZpbGwiOiB0cnVlLAogICJmaWxsQ29sb3IiOiAib3JhbmdlIiwKICAiZmlsbE9wYWNpdHkiOiAwLjcsCiAgImZpbGxSdWxlIjogImV2ZW5vZGQiLAogICJsaW5lQ2FwIjogInJvdW5kIiwKICAibGluZUpvaW4iOiAicm91bmQiLAogICJvcGFjaXR5IjogMS4wLAogICJyYWRpdXMiOiA1LAogICJzdHJva2UiOiB0cnVlLAogICJ3ZWlnaHQiOiAzCn0KICAgICAgICAgICAgICAgICkuYWRkVG8obWFwX2JlNDM2ZmI4Y2NkZjQzOGJiMjM0NzhmZjIwYTBlNWQyKTsKICAgICAgICAgICAgCiAgICAKICAgICAgICAgICAgdmFyIHBvcHVwX2UxMDZjODdkZTIwMjRkOGI5NmE5ZGU0NzViYTJhOGMzID0gTC5wb3B1cCh7bWF4V2lkdGg6ICczMDAnfSk7CgogICAgICAgICAgICAKICAgICAgICAgICAgICAgIHZhciBodG1sX2EzMDUxMTY2NzNhNjQ1Y2U5YjJiY2Q4N2E2MjQxOTBjID0gJCgnPGRpdiBpZD0iaHRtbF9hMzA1MTE2NjczYTY0NWNlOWIyYmNkODdhNjI0MTkwYyIgc3R5bGU9IndpZHRoOiAxMDAuMCU7IGhlaWdodDogMTAwLjAlOyI+UGFoYWwgWmFuIEZhbGFmZWwgJmFtcDsgTWVkaXRlcnJhbmVhbiBHcmlsbCwgOC4zPC9kaXY+JylbMF07CiAgICAgICAgICAgICAgICBwb3B1cF9lMTA2Yzg3ZGUyMDI0ZDhiOTZhOWRlNDc1YmEyYThjMy5zZXRDb250ZW50KGh0bWxfYTMwNTExNjY3M2E2NDVjZTliMmJjZDg3YTYyNDE5MGMpOwogICAgICAgICAgICAKCiAgICAgICAgICAgIGNpcmNsZV9tYXJrZXJfMjY1ZmU1N2M1YWM1NGNmYTg5ODdlMzI0Nzg4YWY2NzAuYmluZFBvcHVwKHBvcHVwX2UxMDZjODdkZTIwMjRkOGI5NmE5ZGU0NzViYTJhOGMzKTsKCiAgICAgICAgICAgIAogICAgICAgIAogICAgCiAgICAgICAgICAgIHZhciBjaXJjbGVfbWFya2VyX2M2ZDA3NDdiZDAxZDRjMDI4NzMzZTNiNDI3MDQ1ZjA4ID0gTC5jaXJjbGVNYXJrZXIoCiAgICAgICAgICAgICAgICBbNDAuNzg0MDQyMjMwNDM4NTgsLTczLjk3ODg1MDAwMzA1Mzk2XSwKICAgICAgICAgICAgICAgIHsKICAiYnViYmxpbmdNb3VzZUV2ZW50cyI6IHRydWUsCiAgImNvbG9yIjogIm9yYW5nZSIsCiAgImRhc2hBcnJheSI6IG51bGwsCiAgImRhc2hPZmZzZXQiOiBudWxsLAogICJmaWxsIjogdHJ1ZSwKICAiZmlsbENvbG9yIjogIm9yYW5nZSIsCiAgImZpbGxPcGFjaXR5IjogMC43LAogICJmaWxsUnVsZSI6ICJldmVub2RkIiwKICAibGluZUNhcCI6ICJyb3VuZCIsCiAgImxpbmVKb2luIjogInJvdW5kIiwKICAib3BhY2l0eSI6IDEuMCwKICAicmFkaXVzIjogNSwKICAic3Ryb2tlIjogdHJ1ZSwKICAid2VpZ2h0IjogMwp9CiAgICAgICAgICAgICAgICApLmFkZFRvKG1hcF9iZTQzNmZiOGNjZGY0MzhiYjIzNDc4ZmYyMGEwZTVkMik7CiAgICAgICAgICAgIAogICAgCiAgICAgICAgICAgIHZhciBwb3B1cF8wY2E4ZDI5YWI3OGM0M2M5YmFlMGUwNGQwMzcxMzE2ZiA9IEwucG9wdXAoe21heFdpZHRoOiAnMzAwJ30pOwoKICAgICAgICAgICAgCiAgICAgICAgICAgICAgICB2YXIgaHRtbF8wNjFlZjYwY2Q1MzI0NDliYWFkYjJhNTdiZGE1MGI2MyA9ICQoJzxkaXYgaWQ9Imh0bWxfMDYxZWY2MGNkNTMyNDQ5YmFhZGIyYTU3YmRhNTBiNjMiIHN0eWxlPSJ3aWR0aDogMTAwLjAlOyBoZWlnaHQ6IDEwMC4wJTsiPkdyaWxsIDIxMiwgOC4zPC9kaXY+JylbMF07CiAgICAgICAgICAgICAgICBwb3B1cF8wY2E4ZDI5YWI3OGM0M2M5YmFlMGUwNGQwMzcxMzE2Zi5zZXRDb250ZW50KGh0bWxfMDYxZWY2MGNkNTMyNDQ5YmFhZGIyYTU3YmRhNTBiNjMpOwogICAgICAgICAgICAKCiAgICAgICAgICAgIGNpcmNsZV9tYXJrZXJfYzZkMDc0N2JkMDFkNGMwMjg3MzNlM2I0MjcwNDVmMDguYmluZFBvcHVwKHBvcHVwXzBjYThkMjlhYjc4YzQzYzliYWUwZTA0ZDAzNzEzMTZmKTsKCiAgICAgICAgICAgIAogICAgICAgIAogICAgCiAgICAgICAgICAgIHZhciBjaXJjbGVfbWFya2VyXzQwMTQ2Zjg5YjQ4NDRlMjk5NmJmNDU3YWQzOTRiZTA2ID0gTC5jaXJjbGVNYXJrZXIoCiAgICAgICAgICAgICAgICBbNDAuNzM2NjEsLTczLjk5MTgxXSwKICAgICAgICAgICAgICAgIHsKICAiYnViYmxpbmdNb3VzZUV2ZW50cyI6IHRydWUsCiAgImNvbG9yIjogInJlZCIsCiAgImRhc2hBcnJheSI6IG51bGwsCiAgImRhc2hPZmZzZXQiOiBudWxsLAogICJmaWxsIjogdHJ1ZSwKICAiZmlsbENvbG9yIjogInJlZCIsCiAgImZpbGxPcGFjaXR5IjogMC43LAogICJmaWxsUnVsZSI6ICJldmVub2RkIiwKICAibGluZUNhcCI6ICJyb3VuZCIsCiAgImxpbmVKb2luIjogInJvdW5kIiwKICAib3BhY2l0eSI6IDEuMCwKICAicmFkaXVzIjogNSwKICAic3Ryb2tlIjogdHJ1ZSwKICAid2VpZ2h0IjogMwp9CiAgICAgICAgICAgICAgICApLmFkZFRvKG1hcF9iZTQzNmZiOGNjZGY0MzhiYjIzNDc4ZmYyMGEwZTVkMik7CiAgICAgICAgICAgIAogICAgCiAgICAgICAgICAgIHZhciBwb3B1cF8wNzkxYTBjNmZlYjk0ZTcwOWUzMDhmZTY0NmE5YzQ5YyA9IEwucG9wdXAoe21heFdpZHRoOiAnMzAwJ30pOwoKICAgICAgICAgICAgCiAgICAgICAgICAgICAgICB2YXIgaHRtbF9lODU3MjBhYThlMDQ0MWVkOWM4ZDg0OGE5ZTAzYmM0YyA9ICQoJzxkaXYgaWQ9Imh0bWxfZTg1NzIwYWE4ZTA0NDFlZDljOGQ4NDhhOWUwM2JjNGMiIHN0eWxlPSJ3aWR0aDogMTAwLjAlOyBoZWlnaHQ6IDEwMC4wJTsiPkJyZWFkcyBCYWtlcnksIDkuMzwvZGl2PicpWzBdOwogICAgICAgICAgICAgICAgcG9wdXBfMDc5MWEwYzZmZWI5NGU3MDllMzA4ZmU2NDZhOWM0OWMuc2V0Q29udGVudChodG1sX2U4NTcyMGFhOGUwNDQxZWQ5YzhkODQ4YTllMDNiYzRjKTsKICAgICAgICAgICAgCgogICAgICAgICAgICBjaXJjbGVfbWFya2VyXzQwMTQ2Zjg5YjQ4NDRlMjk5NmJmNDU3YWQzOTRiZTA2LmJpbmRQb3B1cChwb3B1cF8wNzkxYTBjNmZlYjk0ZTcwOWUzMDhmZTY0NmE5YzQ5Yyk7CgogICAgICAgICAgICAKICAgICAgICAKICAgIAogICAgICAgICAgICB2YXIgY2lyY2xlX21hcmtlcl80M2I0MzhkYjUzNTk0MWFmOTcxNTIyODZhY2ViNDYwNSA9IEwuY2lyY2xlTWFya2VyKAogICAgICAgICAgICAgICAgWzQwLjY0MDIxNzk2NzQ0ODMxNSwtNzMuOTY2NjkxNDIwMjQ0NF0sCiAgICAgICAgICAgICAgICB7CiAgImJ1YmJsaW5nTW91c2VFdmVudHMiOiB0cnVlLAogICJjb2xvciI6ICJvcmFuZ2UiLAogICJkYXNoQXJyYXkiOiBudWxsLAogICJkYXNoT2Zmc2V0IjogbnVsbCwKICAiZmlsbCI6IHRydWUsCiAgImZpbGxDb2xvciI6ICJvcmFuZ2UiLAogICJmaWxsT3BhY2l0eSI6IDAuNywKICAiZmlsbFJ1bGUiOiAiZXZlbm9kZCIsCiAgImxpbmVDYXAiOiAicm91bmQiLAogICJsaW5lSm9pbiI6ICJyb3VuZCIsCiAgIm9wYWNpdHkiOiAxLjAsCiAgInJhZGl1cyI6IDUsCiAgInN0cm9rZSI6IHRydWUsCiAgIndlaWdodCI6IDMKfQogICAgICAgICAgICAgICAgKS5hZGRUbyhtYXBfYmU0MzZmYjhjY2RmNDM4YmIyMzQ3OGZmMjBhMGU1ZDIpOwogICAgICAgICAgICAKICAgIAogICAgICAgICAgICB2YXIgcG9wdXBfN2E0MzlmNWE0Y2ViNDNlZThhMTU4ZTcyZDgxMjU2NjkgPSBMLnBvcHVwKHttYXhXaWR0aDogJzMwMCd9KTsKCiAgICAgICAgICAgIAogICAgICAgICAgICAgICAgdmFyIGh0bWxfZjJmZDUwZTYzODc0NDM5MmJjODg1OWNiZDZjZDhiNTggPSAkKCc8ZGl2IGlkPSJodG1sX2YyZmQ1MGU2Mzg3NDQzOTJiYzg4NTljYmQ2Y2Q4YjU4IiBzdHlsZT0id2lkdGg6IDEwMC4wJTsgaGVpZ2h0OiAxMDAuMCU7Ij5NaW1pJiMzOTtzIEh1bW11cywgOC4yPC9kaXY+JylbMF07CiAgICAgICAgICAgICAgICBwb3B1cF83YTQzOWY1YTRjZWI0M2VlOGExNThlNzJkODEyNTY2OS5zZXRDb250ZW50KGh0bWxfZjJmZDUwZTYzODc0NDM5MmJjODg1OWNiZDZjZDhiNTgpOwogICAgICAgICAgICAKCiAgICAgICAgICAgIGNpcmNsZV9tYXJrZXJfNDNiNDM4ZGI1MzU5NDFhZjk3MTUyMjg2YWNlYjQ2MDUuYmluZFBvcHVwKHBvcHVwXzdhNDM5ZjVhNGNlYjQzZWU4YTE1OGU3MmQ4MTI1NjY5KTsKCiAgICAgICAgICAgIAogICAgICAgIAogICAgCiAgICAgICAgICAgIHZhciBjaXJjbGVfbWFya2VyXzBmYzNhZGIyMTE2NjQ1NTdiNTg3OTk2ZjJiYTljZmY0ID0gTC5jaXJjbGVNYXJrZXIoCiAgICAgICAgICAgICAgICBbNDAuNzc4MzI4ODM1MDk2Mzc0LC03My45ODA5NzI3NDkyMDU1NV0sCiAgICAgICAgICAgICAgICB7CiAgImJ1YmJsaW5nTW91c2VFdmVudHMiOiB0cnVlLAogICJjb2xvciI6ICJncmVlbiIsCiAgImRhc2hBcnJheSI6IG51bGwsCiAgImRhc2hPZmZzZXQiOiBudWxsLAogICJmaWxsIjogdHJ1ZSwKICAiZmlsbENvbG9yIjogImdyZWVuIiwKICAiZmlsbE9wYWNpdHkiOiAwLjcsCiAgImZpbGxSdWxlIjogImV2ZW5vZGQiLAogICJsaW5lQ2FwIjogInJvdW5kIiwKICAibGluZUpvaW4iOiAicm91bmQiLAogICJvcGFjaXR5IjogMS4wLAogICJyYWRpdXMiOiA1LAogICJzdHJva2UiOiB0cnVlLAogICJ3ZWlnaHQiOiAzCn0KICAgICAgICAgICAgICAgICkuYWRkVG8obWFwX2JlNDM2ZmI4Y2NkZjQzOGJiMjM0NzhmZjIwYTBlNWQyKTsKICAgICAgICAgICAgCiAgICAKICAgICAgICAgICAgdmFyIHBvcHVwX2M1NzM5NzQzNmZjNTRlYTZhODM1Njk2ZmYzNDBmMGUwID0gTC5wb3B1cCh7bWF4V2lkdGg6ICczMDAnfSk7CgogICAgICAgICAgICAKICAgICAgICAgICAgICAgIHZhciBodG1sXzAxOGI5Yjg2YWQ2YjRkNmQ5MmY4OTAwZmRlZGU3YmQ4ID0gJCgnPGRpdiBpZD0iaHRtbF8wMThiOWI4NmFkNmI0ZDZkOTJmODkwMGZkZWRlN2JkOCIgc3R5bGU9IndpZHRoOiAxMDAuMCU7IGhlaWdodDogMTAwLjAlOyI+TWl6bm9uIE5vcnRoLCA2Ljg8L2Rpdj4nKVswXTsKICAgICAgICAgICAgICAgIHBvcHVwX2M1NzM5NzQzNmZjNTRlYTZhODM1Njk2ZmYzNDBmMGUwLnNldENvbnRlbnQoaHRtbF8wMThiOWI4NmFkNmI0ZDZkOTJmODkwMGZkZWRlN2JkOCk7CiAgICAgICAgICAgIAoKICAgICAgICAgICAgY2lyY2xlX21hcmtlcl8wZmMzYWRiMjExNjY0NTU3YjU4Nzk5NmYyYmE5Y2ZmNC5iaW5kUG9wdXAocG9wdXBfYzU3Mzk3NDM2ZmM1NGVhNmE4MzU2OTZmZjM0MGYwZTApOwoKICAgICAgICAgICAgCiAgICAgICAgCiAgICAKICAgICAgICAgICAgdmFyIGNpcmNsZV9tYXJrZXJfYThlZWMzMGM2YWQ2NDA4ZmFjZmRiOTJhM2UyYWIwMWQgPSBMLmNpcmNsZU1hcmtlcigKICAgICAgICAgICAgICAgIFs0MC43NTU5NTMwNzk1NDAzNiwtNzMuOTkwNzI4MTY4ODMyOTddLAogICAgICAgICAgICAgICAgewogICJidWJibGluZ01vdXNlRXZlbnRzIjogdHJ1ZSwKICAiY29sb3IiOiAieWVsbG93IiwKICAiZGFzaEFycmF5IjogbnVsbCwKICAiZGFzaE9mZnNldCI6IG51bGwsCiAgImZpbGwiOiB0cnVlLAogICJmaWxsQ29sb3IiOiAieWVsbG93IiwKICAiZmlsbE9wYWNpdHkiOiAwLjcsCiAgImZpbGxSdWxlIjogImV2ZW5vZGQiLAogICJsaW5lQ2FwIjogInJvdW5kIiwKICAibGluZUpvaW4iOiAicm91bmQiLAogICJvcGFjaXR5IjogMS4wLAogICJyYWRpdXMiOiA1LAogICJzdHJva2UiOiB0cnVlLAogICJ3ZWlnaHQiOiAzCn0KICAgICAgICAgICAgICAgICkuYWRkVG8obWFwX2JlNDM2ZmI4Y2NkZjQzOGJiMjM0NzhmZjIwYTBlNWQyKTsKICAgICAgICAgICAgCiAgICAKICAgICAgICAgICAgdmFyIHBvcHVwX2U2ODVjNmY5ZDQ5NzQ1ZmNiYzU5MWYzZmY0MzQ0ZDljID0gTC5wb3B1cCh7bWF4V2lkdGg6ICczMDAnfSk7CgogICAgICAgICAgICAKICAgICAgICAgICAgICAgIHZhciBodG1sXzk3Mjk5YmJjNTdiODRmYWE5MzQ4MDU4YWZlNmFjNWFkID0gJCgnPGRpdiBpZD0iaHRtbF85NzI5OWJiYzU3Yjg0ZmFhOTM0ODA1OGFmZTZhYzVhZCIgc3R5bGU9IndpZHRoOiAxMDAuMCU7IGhlaWdodDogMTAwLjAlOyI+VGhlIEh1bW11cyAmYW1wOyBQaXRhIENvLiwgNy41PC9kaXY+JylbMF07CiAgICAgICAgICAgICAgICBwb3B1cF9lNjg1YzZmOWQ0OTc0NWZjYmM1OTFmM2ZmNDM0NGQ5Yy5zZXRDb250ZW50KGh0bWxfOTcyOTliYmM1N2I4NGZhYTkzNDgwNThhZmU2YWM1YWQpOwogICAgICAgICAgICAKCiAgICAgICAgICAgIGNpcmNsZV9tYXJrZXJfYThlZWMzMGM2YWQ2NDA4ZmFjZmRiOTJhM2UyYWIwMWQuYmluZFBvcHVwKHBvcHVwX2U2ODVjNmY5ZDQ5NzQ1ZmNiYzU5MWYzZmY0MzQ0ZDljKTsKCiAgICAgICAgICAgIAogICAgICAgIAogICAgCiAgICAgICAgICAgIHZhciBjaXJjbGVfbWFya2VyXzZhMjg3YmM3Y2VhNzQxNmU4MGVlZDY0MWJmYmUxMzg5ID0gTC5jaXJjbGVNYXJrZXIoCiAgICAgICAgICAgICAgICBbNDAuNzg0NTc0NzgzODk1MTEsLTczLjk3NzA1NDk4NDMxNTAzXSwKICAgICAgICAgICAgICAgIHsKICAiYnViYmxpbmdNb3VzZUV2ZW50cyI6IHRydWUsCiAgImNvbG9yIjogIm9yYW5nZSIsCiAgImRhc2hBcnJheSI6IG51bGwsCiAgImRhc2hPZmZzZXQiOiBudWxsLAogICJmaWxsIjogdHJ1ZSwKICAiZmlsbENvbG9yIjogIm9yYW5nZSIsCiAgImZpbGxPcGFjaXR5IjogMC43LAogICJmaWxsUnVsZSI6ICJldmVub2RkIiwKICAibGluZUNhcCI6ICJyb3VuZCIsCiAgImxpbmVKb2luIjogInJvdW5kIiwKICAib3BhY2l0eSI6IDEuMCwKICAicmFkaXVzIjogNSwKICAic3Ryb2tlIjogdHJ1ZSwKICAid2VpZ2h0IjogMwp9CiAgICAgICAgICAgICAgICApLmFkZFRvKG1hcF9iZTQzNmZiOGNjZGY0MzhiYjIzNDc4ZmYyMGEwZTVkMik7CiAgICAgICAgICAgIAogICAgCiAgICAgICAgICAgIHZhciBwb3B1cF8xOWUyZjYzNmJlYWM0NjhjYTlhNTM3YzJiOWU2NTY2MCA9IEwucG9wdXAoe21heFdpZHRoOiAnMzAwJ30pOwoKICAgICAgICAgICAgCiAgICAgICAgICAgICAgICB2YXIgaHRtbF9hNGZmN2JkY2IyMmM0OTA1YTI4YzJlMjQyMDc0YmIzZiA9ICQoJzxkaXYgaWQ9Imh0bWxfYTRmZjdiZGNiMjJjNDkwNWEyOGMyZTI0MjA3NGJiM2YiIHN0eWxlPSJ3aWR0aDogMTAwLjAlOyBoZWlnaHQ6IDEwMC4wJTsiPkdhemFsYSYjMzk7cywgOC42PC9kaXY+JylbMF07CiAgICAgICAgICAgICAgICBwb3B1cF8xOWUyZjYzNmJlYWM0NjhjYTlhNTM3YzJiOWU2NTY2MC5zZXRDb250ZW50KGh0bWxfYTRmZjdiZGNiMjJjNDkwNWEyOGMyZTI0MjA3NGJiM2YpOwogICAgICAgICAgICAKCiAgICAgICAgICAgIGNpcmNsZV9tYXJrZXJfNmEyODdiYzdjZWE3NDE2ZTgwZWVkNjQxYmZiZTEzODkuYmluZFBvcHVwKHBvcHVwXzE5ZTJmNjM2YmVhYzQ2OGNhOWE1MzdjMmI5ZTY1NjYwKTsKCiAgICAgICAgICAgIAogICAgICAgIAogICAgCiAgICAgICAgICAgIHZhciBjaXJjbGVfbWFya2VyXzI0MTQyM2NhNjJlYTQ0NTU5ZTUxOTgwMWRmMDdkM2RlID0gTC5jaXJjbGVNYXJrZXIoCiAgICAgICAgICAgICAgICBbNDAuNzI4NzgzMjMxOTAzMDMsLTczLjk3ODU2NTI3NzgzMjc2XSwKICAgICAgICAgICAgICAgIHsKICAiYnViYmxpbmdNb3VzZUV2ZW50cyI6IHRydWUsCiAgImNvbG9yIjogInllbGxvdyIsCiAgImRhc2hBcnJheSI6IG51bGwsCiAgImRhc2hPZmZzZXQiOiBudWxsLAogICJmaWxsIjogdHJ1ZSwKICAiZmlsbENvbG9yIjogInllbGxvdyIsCiAgImZpbGxPcGFjaXR5IjogMC43LAogICJmaWxsUnVsZSI6ICJldmVub2RkIiwKICAibGluZUNhcCI6ICJyb3VuZCIsCiAgImxpbmVKb2luIjogInJvdW5kIiwKICAib3BhY2l0eSI6IDEuMCwKICAicmFkaXVzIjogNSwKICAic3Ryb2tlIjogdHJ1ZSwKICAid2VpZ2h0IjogMwp9CiAgICAgICAgICAgICAgICApLmFkZFRvKG1hcF9iZTQzNmZiOGNjZGY0MzhiYjIzNDc4ZmYyMGEwZTVkMik7CiAgICAgICAgICAgIAogICAgCiAgICAgICAgICAgIHZhciBwb3B1cF8wMzg1MDM4ODY3Y2E0OTc2YTVjYmMxNDYzZDg0ZDVlNCA9IEwucG9wdXAoe21heFdpZHRoOiAnMzAwJ30pOwoKICAgICAgICAgICAgCiAgICAgICAgICAgICAgICB2YXIgaHRtbF9hYTcyNWE5NDJiNjQ0NGJlOGYwMjg0MDJmZWU3OTFjZSA9ICQoJzxkaXYgaWQ9Imh0bWxfYWE3MjVhOTQyYjY0NDRiZThmMDI4NDAyZmVlNzkxY2UiIHN0eWxlPSJ3aWR0aDogMTAwLjAlOyBoZWlnaHQ6IDEwMC4wJTsiPkIgQ3VwIENhZmUsIDcuOTwvZGl2PicpWzBdOwogICAgICAgICAgICAgICAgcG9wdXBfMDM4NTAzODg2N2NhNDk3NmE1Y2JjMTQ2M2Q4NGQ1ZTQuc2V0Q29udGVudChodG1sX2FhNzI1YTk0MmI2NDQ0YmU4ZjAyODQwMmZlZTc5MWNlKTsKICAgICAgICAgICAgCgogICAgICAgICAgICBjaXJjbGVfbWFya2VyXzI0MTQyM2NhNjJlYTQ0NTU5ZTUxOTgwMWRmMDdkM2RlLmJpbmRQb3B1cChwb3B1cF8wMzg1MDM4ODY3Y2E0OTc2YTVjYmMxNDYzZDg0ZDVlNCk7CgogICAgICAgICAgICAKICAgICAgICAKICAgIAogICAgICAgICAgICB2YXIgY2lyY2xlX21hcmtlcl8wMzNiODg4N2UxMjY0MmE2YTM1NjBhZjNkNTgzOGMwZCA9IEwuY2lyY2xlTWFya2VyKAogICAgICAgICAgICAgICAgWzQwLjc0MzY4Nzc5NDI5MjExNCwtNzMuOTc5ODYwMjQ2MTgxNDldLAogICAgICAgICAgICAgICAgewogICJidWJibGluZ01vdXNlRXZlbnRzIjogdHJ1ZSwKICAiY29sb3IiOiAieWVsbG93IiwKICAiZGFzaEFycmF5IjogbnVsbCwKICAiZGFzaE9mZnNldCI6IG51bGwsCiAgImZpbGwiOiB0cnVlLAogICJmaWxsQ29sb3IiOiAieWVsbG93IiwKICAiZmlsbE9wYWNpdHkiOiAwLjcsCiAgImZpbGxSdWxlIjogImV2ZW5vZGQiLAogICJsaW5lQ2FwIjogInJvdW5kIiwKICAibGluZUpvaW4iOiAicm91bmQiLAogICJvcGFjaXR5IjogMS4wLAogICJyYWRpdXMiOiA1LAogICJzdHJva2UiOiB0cnVlLAogICJ3ZWlnaHQiOiAzCn0KICAgICAgICAgICAgICAgICkuYWRkVG8obWFwX2JlNDM2ZmI4Y2NkZjQzOGJiMjM0NzhmZjIwYTBlNWQyKTsKICAgICAgICAgICAgCiAgICAKICAgICAgICAgICAgdmFyIHBvcHVwXzkyYWIzNjE2MDg3NTQ4MDFhMTg3OGY0NjUwZTRlZWJkID0gTC5wb3B1cCh7bWF4V2lkdGg6ICczMDAnfSk7CgogICAgICAgICAgICAKICAgICAgICAgICAgICAgIHZhciBodG1sXzVmZmQ1ZmZlZDRmMTRhOWQ4MDgyMmZjZmIyODVlNWU0ID0gJCgnPGRpdiBpZD0iaHRtbF81ZmZkNWZmZWQ0ZjE0YTlkODA4MjJmY2ZiMjg1ZTVlNCIgc3R5bGU9IndpZHRoOiAxMDAuMCU7IGhlaWdodDogMTAwLjAlOyI+SHVtbXVzIEtpdGNoZW4sIDcuNTwvZGl2PicpWzBdOwogICAgICAgICAgICAgICAgcG9wdXBfOTJhYjM2MTYwODc1NDgwMWExODc4ZjQ2NTBlNGVlYmQuc2V0Q29udGVudChodG1sXzVmZmQ1ZmZlZDRmMTRhOWQ4MDgyMmZjZmIyODVlNWU0KTsKICAgICAgICAgICAgCgogICAgICAgICAgICBjaXJjbGVfbWFya2VyXzAzM2I4ODg3ZTEyNjQyYTZhMzU2MGFmM2Q1ODM4YzBkLmJpbmRQb3B1cChwb3B1cF85MmFiMzYxNjA4NzU0ODAxYTE4NzhmNDY1MGU0ZWViZCk7CgogICAgICAgICAgICAKICAgICAgICAKICAgIAogICAgICAgICAgICB2YXIgY2lyY2xlX21hcmtlcl9mZGNjMDVlMmZkMzY0OGExOTZlMjk3OTMzMTI4MTc3YyA9IEwuY2lyY2xlTWFya2VyKAogICAgICAgICAgICAgICAgWzQwLjc5OTY1MTQ5MDI3NzExNCwtNzMuOTY4MjU3ODczMzUwMV0sCiAgICAgICAgICAgICAgICB7CiAgImJ1YmJsaW5nTW91c2VFdmVudHMiOiB0cnVlLAogICJjb2xvciI6ICJ5ZWxsb3ciLAogICJkYXNoQXJyYXkiOiBudWxsLAogICJkYXNoT2Zmc2V0IjogbnVsbCwKICAiZmlsbCI6IHRydWUsCiAgImZpbGxDb2xvciI6ICJ5ZWxsb3ciLAogICJmaWxsT3BhY2l0eSI6IDAuNywKICAiZmlsbFJ1bGUiOiAiZXZlbm9kZCIsCiAgImxpbmVDYXAiOiAicm91bmQiLAogICJsaW5lSm9pbiI6ICJyb3VuZCIsCiAgIm9wYWNpdHkiOiAxLjAsCiAgInJhZGl1cyI6IDUsCiAgInN0cm9rZSI6IHRydWUsCiAgIndlaWdodCI6IDMKfQogICAgICAgICAgICAgICAgKS5hZGRUbyhtYXBfYmU0MzZmYjhjY2RmNDM4YmIyMzQ3OGZmMjBhMGU1ZDIpOwogICAgICAgICAgICAKICAgIAogICAgICAgICAgICB2YXIgcG9wdXBfNDNiMDMyYWJmZWZjNGRlNjlmNDk2ZDBkMGEyZTBmMTQgPSBMLnBvcHVwKHttYXhXaWR0aDogJzMwMCd9KTsKCiAgICAgICAgICAgIAogICAgICAgICAgICAgICAgdmFyIGh0bWxfN2E1YTIwNGNjOGY2NDk0YTgyMGUxZDY3ZjIyN2U4ODAgPSAkKCc8ZGl2IGlkPSJodG1sXzdhNWEyMDRjYzhmNjQ5NGE4MjBlMWQ2N2YyMjdlODgwIiBzdHlsZT0id2lkdGg6IDEwMC4wJTsgaGVpZ2h0OiAxMDAuMCU7Ij5KZXJ1c2FsZW0gUmVzdGF1cmFudCwgNy43PC9kaXY+JylbMF07CiAgICAgICAgICAgICAgICBwb3B1cF80M2IwMzJhYmZlZmM0ZGU2OWY0OTZkMGQwYTJlMGYxNC5zZXRDb250ZW50KGh0bWxfN2E1YTIwNGNjOGY2NDk0YTgyMGUxZDY3ZjIyN2U4ODApOwogICAgICAgICAgICAKCiAgICAgICAgICAgIGNpcmNsZV9tYXJrZXJfZmRjYzA1ZTJmZDM2NDhhMTk2ZTI5NzkzMzEyODE3N2MuYmluZFBvcHVwKHBvcHVwXzQzYjAzMmFiZmVmYzRkZTY5ZjQ5NmQwZDBhMmUwZjE0KTsKCiAgICAgICAgICAgIAogICAgICAgIAogICAgCiAgICAgICAgICAgIHZhciBjaXJjbGVfbWFya2VyX2FhYjI4YjYzOTRhMDQzZDc5YzUxZWU1ODQwYTA0YWIxID0gTC5jaXJjbGVNYXJrZXIoCiAgICAgICAgICAgICAgICBbNDAuODA0NTYyODQ3ODk4MTQsLTczLjk1NTYyOTc0ODE0MTVdLAogICAgICAgICAgICAgICAgewogICJidWJibGluZ01vdXNlRXZlbnRzIjogdHJ1ZSwKICAiY29sb3IiOiAib3JhbmdlIiwKICAiZGFzaEFycmF5IjogbnVsbCwKICAiZGFzaE9mZnNldCI6IG51bGwsCiAgImZpbGwiOiB0cnVlLAogICJmaWxsQ29sb3IiOiAib3JhbmdlIiwKICAiZmlsbE9wYWNpdHkiOiAwLjcsCiAgImZpbGxSdWxlIjogImV2ZW5vZGQiLAogICJsaW5lQ2FwIjogInJvdW5kIiwKICAibGluZUpvaW4iOiAicm91bmQiLAogICJvcGFjaXR5IjogMS4wLAogICJyYWRpdXMiOiA1LAogICJzdHJva2UiOiB0cnVlLAogICJ3ZWlnaHQiOiAzCn0KICAgICAgICAgICAgICAgICkuYWRkVG8obWFwX2JlNDM2ZmI4Y2NkZjQzOGJiMjM0NzhmZjIwYTBlNWQyKTsKICAgICAgICAgICAgCiAgICAKICAgICAgICAgICAgdmFyIHBvcHVwX2Y2OTFkZTQ4YjA5MjRmMjc4ZmQ4NjM1ZTU1MDhiMWQwID0gTC5wb3B1cCh7bWF4V2lkdGg6ICczMDAnfSk7CgogICAgICAgICAgICAKICAgICAgICAgICAgICAgIHZhciBodG1sX2U0YTBjMDc3NzM4OTQyMjJhOGM5YTIxMjgyZDhjMzNmID0gJCgnPGRpdiBpZD0iaHRtbF9lNGEwYzA3NzczODk0MjIyYThjOWEyMTI4MmQ4YzMzZiIgc3R5bGU9IndpZHRoOiAxMDAuMCU7IGhlaWdodDogMTAwLjAlOyI+U2lsdmFuYSwgOC4yPC9kaXY+JylbMF07CiAgICAgICAgICAgICAgICBwb3B1cF9mNjkxZGU0OGIwOTI0ZjI3OGZkODYzNWU1NTA4YjFkMC5zZXRDb250ZW50KGh0bWxfZTRhMGMwNzc3Mzg5NDIyMmE4YzlhMjEyODJkOGMzM2YpOwogICAgICAgICAgICAKCiAgICAgICAgICAgIGNpcmNsZV9tYXJrZXJfYWFiMjhiNjM5NGEwNDNkNzljNTFlZTU4NDBhMDRhYjEuYmluZFBvcHVwKHBvcHVwX2Y2OTFkZTQ4YjA5MjRmMjc4ZmQ4NjM1ZTU1MDhiMWQwKTsKCiAgICAgICAgICAgIAogICAgICAgIAogICAgCiAgICAgICAgICAgIHZhciBjaXJjbGVfbWFya2VyXzBiMDRkZmY2Yzk3MjQxYTQ5YjJlYjhlOGQ0MTE1YjYyID0gTC5jaXJjbGVNYXJrZXIoCiAgICAgICAgICAgICAgICBbNDAuNzI2Mzc2MzAzNTg1MjI2LC03My45OTU0ODU0NjcwNjVdLAogICAgICAgICAgICAgICAgewogICJidWJibGluZ01vdXNlRXZlbnRzIjogdHJ1ZSwKICAiY29sb3IiOiAieWVsbG93IiwKICAiZGFzaEFycmF5IjogbnVsbCwKICAiZGFzaE9mZnNldCI6IG51bGwsCiAgImZpbGwiOiB0cnVlLAogICJmaWxsQ29sb3IiOiAieWVsbG93IiwKICAiZmlsbE9wYWNpdHkiOiAwLjcsCiAgImZpbGxSdWxlIjogImV2ZW5vZGQiLAogICJsaW5lQ2FwIjogInJvdW5kIiwKICAibGluZUpvaW4iOiAicm91bmQiLAogICJvcGFjaXR5IjogMS4wLAogICJyYWRpdXMiOiA1LAogICJzdHJva2UiOiB0cnVlLAogICJ3ZWlnaHQiOiAzCn0KICAgICAgICAgICAgICAgICkuYWRkVG8obWFwX2JlNDM2ZmI4Y2NkZjQzOGJiMjM0NzhmZjIwYTBlNWQyKTsKICAgICAgICAgICAgCiAgICAKICAgICAgICAgICAgdmFyIHBvcHVwXzQxMDFiNzZmOGZlZjQzMDVhMWI2YzI0NmIyMzcxM2RlID0gTC5wb3B1cCh7bWF4V2lkdGg6ICczMDAnfSk7CgogICAgICAgICAgICAKICAgICAgICAgICAgICAgIHZhciBodG1sXzI5ZDJmZjE4ZTJhMzQ0ZDlhYjI1ZWExYmQyOWU1MzM1ID0gJCgnPGRpdiBpZD0iaHRtbF8yOWQyZmYxOGUyYTM0NGQ5YWIyNWVhMWJkMjllNTMzNSIgc3R5bGU9IndpZHRoOiAxMDAuMCU7IGhlaWdodDogMTAwLjAlOyI+Q2Fmw6kgQW5nZWxpcXVlLCA3LjU8L2Rpdj4nKVswXTsKICAgICAgICAgICAgICAgIHBvcHVwXzQxMDFiNzZmOGZlZjQzMDVhMWI2YzI0NmIyMzcxM2RlLnNldENvbnRlbnQoaHRtbF8yOWQyZmYxOGUyYTM0NGQ5YWIyNWVhMWJkMjllNTMzNSk7CiAgICAgICAgICAgIAoKICAgICAgICAgICAgY2lyY2xlX21hcmtlcl8wYjA0ZGZmNmM5NzI0MWE0OWIyZWI4ZThkNDExNWI2Mi5iaW5kUG9wdXAocG9wdXBfNDEwMWI3NmY4ZmVmNDMwNWExYjZjMjQ2YjIzNzEzZGUpOwoKICAgICAgICAgICAgCiAgICAgICAgCiAgICAKICAgICAgICAgICAgdmFyIGNpcmNsZV9tYXJrZXJfYjFiY2Y2YjczNzdiNDc0OGFlNjk5NzE2ZjI1MWY1MjggPSBMLmNpcmNsZU1hcmtlcigKICAgICAgICAgICAgICAgIFs0MC43MjIzMTIsLTczLjk4NzM2Ml0sCiAgICAgICAgICAgICAgICB7CiAgImJ1YmJsaW5nTW91c2VFdmVudHMiOiB0cnVlLAogICJjb2xvciI6ICJyZWQiLAogICJkYXNoQXJyYXkiOiBudWxsLAogICJkYXNoT2Zmc2V0IjogbnVsbCwKICAiZmlsbCI6IHRydWUsCiAgImZpbGxDb2xvciI6ICJyZWQiLAogICJmaWxsT3BhY2l0eSI6IDAuNywKICAiZmlsbFJ1bGUiOiAiZXZlbm9kZCIsCiAgImxpbmVDYXAiOiAicm91bmQiLAogICJsaW5lSm9pbiI6ICJyb3VuZCIsCiAgIm9wYWNpdHkiOiAxLjAsCiAgInJhZGl1cyI6IDUsCiAgInN0cm9rZSI6IHRydWUsCiAgIndlaWdodCI6IDMKfQogICAgICAgICAgICAgICAgKS5hZGRUbyhtYXBfYmU0MzZmYjhjY2RmNDM4YmIyMzQ3OGZmMjBhMGU1ZDIpOwogICAgICAgICAgICAKICAgIAogICAgICAgICAgICB2YXIgcG9wdXBfMWNhMjkxMTc5ZTEzNGJhMWJkNWNlOTI0YThhOWVkYmIgPSBMLnBvcHVwKHttYXhXaWR0aDogJzMwMCd9KTsKCiAgICAgICAgICAgIAogICAgICAgICAgICAgICAgdmFyIGh0bWxfMDc3NGU4ZDI2NzRmNDVjODk0Njc2YmJjYTA1M2E0NDkgPSAkKCc8ZGl2IGlkPSJodG1sXzA3NzRlOGQyNjc0ZjQ1Yzg5NDY3NmJiY2EwNTNhNDQ5IiBzdHlsZT0id2lkdGg6IDEwMC4wJTsgaGVpZ2h0OiAxMDAuMCU7Ij5LYXR6JiMzOTtzIERlbGljYXRlc3NlbiwgOS4xPC9kaXY+JylbMF07CiAgICAgICAgICAgICAgICBwb3B1cF8xY2EyOTExNzllMTM0YmExYmQ1Y2U5MjRhOGE5ZWRiYi5zZXRDb250ZW50KGh0bWxfMDc3NGU4ZDI2NzRmNDVjODk0Njc2YmJjYTA1M2E0NDkpOwogICAgICAgICAgICAKCiAgICAgICAgICAgIGNpcmNsZV9tYXJrZXJfYjFiY2Y2YjczNzdiNDc0OGFlNjk5NzE2ZjI1MWY1MjguYmluZFBvcHVwKHBvcHVwXzFjYTI5MTE3OWUxMzRiYTFiZDVjZTkyNGE4YTllZGJiKTsKCiAgICAgICAgICAgIAogICAgICAgIAogICAgCiAgICAgICAgICAgIHZhciBjaXJjbGVfbWFya2VyXzY2YTY4MmY1MTcwNzRmYWZhMDdhY2Q4MzUxMzYwOGJjID0gTC5jaXJjbGVNYXJrZXIoCiAgICAgICAgICAgICAgICBbNDAuNzQwODUxMjA2MzIyNDQ2LC03My45OTgwMzcxMDc1NjY2NV0sCiAgICAgICAgICAgICAgICB7CiAgImJ1YmJsaW5nTW91c2VFdmVudHMiOiB0cnVlLAogICJjb2xvciI6ICJvcmFuZ2UiLAogICJkYXNoQXJyYXkiOiBudWxsLAogICJkYXNoT2Zmc2V0IjogbnVsbCwKICAiZmlsbCI6IHRydWUsCiAgImZpbGxDb2xvciI6ICJvcmFuZ2UiLAogICJmaWxsT3BhY2l0eSI6IDAuNywKICAiZmlsbFJ1bGUiOiAiZXZlbm9kZCIsCiAgImxpbmVDYXAiOiAicm91bmQiLAogICJsaW5lSm9pbiI6ICJyb3VuZCIsCiAgIm9wYWNpdHkiOiAxLjAsCiAgInJhZGl1cyI6IDUsCiAgInN0cm9rZSI6IHRydWUsCiAgIndlaWdodCI6IDMKfQogICAgICAgICAgICAgICAgKS5hZGRUbyhtYXBfYmU0MzZmYjhjY2RmNDM4YmIyMzQ3OGZmMjBhMGU1ZDIpOwogICAgICAgICAgICAKICAgIAogICAgICAgICAgICB2YXIgcG9wdXBfMjZjYzZhMTY5MWJhNDM4YjkyYmQzZGU2MDhlYTdmYTIgPSBMLnBvcHVwKHttYXhXaWR0aDogJzMwMCd9KTsKCiAgICAgICAgICAgIAogICAgICAgICAgICAgICAgdmFyIGh0bWxfMzlmNGI4ZDZhZmY5NDRiYzg2ODc5YThiM2RlNjc3NGMgPSAkKCc8ZGl2IGlkPSJodG1sXzM5ZjRiOGQ2YWZmOTQ0YmM4Njg3OWE4YjNkZTY3NzRjIiBzdHlsZT0id2lkdGg6IDEwMC4wJTsgaGVpZ2h0OiAxMDAuMCU7Ij5UaGUgQ29tbW9ucyBDaGVsc2VhLCA4LjE8L2Rpdj4nKVswXTsKICAgICAgICAgICAgICAgIHBvcHVwXzI2Y2M2YTE2OTFiYTQzOGI5MmJkM2RlNjA4ZWE3ZmEyLnNldENvbnRlbnQoaHRtbF8zOWY0YjhkNmFmZjk0NGJjODY4NzlhOGIzZGU2Nzc0Yyk7CiAgICAgICAgICAgIAoKICAgICAgICAgICAgY2lyY2xlX21hcmtlcl82NmE2ODJmNTE3MDc0ZmFmYTA3YWNkODM1MTM2MDhiYy5iaW5kUG9wdXAocG9wdXBfMjZjYzZhMTY5MWJhNDM4YjkyYmQzZGU2MDhlYTdmYTIpOwoKICAgICAgICAgICAgCiAgICAgICAgCiAgICAKICAgICAgICAgICAgdmFyIGNpcmNsZV9tYXJrZXJfZGY0ZTc0N2ExZGVhNDhhNWI0MmFjYTEzOTBhZjY3ZTggPSBMLmNpcmNsZU1hcmtlcigKICAgICAgICAgICAgICAgIFs0MC43NzkyMDQ4NjIzOTQ5NiwtNzMuOTQ3NzAwOTk5MTU5ODVdLAogICAgICAgICAgICAgICAgewogICJidWJibGluZ01vdXNlRXZlbnRzIjogdHJ1ZSwKICAiY29sb3IiOiAieWVsbG93IiwKICAiZGFzaEFycmF5IjogbnVsbCwKICAiZGFzaE9mZnNldCI6IG51bGwsCiAgImZpbGwiOiB0cnVlLAogICJmaWxsQ29sb3IiOiAieWVsbG93IiwKICAiZmlsbE9wYWNpdHkiOiAwLjcsCiAgImZpbGxSdWxlIjogImV2ZW5vZGQiLAogICJsaW5lQ2FwIjogInJvdW5kIiwKICAibGluZUpvaW4iOiAicm91bmQiLAogICJvcGFjaXR5IjogMS4wLAogICJyYWRpdXMiOiA1LAogICJzdHJva2UiOiB0cnVlLAogICJ3ZWlnaHQiOiAzCn0KICAgICAgICAgICAgICAgICkuYWRkVG8obWFwX2JlNDM2ZmI4Y2NkZjQzOGJiMjM0NzhmZjIwYTBlNWQyKTsKICAgICAgICAgICAgCiAgICAKICAgICAgICAgICAgdmFyIHBvcHVwXzQ0NmM2ZWUzZmVkYTRmYjg5OGRhYzNhYTZjN2ZhZTA3ID0gTC5wb3B1cCh7bWF4V2lkdGg6ICczMDAnfSk7CgogICAgICAgICAgICAKICAgICAgICAgICAgICAgIHZhciBodG1sXzZmZTVkNDc3MjY2ZjQ3ODZiY2RkODQ5MTZlOTFlYzRmID0gJCgnPGRpdiBpZD0iaHRtbF82ZmU1ZDQ3NzI2NmY0Nzg2YmNkZDg0OTE2ZTkxZWM0ZiIgc3R5bGU9IndpZHRoOiAxMDAuMCU7IGhlaWdodDogMTAwLjAlOyI+TWVsbG93IFllbGxvdyAtIGNvZmZlZSAmYW1wOyB2aWJlcywgNy42PC9kaXY+JylbMF07CiAgICAgICAgICAgICAgICBwb3B1cF80NDZjNmVlM2ZlZGE0ZmI4OThkYWMzYWE2YzdmYWUwNy5zZXRDb250ZW50KGh0bWxfNmZlNWQ0NzcyNjZmNDc4NmJjZGQ4NDkxNmU5MWVjNGYpOwogICAgICAgICAgICAKCiAgICAgICAgICAgIGNpcmNsZV9tYXJrZXJfZGY0ZTc0N2ExZGVhNDhhNWI0MmFjYTEzOTBhZjY3ZTguYmluZFBvcHVwKHBvcHVwXzQ0NmM2ZWUzZmVkYTRmYjg5OGRhYzNhYTZjN2ZhZTA3KTsKCiAgICAgICAgICAgIAogICAgICAgIAogICAgCiAgICAgICAgICAgIHZhciBjaXJjbGVfbWFya2VyXzZjOWY3MmE2OWE5YjRmNGY4ZWE5OGM0NWNmOGZlYmQ3ID0gTC5jaXJjbGVNYXJrZXIoCiAgICAgICAgICAgICAgICBbNDAuNzI2OTE5LC03My45ODg0OTJdLAogICAgICAgICAgICAgICAgewogICJidWJibGluZ01vdXNlRXZlbnRzIjogdHJ1ZSwKICAiY29sb3IiOiAiZ3JlZW4iLAogICJkYXNoQXJyYXkiOiBudWxsLAogICJkYXNoT2Zmc2V0IjogbnVsbCwKICAiZmlsbCI6IHRydWUsCiAgImZpbGxDb2xvciI6ICJncmVlbiIsCiAgImZpbGxPcGFjaXR5IjogMC43LAogICJmaWxsUnVsZSI6ICJldmVub2RkIiwKICAibGluZUNhcCI6ICJyb3VuZCIsCiAgImxpbmVKb2luIjogInJvdW5kIiwKICAib3BhY2l0eSI6IDEuMCwKICAicmFkaXVzIjogNSwKICAic3Ryb2tlIjogdHJ1ZSwKICAid2VpZ2h0IjogMwp9CiAgICAgICAgICAgICAgICApLmFkZFRvKG1hcF9iZTQzNmZiOGNjZGY0MzhiYjIzNDc4ZmYyMGEwZTVkMik7CiAgICAgICAgICAgIAogICAgCiAgICAgICAgICAgIHZhciBwb3B1cF9lODFiYWZkMzU3NjQ0MmM2YmFmOTRkMGIwMTg2NWNlMyA9IEwucG9wdXAoe21heFdpZHRoOiAnMzAwJ30pOwoKICAgICAgICAgICAgCiAgICAgICAgICAgICAgICB2YXIgaHRtbF9iZDRhMzY5ZGYzNTU0MjcyOTQxNzFiMzI2ODljOWM5OSA9ICQoJzxkaXYgaWQ9Imh0bWxfYmQ0YTM2OWRmMzU1NDI3Mjk0MTcxYjMyNjg5YzljOTkiIHN0eWxlPSJ3aWR0aDogMTAwLjAlOyBoZWlnaHQ6IDEwMC4wJTsiPkxvY2FsIDkyLCA2LjU8L2Rpdj4nKVswXTsKICAgICAgICAgICAgICAgIHBvcHVwX2U4MWJhZmQzNTc2NDQyYzZiYWY5NGQwYjAxODY1Y2UzLnNldENvbnRlbnQoaHRtbF9iZDRhMzY5ZGYzNTU0MjcyOTQxNzFiMzI2ODljOWM5OSk7CiAgICAgICAgICAgIAoKICAgICAgICAgICAgY2lyY2xlX21hcmtlcl82YzlmNzJhNjlhOWI0ZjRmOGVhOThjNDVjZjhmZWJkNy5iaW5kUG9wdXAocG9wdXBfZTgxYmFmZDM1NzY0NDJjNmJhZjk0ZDBiMDE4NjVjZTMpOwoKICAgICAgICAgICAgCiAgICAgICAgCiAgICAKICAgICAgICAgICAgdmFyIGNpcmNsZV9tYXJrZXJfNmRjMjZhMWY4MzA0NGEzYzlkYzgyZWU3MTY3NWNkM2YgPSBMLmNpcmNsZU1hcmtlcigKICAgICAgICAgICAgICAgIFs0MC43Mjc3MjEyMzE4NzU4NywtNzMuODY0MDMyODUwOTU1NDFdLAogICAgICAgICAgICAgICAgewogICJidWJibGluZ01vdXNlRXZlbnRzIjogdHJ1ZSwKICAiY29sb3IiOiAib3JhbmdlIiwKICAiZGFzaEFycmF5IjogbnVsbCwKICAiZGFzaE9mZnNldCI6IG51bGwsCiAgImZpbGwiOiB0cnVlLAogICJmaWxsQ29sb3IiOiAib3JhbmdlIiwKICAiZmlsbE9wYWNpdHkiOiAwLjcsCiAgImZpbGxSdWxlIjogImV2ZW5vZGQiLAogICJsaW5lQ2FwIjogInJvdW5kIiwKICAibGluZUpvaW4iOiAicm91bmQiLAogICJvcGFjaXR5IjogMS4wLAogICJyYWRpdXMiOiA1LAogICJzdHJva2UiOiB0cnVlLAogICJ3ZWlnaHQiOiAzCn0KICAgICAgICAgICAgICAgICkuYWRkVG8obWFwX2JlNDM2ZmI4Y2NkZjQzOGJiMjM0NzhmZjIwYTBlNWQyKTsKICAgICAgICAgICAgCiAgICAKICAgICAgICAgICAgdmFyIHBvcHVwXzdiMWE4NWI3YzQxZjQ4NGQ5NDExMzMxNDQwNDRiY2YyID0gTC5wb3B1cCh7bWF4V2lkdGg6ICczMDAnfSk7CgogICAgICAgICAgICAKICAgICAgICAgICAgICAgIHZhciBodG1sXzZmYTI1ZDdiMjdlNzRiYmNiMmViOTM0MDZhYWRlNGM4ID0gJCgnPGRpdiBpZD0iaHRtbF82ZmEyNWQ3YjI3ZTc0YmJjYjJlYjkzNDA2YWFkZTRjOCIgc3R5bGU9IndpZHRoOiAxMDAuMCU7IGhlaWdodDogMTAwLjAlOyI+Q2hlYnVyZWNobmF5YSwgOC4wPC9kaXY+JylbMF07CiAgICAgICAgICAgICAgICBwb3B1cF83YjFhODViN2M0MWY0ODRkOTQxMTMzMTQ0MDQ0YmNmMi5zZXRDb250ZW50KGh0bWxfNmZhMjVkN2IyN2U3NGJiY2IyZWI5MzQwNmFhZGU0YzgpOwogICAgICAgICAgICAKCiAgICAgICAgICAgIGNpcmNsZV9tYXJrZXJfNmRjMjZhMWY4MzA0NGEzYzlkYzgyZWU3MTY3NWNkM2YuYmluZFBvcHVwKHBvcHVwXzdiMWE4NWI3YzQxZjQ4NGQ5NDExMzMxNDQwNDRiY2YyKTsKCiAgICAgICAgICAgIAogICAgICAgIAogICAgCiAgICAgICAgICAgIHZhciBjaXJjbGVfbWFya2VyXzViOTNmNzhmZDg0OTRmZjRiM2M4N2YwMGRlZGM1ZmE3ID0gTC5jaXJjbGVNYXJrZXIoCiAgICAgICAgICAgICAgICBbNDAuNzg2MDQzMzgzNTAyNDgsLTczLjk3NjIwMzk3MTE3OTgzXSwKICAgICAgICAgICAgICAgIHsKICAiYnViYmxpbmdNb3VzZUV2ZW50cyI6IHRydWUsCiAgImNvbG9yIjogInllbGxvdyIsCiAgImRhc2hBcnJheSI6IG51bGwsCiAgImRhc2hPZmZzZXQiOiBudWxsLAogICJmaWxsIjogdHJ1ZSwKICAiZmlsbENvbG9yIjogInllbGxvdyIsCiAgImZpbGxPcGFjaXR5IjogMC43LAogICJmaWxsUnVsZSI6ICJldmVub2RkIiwKICAibGluZUNhcCI6ICJyb3VuZCIsCiAgImxpbmVKb2luIjogInJvdW5kIiwKICAib3BhY2l0eSI6IDEuMCwKICAicmFkaXVzIjogNSwKICAic3Ryb2tlIjogdHJ1ZSwKICAid2VpZ2h0IjogMwp9CiAgICAgICAgICAgICAgICApLmFkZFRvKG1hcF9iZTQzNmZiOGNjZGY0MzhiYjIzNDc4ZmYyMGEwZTVkMik7CiAgICAgICAgICAgIAogICAgCiAgICAgICAgICAgIHZhciBwb3B1cF8xY2RhZGM3ZDM4MmY0YTIxOWMxZDZiMTIyZGE0NTQxNiA9IEwucG9wdXAoe21heFdpZHRoOiAnMzAwJ30pOwoKICAgICAgICAgICAgCiAgICAgICAgICAgICAgICB2YXIgaHRtbF85ZTllODJmODZhY2Q0NzViYmQyMTRkYTdiOTRjN2NjYyA9ICQoJzxkaXYgaWQ9Imh0bWxfOWU5ZTgyZjg2YWNkNDc1YmJkMjE0ZGE3Yjk0YzdjY2MiIHN0eWxlPSJ3aWR0aDogMTAwLjAlOyBoZWlnaHQ6IDEwMC4wJTsiPkJ1c3RhbiwgNy4zPC9kaXY+JylbMF07CiAgICAgICAgICAgICAgICBwb3B1cF8xY2RhZGM3ZDM4MmY0YTIxOWMxZDZiMTIyZGE0NTQxNi5zZXRDb250ZW50KGh0bWxfOWU5ZTgyZjg2YWNkNDc1YmJkMjE0ZGE3Yjk0YzdjY2MpOwogICAgICAgICAgICAKCiAgICAgICAgICAgIGNpcmNsZV9tYXJrZXJfNWI5M2Y3OGZkODQ5NGZmNGIzYzg3ZjAwZGVkYzVmYTcuYmluZFBvcHVwKHBvcHVwXzFjZGFkYzdkMzgyZjRhMjE5YzFkNmIxMjJkYTQ1NDE2KTsKCiAgICAgICAgICAgIAogICAgICAgIAogICAgCiAgICAgICAgICAgIHZhciBjaXJjbGVfbWFya2VyX2I3NDZhODMxMTk4MDQ0YTFhOTFmMGQ1ZDIwNTk0OTg3ID0gTC5jaXJjbGVNYXJrZXIoCiAgICAgICAgICAgICAgICBbNDAuNzkzMTIxOTYzNDI2OTIsLTczLjk3MjM2MzE4NjU3NTFdLAogICAgICAgICAgICAgICAgewogICJidWJibGluZ01vdXNlRXZlbnRzIjogdHJ1ZSwKICAiY29sb3IiOiAieWVsbG93IiwKICAiZGFzaEFycmF5IjogbnVsbCwKICAiZGFzaE9mZnNldCI6IG51bGwsCiAgImZpbGwiOiB0cnVlLAogICJmaWxsQ29sb3IiOiAieWVsbG93IiwKICAiZmlsbE9wYWNpdHkiOiAwLjcsCiAgImZpbGxSdWxlIjogImV2ZW5vZGQiLAogICJsaW5lQ2FwIjogInJvdW5kIiwKICAibGluZUpvaW4iOiAicm91bmQiLAogICJvcGFjaXR5IjogMS4wLAogICJyYWRpdXMiOiA1LAogICJzdHJva2UiOiB0cnVlLAogICJ3ZWlnaHQiOiAzCn0KICAgICAgICAgICAgICAgICkuYWRkVG8obWFwX2JlNDM2ZmI4Y2NkZjQzOGJiMjM0NzhmZjIwYTBlNWQyKTsKICAgICAgICAgICAgCiAgICAKICAgICAgICAgICAgdmFyIHBvcHVwXzU5MTNlZWIxZWZlZTQwNTc5MTQwYmY5ZTFhMjgyMjk0ID0gTC5wb3B1cCh7bWF4V2lkdGg6ICczMDAnfSk7CgogICAgICAgICAgICAKICAgICAgICAgICAgICAgIHZhciBodG1sXzQ2YzRlM2IwZDVlNzRmYTc5YThlNTkwZjMyN2E5ODE0ID0gJCgnPGRpdiBpZD0iaHRtbF80NmM0ZTNiMGQ1ZTc0ZmE3OWE4ZTU5MGYzMjdhOTgxNCIgc3R5bGU9IndpZHRoOiAxMDAuMCU7IGhlaWdodDogMTAwLjAlOyI+VmlubyBMZXZhbnRpbm8sIDcuMjwvZGl2PicpWzBdOwogICAgICAgICAgICAgICAgcG9wdXBfNTkxM2VlYjFlZmVlNDA1NzkxNDBiZjllMWEyODIyOTQuc2V0Q29udGVudChodG1sXzQ2YzRlM2IwZDVlNzRmYTc5YThlNTkwZjMyN2E5ODE0KTsKICAgICAgICAgICAgCgogICAgICAgICAgICBjaXJjbGVfbWFya2VyX2I3NDZhODMxMTk4MDQ0YTFhOTFmMGQ1ZDIwNTk0OTg3LmJpbmRQb3B1cChwb3B1cF81OTEzZWViMWVmZWU0MDU3OTE0MGJmOWUxYTI4MjI5NCk7CgogICAgICAgICAgICAKICAgICAgICAKICAgIAogICAgICAgICAgICB2YXIgY2lyY2xlX21hcmtlcl9kYWI4Yzg3ZTM1ZTY0ZThjYTE5ZWY2NDRiMTU4YjRjNSA9IEwuY2lyY2xlTWFya2VyKAogICAgICAgICAgICAgICAgWzQwLjczMzQ3MjQyMTM0OTUyLC03My45OTMxMzQ5ODYzNzQ1NF0sCiAgICAgICAgICAgICAgICB7CiAgImJ1YmJsaW5nTW91c2VFdmVudHMiOiB0cnVlLAogICJjb2xvciI6ICJncmVlbiIsCiAgImRhc2hBcnJheSI6IG51bGwsCiAgImRhc2hPZmZzZXQiOiBudWxsLAogICJmaWxsIjogdHJ1ZSwKICAiZmlsbENvbG9yIjogImdyZWVuIiwKICAiZmlsbE9wYWNpdHkiOiAwLjcsCiAgImZpbGxSdWxlIjogImV2ZW5vZGQiLAogICJsaW5lQ2FwIjogInJvdW5kIiwKICAibGluZUpvaW4iOiAicm91bmQiLAogICJvcGFjaXR5IjogMS4wLAogICJyYWRpdXMiOiA1LAogICJzdHJva2UiOiB0cnVlLAogICJ3ZWlnaHQiOiAzCn0KICAgICAgICAgICAgICAgICkuYWRkVG8obWFwX2JlNDM2ZmI4Y2NkZjQzOGJiMjM0NzhmZjIwYTBlNWQyKTsKICAgICAgICAgICAgCiAgICAKICAgICAgICAgICAgdmFyIHBvcHVwXzdmMDg4NjM3MGRjYjQ1Njk4MTdmZDMzMTMwZGJiMTc4ID0gTC5wb3B1cCh7bWF4V2lkdGg6ICczMDAnfSk7CgogICAgICAgICAgICAKICAgICAgICAgICAgICAgIHZhciBodG1sXzQ0NDlkNjU0NDI0YzQ3N2NiNDQ3Yzk3NmNhYTFlZDk3ID0gJCgnPGRpdiBpZD0iaHRtbF80NDQ5ZDY1NDQyNGM0NzdjYjQ0N2M5NzZjYWExZWQ5NyIgc3R5bGU9IndpZHRoOiAxMDAuMCU7IGhlaWdodDogMTAwLjAlOyI+TWludCBLaXRjaGVuLCA2Ljg8L2Rpdj4nKVswXTsKICAgICAgICAgICAgICAgIHBvcHVwXzdmMDg4NjM3MGRjYjQ1Njk4MTdmZDMzMTMwZGJiMTc4LnNldENvbnRlbnQoaHRtbF80NDQ5ZDY1NDQyNGM0NzdjYjQ0N2M5NzZjYWExZWQ5Nyk7CiAgICAgICAgICAgIAoKICAgICAgICAgICAgY2lyY2xlX21hcmtlcl9kYWI4Yzg3ZTM1ZTY0ZThjYTE5ZWY2NDRiMTU4YjRjNS5iaW5kUG9wdXAocG9wdXBfN2YwODg2MzcwZGNiNDU2OTgxN2ZkMzMxMzBkYmIxNzgpOwoKICAgICAgICAgICAgCiAgICAgICAgCiAgICAKICAgICAgICAgICAgdmFyIGNpcmNsZV9tYXJrZXJfOTMyMWE1ZjZjY2ZmNGJhZTlmOWNhZWI1YmYyYThkMGMgPSBMLmNpcmNsZU1hcmtlcigKICAgICAgICAgICAgICAgIFs0MC43NTI0OTAxMTY0MjExLC03My45NzQ2Njk5NDQ4MzI2OF0sCiAgICAgICAgICAgICAgICB7CiAgImJ1YmJsaW5nTW91c2VFdmVudHMiOiB0cnVlLAogICJjb2xvciI6ICJ5ZWxsb3ciLAogICJkYXNoQXJyYXkiOiBudWxsLAogICJkYXNoT2Zmc2V0IjogbnVsbCwKICAiZmlsbCI6IHRydWUsCiAgImZpbGxDb2xvciI6ICJ5ZWxsb3ciLAogICJmaWxsT3BhY2l0eSI6IDAuNywKICAiZmlsbFJ1bGUiOiAiZXZlbm9kZCIsCiAgImxpbmVDYXAiOiAicm91bmQiLAogICJsaW5lSm9pbiI6ICJyb3VuZCIsCiAgIm9wYWNpdHkiOiAxLjAsCiAgInJhZGl1cyI6IDUsCiAgInN0cm9rZSI6IHRydWUsCiAgIndlaWdodCI6IDMKfQogICAgICAgICAgICAgICAgKS5hZGRUbyhtYXBfYmU0MzZmYjhjY2RmNDM4YmIyMzQ3OGZmMjBhMGU1ZDIpOwogICAgICAgICAgICAKICAgIAogICAgICAgICAgICB2YXIgcG9wdXBfZWUzMjg0MWNkYzNlNGIyNDk0NTU1Yzg2Nzk2NTY0MTUgPSBMLnBvcHVwKHttYXhXaWR0aDogJzMwMCd9KTsKCiAgICAgICAgICAgIAogICAgICAgICAgICAgICAgdmFyIGh0bWxfNTU2YTAxN2RkYmNlNDFkN2IwMGNhNTg3ODI0MmVjNzcgPSAkKCc8ZGl2IGlkPSJodG1sXzU1NmEwMTdkZGJjZTQxZDdiMDBjYTU4NzgyNDJlYzc3IiBzdHlsZT0id2lkdGg6IDEwMC4wJTsgaGVpZ2h0OiAxMDAuMCU7Ij5NYWNjaGlhdG8gRXNwcmVzc28gQmFyLCA3Ljc8L2Rpdj4nKVswXTsKICAgICAgICAgICAgICAgIHBvcHVwX2VlMzI4NDFjZGMzZTRiMjQ5NDU1NWM4Njc5NjU2NDE1LnNldENvbnRlbnQoaHRtbF81NTZhMDE3ZGRiY2U0MWQ3YjAwY2E1ODc4MjQyZWM3Nyk7CiAgICAgICAgICAgIAoKICAgICAgICAgICAgY2lyY2xlX21hcmtlcl85MzIxYTVmNmNjZmY0YmFlOWY5Y2FlYjViZjJhOGQwYy5iaW5kUG9wdXAocG9wdXBfZWUzMjg0MWNkYzNlNGIyNDk0NTU1Yzg2Nzk2NTY0MTUpOwoKICAgICAgICAgICAgCiAgICAgICAgCiAgICAKICAgICAgICAgICAgdmFyIGNpcmNsZV9tYXJrZXJfZTk2YjQwZDYyNGRhNGE5Nzg2NDU4ZDgyMDcwYmE4M2UgPSBMLmNpcmNsZU1hcmtlcigKICAgICAgICAgICAgICAgIFs0MC43MTA3ODMwMTc3MjY4LC03My45NTM3MDQzODExMDkxMl0sCiAgICAgICAgICAgICAgICB7CiAgImJ1YmJsaW5nTW91c2VFdmVudHMiOiB0cnVlLAogICJjb2xvciI6ICJvcmFuZ2UiLAogICJkYXNoQXJyYXkiOiBudWxsLAogICJkYXNoT2Zmc2V0IjogbnVsbCwKICAiZmlsbCI6IHRydWUsCiAgImZpbGxDb2xvciI6ICJvcmFuZ2UiLAogICJmaWxsT3BhY2l0eSI6IDAuNywKICAiZmlsbFJ1bGUiOiAiZXZlbm9kZCIsCiAgImxpbmVDYXAiOiAicm91bmQiLAogICJsaW5lSm9pbiI6ICJyb3VuZCIsCiAgIm9wYWNpdHkiOiAxLjAsCiAgInJhZGl1cyI6IDUsCiAgInN0cm9rZSI6IHRydWUsCiAgIndlaWdodCI6IDMKfQogICAgICAgICAgICAgICAgKS5hZGRUbyhtYXBfYmU0MzZmYjhjY2RmNDM4YmIyMzQ3OGZmMjBhMGU1ZDIpOwogICAgICAgICAgICAKICAgIAogICAgICAgICAgICB2YXIgcG9wdXBfMDQ3YTkzM2E0ZDg5NDFlYjgzMmZjZTgxOGU2YzlkNGYgPSBMLnBvcHVwKHttYXhXaWR0aDogJzMwMCd9KTsKCiAgICAgICAgICAgIAogICAgICAgICAgICAgICAgdmFyIGh0bWxfYmZiOTQ1NmM1NzZkNGE2YWJiYjBkZTY2NGUwMjg0MTggPSAkKCc8ZGl2IGlkPSJodG1sX2JmYjk0NTZjNTc2ZDRhNmFiYmIwZGU2NjRlMDI4NDE4IiBzdHlsZT0id2lkdGg6IDEwMC4wJTsgaGVpZ2h0OiAxMDAuMCU7Ij5MaWdodGhvdXNlLCA4LjA8L2Rpdj4nKVswXTsKICAgICAgICAgICAgICAgIHBvcHVwXzA0N2E5MzNhNGQ4OTQxZWI4MzJmY2U4MThlNmM5ZDRmLnNldENvbnRlbnQoaHRtbF9iZmI5NDU2YzU3NmQ0YTZhYmJiMGRlNjY0ZTAyODQxOCk7CiAgICAgICAgICAgIAoKICAgICAgICAgICAgY2lyY2xlX21hcmtlcl9lOTZiNDBkNjI0ZGE0YTk3ODY0NThkODIwNzBiYTgzZS5iaW5kUG9wdXAocG9wdXBfMDQ3YTkzM2E0ZDg5NDFlYjgzMmZjZTgxOGU2YzlkNGYpOwoKICAgICAgICAgICAgCiAgICAgICAgCiAgICAKICAgICAgICAgICAgdmFyIGNpcmNsZV9tYXJrZXJfNDM1MTczNjU5MGRiNDc3MWFlMDY1ZDQyYmUzM2E4MTIgPSBMLmNpcmNsZU1hcmtlcigKICAgICAgICAgICAgICAgIFs0MC43ODY4MDk1NDEwMDQ4NCwtNzMuOTc1NjQwNjE3MDU0ODJdLAogICAgICAgICAgICAgICAgewogICJidWJibGluZ01vdXNlRXZlbnRzIjogdHJ1ZSwKICAiY29sb3IiOiAiZ3JlZW4iLAogICJkYXNoQXJyYXkiOiBudWxsLAogICJkYXNoT2Zmc2V0IjogbnVsbCwKICAiZmlsbCI6IHRydWUsCiAgImZpbGxDb2xvciI6ICJncmVlbiIsCiAgImZpbGxPcGFjaXR5IjogMC43LAogICJmaWxsUnVsZSI6ICJldmVub2RkIiwKICAibGluZUNhcCI6ICJyb3VuZCIsCiAgImxpbmVKb2luIjogInJvdW5kIiwKICAib3BhY2l0eSI6IDEuMCwKICAicmFkaXVzIjogNSwKICAic3Ryb2tlIjogdHJ1ZSwKICAid2VpZ2h0IjogMwp9CiAgICAgICAgICAgICAgICApLmFkZFRvKG1hcF9iZTQzNmZiOGNjZGY0MzhiYjIzNDc4ZmYyMGEwZTVkMik7CiAgICAgICAgICAgIAogICAgCiAgICAgICAgICAgIHZhciBwb3B1cF82MWZhN2Q3NThiZDU0Y2Y2OTc1Njk4MmNiYTIxODRkOSA9IEwucG9wdXAoe21heFdpZHRoOiAnMzAwJ30pOwoKICAgICAgICAgICAgCiAgICAgICAgICAgICAgICB2YXIgaHRtbF9lNzVmZjljNjUzN2Q0ODBlYTMyZmM0YmY2NTRkYzkwNiA9ICQoJzxkaXYgaWQ9Imh0bWxfZTc1ZmY5YzY1MzdkNDgwZWEzMmZjNGJmNjU0ZGM5MDYiIHN0eWxlPSJ3aWR0aDogMTAwLjAlOyBoZWlnaHQ6IDEwMC4wJTsiPkFsaWJhYmEgb2YgdGhlIFdlc3QgU2lkZSwgNi42PC9kaXY+JylbMF07CiAgICAgICAgICAgICAgICBwb3B1cF82MWZhN2Q3NThiZDU0Y2Y2OTc1Njk4MmNiYTIxODRkOS5zZXRDb250ZW50KGh0bWxfZTc1ZmY5YzY1MzdkNDgwZWEzMmZjNGJmNjU0ZGM5MDYpOwogICAgICAgICAgICAKCiAgICAgICAgICAgIGNpcmNsZV9tYXJrZXJfNDM1MTczNjU5MGRiNDc3MWFlMDY1ZDQyYmUzM2E4MTIuYmluZFBvcHVwKHBvcHVwXzYxZmE3ZDc1OGJkNTRjZjY5NzU2OTgyY2JhMjE4NGQ5KTsKCiAgICAgICAgICAgIAogICAgICAgIAogICAgCiAgICAgICAgICAgIHZhciBjaXJjbGVfbWFya2VyX2ZiZThmZmFjZmY1NzQ1ZGJhODBmMWJlODhlNWRjNjEyID0gTC5jaXJjbGVNYXJrZXIoCiAgICAgICAgICAgICAgICBbNDAuNzcxNDkzMDY2NzAwMjUsLTczLjk1NjQ2NzA2OTk2OTgzXSwKICAgICAgICAgICAgICAgIHsKICAiYnViYmxpbmdNb3VzZUV2ZW50cyI6IHRydWUsCiAgImNvbG9yIjogInllbGxvdyIsCiAgImRhc2hBcnJheSI6IG51bGwsCiAgImRhc2hPZmZzZXQiOiBudWxsLAogICJmaWxsIjogdHJ1ZSwKICAiZmlsbENvbG9yIjogInllbGxvdyIsCiAgImZpbGxPcGFjaXR5IjogMC43LAogICJmaWxsUnVsZSI6ICJldmVub2RkIiwKICAibGluZUNhcCI6ICJyb3VuZCIsCiAgImxpbmVKb2luIjogInJvdW5kIiwKICAib3BhY2l0eSI6IDEuMCwKICAicmFkaXVzIjogNSwKICAic3Ryb2tlIjogdHJ1ZSwKICAid2VpZ2h0IjogMwp9CiAgICAgICAgICAgICAgICApLmFkZFRvKG1hcF9iZTQzNmZiOGNjZGY0MzhiYjIzNDc4ZmYyMGEwZTVkMik7CiAgICAgICAgICAgIAogICAgCiAgICAgICAgICAgIHZhciBwb3B1cF9hNzY1OWVlZGIwM2Y0YzVhYThmMTcyOTE5YWFjZWZlMCA9IEwucG9wdXAoe21heFdpZHRoOiAnMzAwJ30pOwoKICAgICAgICAgICAgCiAgICAgICAgICAgICAgICB2YXIgaHRtbF84NjIxMDE4Zjc5OGQ0NjhjOTJmNDNmZDhlNzk1YWQ4OSA9ICQoJzxkaXYgaWQ9Imh0bWxfODYyMTAxOGY3OThkNDY4YzkyZjQzZmQ4ZTc5NWFkODkiIHN0eWxlPSJ3aWR0aDogMTAwLjAlOyBoZWlnaHQ6IDEwMC4wJTsiPkNhZmZlIE5vaSwgNy4zPC9kaXY+JylbMF07CiAgICAgICAgICAgICAgICBwb3B1cF9hNzY1OWVlZGIwM2Y0YzVhYThmMTcyOTE5YWFjZWZlMC5zZXRDb250ZW50KGh0bWxfODYyMTAxOGY3OThkNDY4YzkyZjQzZmQ4ZTc5NWFkODkpOwogICAgICAgICAgICAKCiAgICAgICAgICAgIGNpcmNsZV9tYXJrZXJfZmJlOGZmYWNmZjU3NDVkYmE4MGYxYmU4OGU1ZGM2MTIuYmluZFBvcHVwKHBvcHVwX2E3NjU5ZWVkYjAzZjRjNWFhOGYxNzI5MTlhYWNlZmUwKTsKCiAgICAgICAgICAgIAogICAgICAgIAogICAgCiAgICAgICAgICAgIHZhciBjaXJjbGVfbWFya2VyXzM0MTMxNjFmNTkxODQ2YzY5MGRlZTk0OTIzYTU2MDZhID0gTC5jaXJjbGVNYXJrZXIoCiAgICAgICAgICAgICAgICBbNDAuNzc2MDE5MTk2MDA1MiwtNzMuOTc5MzMyMjcxMjYyODhdLAogICAgICAgICAgICAgICAgewogICJidWJibGluZ01vdXNlRXZlbnRzIjogdHJ1ZSwKICAiY29sb3IiOiAib3JhbmdlIiwKICAiZGFzaEFycmF5IjogbnVsbCwKICAiZGFzaE9mZnNldCI6IG51bGwsCiAgImZpbGwiOiB0cnVlLAogICJmaWxsQ29sb3IiOiAib3JhbmdlIiwKICAiZmlsbE9wYWNpdHkiOiAwLjcsCiAgImZpbGxSdWxlIjogImV2ZW5vZGQiLAogICJsaW5lQ2FwIjogInJvdW5kIiwKICAibGluZUpvaW4iOiAicm91bmQiLAogICJvcGFjaXR5IjogMS4wLAogICJyYWRpdXMiOiA1LAogICJzdHJva2UiOiB0cnVlLAogICJ3ZWlnaHQiOiAzCn0KICAgICAgICAgICAgICAgICkuYWRkVG8obWFwX2JlNDM2ZmI4Y2NkZjQzOGJiMjM0NzhmZjIwYTBlNWQyKTsKICAgICAgICAgICAgCiAgICAKICAgICAgICAgICAgdmFyIHBvcHVwX2RhMmY1MGE4OTNkMTQ0YmE5OGRiODJhZWNmNzk1ODBmID0gTC5wb3B1cCh7bWF4V2lkdGg6ICczMDAnfSk7CgogICAgICAgICAgICAKICAgICAgICAgICAgICAgIHZhciBodG1sXzUyMGU4MDVkN2U4YjRiMmZiOTQ2Y2Q3NDNlNTNmYTJjID0gJCgnPGRpdiBpZD0iaHRtbF81MjBlODA1ZDdlOGI0YjJmYjk0NmNkNzQzZTUzZmEyYyIgc3R5bGU9IndpZHRoOiAxMDAuMCU7IGhlaWdodDogMTAwLjAlOyI+U2hhbGVsIExvdW5nZSwgOC4zPC9kaXY+JylbMF07CiAgICAgICAgICAgICAgICBwb3B1cF9kYTJmNTBhODkzZDE0NGJhOThkYjgyYWVjZjc5NTgwZi5zZXRDb250ZW50KGh0bWxfNTIwZTgwNWQ3ZThiNGIyZmI5NDZjZDc0M2U1M2ZhMmMpOwogICAgICAgICAgICAKCiAgICAgICAgICAgIGNpcmNsZV9tYXJrZXJfMzQxMzE2MWY1OTE4NDZjNjkwZGVlOTQ5MjNhNTYwNmEuYmluZFBvcHVwKHBvcHVwX2RhMmY1MGE4OTNkMTQ0YmE5OGRiODJhZWNmNzk1ODBmKTsKCiAgICAgICAgICAgIAogICAgICAgIAogICAgCiAgICAgICAgICAgIHZhciBjaXJjbGVfbWFya2VyX2ViYWNiNmIxMDZmZjQ3YmRhNmYxMDc3MDE2OTFkNDFmID0gTC5jaXJjbGVNYXJrZXIoCiAgICAgICAgICAgICAgICBbNDAuNzMyMDcyNTQwNjE5MjQsLTczLjk5OTY1Mjk3NjY4NjQ5XSwKICAgICAgICAgICAgICAgIHsKICAiYnViYmxpbmdNb3VzZUV2ZW50cyI6IHRydWUsCiAgImNvbG9yIjogInJlZCIsCiAgImRhc2hBcnJheSI6IG51bGwsCiAgImRhc2hPZmZzZXQiOiBudWxsLAogICJmaWxsIjogdHJ1ZSwKICAiZmlsbENvbG9yIjogInJlZCIsCiAgImZpbGxPcGFjaXR5IjogMC43LAogICJmaWxsUnVsZSI6ICJldmVub2RkIiwKICAibGluZUNhcCI6ICJyb3VuZCIsCiAgImxpbmVKb2luIjogInJvdW5kIiwKICAib3BhY2l0eSI6IDEuMCwKICAicmFkaXVzIjogNSwKICAic3Ryb2tlIjogdHJ1ZSwKICAid2VpZ2h0IjogMwp9CiAgICAgICAgICAgICAgICApLmFkZFRvKG1hcF9iZTQzNmZiOGNjZGY0MzhiYjIzNDc4ZmYyMGEwZTVkMik7CiAgICAgICAgICAgIAogICAgCiAgICAgICAgICAgIHZhciBwb3B1cF9iZDEyNzdlYjU3NGU0MGZiODJjY2YzZjMyNGNlM2RmYiA9IEwucG9wdXAoe21heFdpZHRoOiAnMzAwJ30pOwoKICAgICAgICAgICAgCiAgICAgICAgICAgICAgICB2YXIgaHRtbF9jYzlkZWU1OGFkOTg0ZWM0ODM1OWVmZmY5NTJmZmRmNCA9ICQoJzxkaXYgaWQ9Imh0bWxfY2M5ZGVlNThhZDk4NGVjNDgzNTllZmZmOTUyZmZkZjQiIHN0eWxlPSJ3aWR0aDogMTAwLjAlOyBoZWlnaHQ6IDEwMC4wJTsiPkJsdWUgSGlsbCwgOS4wPC9kaXY+JylbMF07CiAgICAgICAgICAgICAgICBwb3B1cF9iZDEyNzdlYjU3NGU0MGZiODJjY2YzZjMyNGNlM2RmYi5zZXRDb250ZW50KGh0bWxfY2M5ZGVlNThhZDk4NGVjNDgzNTllZmZmOTUyZmZkZjQpOwogICAgICAgICAgICAKCiAgICAgICAgICAgIGNpcmNsZV9tYXJrZXJfZWJhY2I2YjEwNmZmNDdiZGE2ZjEwNzcwMTY5MWQ0MWYuYmluZFBvcHVwKHBvcHVwX2JkMTI3N2ViNTc0ZTQwZmI4MmNjZjNmMzI0Y2UzZGZiKTsKCiAgICAgICAgICAgIAogICAgICAgIAogICAgCiAgICAgICAgICAgIHZhciBjaXJjbGVfbWFya2VyXzExOTFlODg2YTI3ZDRmNTJiNzJhNTExODk1N2ZlNzRjID0gTC5jaXJjbGVNYXJrZXIoCiAgICAgICAgICAgICAgICBbNDAuNjIyOTYxMTM0NTQ3MDYsLTczLjk2NDc0OTI0ODU1OTU2XSwKICAgICAgICAgICAgICAgIHsKICAiYnViYmxpbmdNb3VzZUV2ZW50cyI6IHRydWUsCiAgImNvbG9yIjogImdyZWVuIiwKICAiZGFzaEFycmF5IjogbnVsbCwKICAiZGFzaE9mZnNldCI6IG51bGwsCiAgImZpbGwiOiB0cnVlLAogICJmaWxsQ29sb3IiOiAiZ3JlZW4iLAogICJmaWxsT3BhY2l0eSI6IDAuNywKICAiZmlsbFJ1bGUiOiAiZXZlbm9kZCIsCiAgImxpbmVDYXAiOiAicm91bmQiLAogICJsaW5lSm9pbiI6ICJyb3VuZCIsCiAgIm9wYWNpdHkiOiAxLjAsCiAgInJhZGl1cyI6IDUsCiAgInN0cm9rZSI6IHRydWUsCiAgIndlaWdodCI6IDMKfQogICAgICAgICAgICAgICAgKS5hZGRUbyhtYXBfYmU0MzZmYjhjY2RmNDM4YmIyMzQ3OGZmMjBhMGU1ZDIpOwogICAgICAgICAgICAKICAgIAogICAgICAgICAgICB2YXIgcG9wdXBfZjI1NzU0M2ViZjRiNGQ5MDkyNDU5YjI1Nzc0Zjc0ZGIgPSBMLnBvcHVwKHttYXhXaWR0aDogJzMwMCd9KTsKCiAgICAgICAgICAgIAogICAgICAgICAgICAgICAgdmFyIGh0bWxfNmIxYWQ0ZmM1YjA1NGJkYWI5YzMyMjVmN2FjNzA3MmQgPSAkKCc8ZGl2IGlkPSJodG1sXzZiMWFkNGZjNWIwNTRiZGFiOWMzMjI1ZjdhYzcwNzJkIiBzdHlsZT0id2lkdGg6IDEwMC4wJTsgaGVpZ2h0OiAxMDAuMCU7Ij5PbHltcGljIFBpdGEsIDYuNDwvZGl2PicpWzBdOwogICAgICAgICAgICAgICAgcG9wdXBfZjI1NzU0M2ViZjRiNGQ5MDkyNDU5YjI1Nzc0Zjc0ZGIuc2V0Q29udGVudChodG1sXzZiMWFkNGZjNWIwNTRiZGFiOWMzMjI1ZjdhYzcwNzJkKTsKICAgICAgICAgICAgCgogICAgICAgICAgICBjaXJjbGVfbWFya2VyXzExOTFlODg2YTI3ZDRmNTJiNzJhNTExODk1N2ZlNzRjLmJpbmRQb3B1cChwb3B1cF9mMjU3NTQzZWJmNGI0ZDkwOTI0NTliMjU3NzRmNzRkYik7CgogICAgICAgICAgICAKICAgICAgICAKICAgIAogICAgICAgICAgICB2YXIgY2lyY2xlX21hcmtlcl9mMWJlOTlmZTg4OTc0YjE1Yjk0NTI5ODVkYjU1ZjMxZSA9IEwuY2lyY2xlTWFya2VyKAogICAgICAgICAgICAgICAgWzQwLjczNDM1MzkwNzkwMzA2LC03My45OTA4Nzg5NzM0MjU4MV0sCiAgICAgICAgICAgICAgICB7CiAgImJ1YmJsaW5nTW91c2VFdmVudHMiOiB0cnVlLAogICJjb2xvciI6ICJvcmFuZ2UiLAogICJkYXNoQXJyYXkiOiBudWxsLAogICJkYXNoT2Zmc2V0IjogbnVsbCwKICAiZmlsbCI6IHRydWUsCiAgImZpbGxDb2xvciI6ICJvcmFuZ2UiLAogICJmaWxsT3BhY2l0eSI6IDAuNywKICAiZmlsbFJ1bGUiOiAiZXZlbm9kZCIsCiAgImxpbmVDYXAiOiAicm91bmQiLAogICJsaW5lSm9pbiI6ICJyb3VuZCIsCiAgIm9wYWNpdHkiOiAxLjAsCiAgInJhZGl1cyI6IDUsCiAgInN0cm9rZSI6IHRydWUsCiAgIndlaWdodCI6IDMKfQogICAgICAgICAgICAgICAgKS5hZGRUbyhtYXBfYmU0MzZmYjhjY2RmNDM4YmIyMzQ3OGZmMjBhMGU1ZDIpOwogICAgICAgICAgICAKICAgIAogICAgICAgICAgICB2YXIgcG9wdXBfN2Q2MDlkNGE2NDFkNDI0M2E0YjA2NWE5YjNmMDJlMWEgPSBMLnBvcHVwKHttYXhXaWR0aDogJzMwMCd9KTsKCiAgICAgICAgICAgIAogICAgICAgICAgICAgICAgdmFyIGh0bWxfYTBlYzQxN2UyYjZlNDRkNWIxNWMxZDA2NWRlM2M2OTMgPSAkKCc8ZGl2IGlkPSJodG1sX2EwZWM0MTdlMmI2ZTQ0ZDViMTVjMWQwNjVkZTNjNjkzIiBzdHlsZT0id2lkdGg6IDEwMC4wJTsgaGVpZ2h0OiAxMDAuMCU7Ij5NYXggQnJlbm5lciwgOC43PC9kaXY+JylbMF07CiAgICAgICAgICAgICAgICBwb3B1cF83ZDYwOWQ0YTY0MWQ0MjQzYTRiMDY1YTliM2YwMmUxYS5zZXRDb250ZW50KGh0bWxfYTBlYzQxN2UyYjZlNDRkNWIxNWMxZDA2NWRlM2M2OTMpOwogICAgICAgICAgICAKCiAgICAgICAgICAgIGNpcmNsZV9tYXJrZXJfZjFiZTk5ZmU4ODk3NGIxNWI5NDUyOTg1ZGI1NWYzMWUuYmluZFBvcHVwKHBvcHVwXzdkNjA5ZDRhNjQxZDQyNDNhNGIwNjVhOWIzZjAyZTFhKTsKCiAgICAgICAgICAgIAogICAgICAgIAogICAgCiAgICAgICAgICAgIHZhciBjaXJjbGVfbWFya2VyX2U0NTJjNjhkZmE3YTRkMzQ5NjIxZGMyNjMwYTQ2YjIwID0gTC5jaXJjbGVNYXJrZXIoCiAgICAgICAgICAgICAgICBbNDAuNzQ0MDg3MzEyMjk3NzIsLTczLjk5NTM4NTA2NzcyMDg1XSwKICAgICAgICAgICAgICAgIHsKICAiYnViYmxpbmdNb3VzZUV2ZW50cyI6IHRydWUsCiAgImNvbG9yIjogImJsdWUiLAogICJkYXNoQXJyYXkiOiBudWxsLAogICJkYXNoT2Zmc2V0IjogbnVsbCwKICAiZmlsbCI6IHRydWUsCiAgImZpbGxDb2xvciI6ICJibHVlIiwKICAiZmlsbE9wYWNpdHkiOiAwLjcsCiAgImZpbGxSdWxlIjogImV2ZW5vZGQiLAogICJsaW5lQ2FwIjogInJvdW5kIiwKICAibGluZUpvaW4iOiAicm91bmQiLAogICJvcGFjaXR5IjogMS4wLAogICJyYWRpdXMiOiA1LAogICJzdHJva2UiOiB0cnVlLAogICJ3ZWlnaHQiOiAzCn0KICAgICAgICAgICAgICAgICkuYWRkVG8obWFwX2JlNDM2ZmI4Y2NkZjQzOGJiMjM0NzhmZjIwYTBlNWQyKTsKICAgICAgICAgICAgCiAgICAKICAgICAgICAgICAgdmFyIHBvcHVwXzU1M2U2MjgyMzgwNzQzNDE4MmIwNjg0ODE0ZDE1ODY4ID0gTC5wb3B1cCh7bWF4V2lkdGg6ICczMDAnfSk7CgogICAgICAgICAgICAKICAgICAgICAgICAgICAgIHZhciBodG1sX2M0ZTM0Y2FjODJiODQzNTc5NTIwYjkyYWIyN2IzOGQ1ID0gJCgnPGRpdiBpZD0iaHRtbF9jNGUzNGNhYzgyYjg0MzU3OTUyMGI5MmFiMjdiMzhkNSIgc3R5bGU9IndpZHRoOiAxMDAuMCU7IGhlaWdodDogMTAwLjAlOyI+V3JhcGlkbywgNS45PC9kaXY+JylbMF07CiAgICAgICAgICAgICAgICBwb3B1cF81NTNlNjI4MjM4MDc0MzQxODJiMDY4NDgxNGQxNTg2OC5zZXRDb250ZW50KGh0bWxfYzRlMzRjYWM4MmI4NDM1Nzk1MjBiOTJhYjI3YjM4ZDUpOwogICAgICAgICAgICAKCiAgICAgICAgICAgIGNpcmNsZV9tYXJrZXJfZTQ1MmM2OGRmYTdhNGQzNDk2MjFkYzI2MzBhNDZiMjAuYmluZFBvcHVwKHBvcHVwXzU1M2U2MjgyMzgwNzQzNDE4MmIwNjg0ODE0ZDE1ODY4KTsKCiAgICAgICAgICAgIAogICAgICAgIAogICAgCiAgICAgICAgICAgIHZhciBjaXJjbGVfbWFya2VyXzAxY2JmNGQzMjg3ZjQ1NjY5NGQyOGY5ZmMzZTU2MTkxID0gTC5jaXJjbGVNYXJrZXIoCiAgICAgICAgICAgICAgICBbNDAuNzQwODk2LC03NC4wMDE0MzFdLAogICAgICAgICAgICAgICAgewogICJidWJibGluZ01vdXNlRXZlbnRzIjogdHJ1ZSwKICAiY29sb3IiOiAib3JhbmdlIiwKICAiZGFzaEFycmF5IjogbnVsbCwKICAiZGFzaE9mZnNldCI6IG51bGwsCiAgImZpbGwiOiB0cnVlLAogICJmaWxsQ29sb3IiOiAib3JhbmdlIiwKICAiZmlsbE9wYWNpdHkiOiAwLjcsCiAgImZpbGxSdWxlIjogImV2ZW5vZGQiLAogICJsaW5lQ2FwIjogInJvdW5kIiwKICAibGluZUpvaW4iOiAicm91bmQiLAogICJvcGFjaXR5IjogMS4wLAogICJyYWRpdXMiOiA1LAogICJzdHJva2UiOiB0cnVlLAogICJ3ZWlnaHQiOiAzCn0KICAgICAgICAgICAgICAgICkuYWRkVG8obWFwX2JlNDM2ZmI4Y2NkZjQzOGJiMjM0NzhmZjIwYTBlNWQyKTsKICAgICAgICAgICAgCiAgICAKICAgICAgICAgICAgdmFyIHBvcHVwX2U0NDMxZTY3MDFkZjQyOTc4MGJlZmMxMDZjM2EwZTFjID0gTC5wb3B1cCh7bWF4V2lkdGg6ICczMDAnfSk7CgogICAgICAgICAgICAKICAgICAgICAgICAgICAgIHZhciBodG1sXzE2N2ZlNjI5MDIxMDQ3OTU4MTQzYmVhNTQ2MTBhMWQ4ID0gJCgnPGRpdiBpZD0iaHRtbF8xNjdmZTYyOTAyMTA0Nzk1ODE0M2JlYTU0NjEwYTFkOCIgc3R5bGU9IndpZHRoOiAxMDAuMCU7IGhlaWdodDogMTAwLjAlOyI+SmFja+KAmXMgV2lmZSBGcmVkYSwgOC4zPC9kaXY+JylbMF07CiAgICAgICAgICAgICAgICBwb3B1cF9lNDQzMWU2NzAxZGY0Mjk3ODBiZWZjMTA2YzNhMGUxYy5zZXRDb250ZW50KGh0bWxfMTY3ZmU2MjkwMjEwNDc5NTgxNDNiZWE1NDYxMGExZDgpOwogICAgICAgICAgICAKCiAgICAgICAgICAgIGNpcmNsZV9tYXJrZXJfMDFjYmY0ZDMyODdmNDU2Njk0ZDI4ZjlmYzNlNTYxOTEuYmluZFBvcHVwKHBvcHVwX2U0NDMxZTY3MDFkZjQyOTc4MGJlZmMxMDZjM2EwZTFjKTsKCiAgICAgICAgICAgIAogICAgICAgIAogICAgCiAgICAgICAgICAgIHZhciBjaXJjbGVfbWFya2VyX2MzZDU2MzU4ZDBkZDQ0Nzc4MjAzYzM2MjE5YjgyYjM1ID0gTC5jaXJjbGVNYXJrZXIoCiAgICAgICAgICAgICAgICBbNDAuNzU2NTAyNTU4NzQ0MjgsLTczLjk4NTg4OTE4NzYzMzkzXSwKICAgICAgICAgICAgICAgIHsKICAiYnViYmxpbmdNb3VzZUV2ZW50cyI6IHRydWUsCiAgImNvbG9yIjogInllbGxvdyIsCiAgImRhc2hBcnJheSI6IG51bGwsCiAgImRhc2hPZmZzZXQiOiBudWxsLAogICJmaWxsIjogdHJ1ZSwKICAiZmlsbENvbG9yIjogInllbGxvdyIsCiAgImZpbGxPcGFjaXR5IjogMC43LAogICJmaWxsUnVsZSI6ICJldmVub2RkIiwKICAibGluZUNhcCI6ICJyb3VuZCIsCiAgImxpbmVKb2luIjogInJvdW5kIiwKICAib3BhY2l0eSI6IDEuMCwKICAicmFkaXVzIjogNSwKICAic3Ryb2tlIjogdHJ1ZSwKICAid2VpZ2h0IjogMwp9CiAgICAgICAgICAgICAgICApLmFkZFRvKG1hcF9iZTQzNmZiOGNjZGY0MzhiYjIzNDc4ZmYyMGEwZTVkMik7CiAgICAgICAgICAgIAogICAgCiAgICAgICAgICAgIHZhciBwb3B1cF9mYzY0NzQ1N2ExMDc0MmQ2OGY2NGU0N2E1OGM4MWY4ZSA9IEwucG9wdXAoe21heFdpZHRoOiAnMzAwJ30pOwoKICAgICAgICAgICAgCiAgICAgICAgICAgICAgICB2YXIgaHRtbF8zYWVjNWI4ZTFhMDA0NmYxOGVjOTIzMWRiZGYxNjA4YiA9ICQoJzxkaXYgaWQ9Imh0bWxfM2FlYzViOGUxYTAwNDZmMThlYzkyMzFkYmRmMTYwOGIiIHN0eWxlPSJ3aWR0aDogMTAwLjAlOyBoZWlnaHQ6IDEwMC4wJTsiPkJyb29rbHluIERpbmVyLCA3LjU8L2Rpdj4nKVswXTsKICAgICAgICAgICAgICAgIHBvcHVwX2ZjNjQ3NDU3YTEwNzQyZDY4ZjY0ZTQ3YTU4YzgxZjhlLnNldENvbnRlbnQoaHRtbF8zYWVjNWI4ZTFhMDA0NmYxOGVjOTIzMWRiZGYxNjA4Yik7CiAgICAgICAgICAgIAoKICAgICAgICAgICAgY2lyY2xlX21hcmtlcl9jM2Q1NjM1OGQwZGQ0NDc3ODIwM2MzNjIxOWI4MmIzNS5iaW5kUG9wdXAocG9wdXBfZmM2NDc0NTdhMTA3NDJkNjhmNjRlNDdhNThjODFmOGUpOwoKICAgICAgICAgICAgCiAgICAgICAgCiAgICAKICAgICAgICAgICAgdmFyIGNpcmNsZV9tYXJrZXJfMzBhNWYxZDljY2EyNDgxZDgwN2U3MDVkZTkxOWQ4MTkgPSBMLmNpcmNsZU1hcmtlcigKICAgICAgICAgICAgICAgIFs0MC43NTIzMDQyODc5MjY2NCwtNzMuOTgzODU2MTY0Njk4NzZdLAogICAgICAgICAgICAgICAgewogICJidWJibGluZ01vdXNlRXZlbnRzIjogdHJ1ZSwKICAiY29sb3IiOiAiYmx1ZSIsCiAgImRhc2hBcnJheSI6IG51bGwsCiAgImRhc2hPZmZzZXQiOiBudWxsLAogICJmaWxsIjogdHJ1ZSwKICAiZmlsbENvbG9yIjogImJsdWUiLAogICJmaWxsT3BhY2l0eSI6IDAuNywKICAiZmlsbFJ1bGUiOiAiZXZlbm9kZCIsCiAgImxpbmVDYXAiOiAicm91bmQiLAogICJsaW5lSm9pbiI6ICJyb3VuZCIsCiAgIm9wYWNpdHkiOiAxLjAsCiAgInJhZGl1cyI6IDUsCiAgInN0cm9rZSI6IHRydWUsCiAgIndlaWdodCI6IDMKfQogICAgICAgICAgICAgICAgKS5hZGRUbyhtYXBfYmU0MzZmYjhjY2RmNDM4YmIyMzQ3OGZmMjBhMGU1ZDIpOwogICAgICAgICAgICAKICAgIAogICAgICAgICAgICB2YXIgcG9wdXBfMzI2OTQ5ZGRlNjBiNDRhNmJhNGI4NjVhMGFhNjViZTAgPSBMLnBvcHVwKHttYXhXaWR0aDogJzMwMCd9KTsKCiAgICAgICAgICAgIAogICAgICAgICAgICAgICAgdmFyIGh0bWxfN2FlNWM4NzA5MGRkNDQyOGJlODBjZWZjNDcyODY1NDkgPSAkKCc8ZGl2IGlkPSJodG1sXzdhZTVjODcwOTBkZDQ0MjhiZTgwY2VmYzQ3Mjg2NTQ5IiBzdHlsZT0id2lkdGg6IDEwMC4wJTsgaGVpZ2h0OiAxMDAuMCU7Ij5Db2xiZWgsIDUuNTwvZGl2PicpWzBdOwogICAgICAgICAgICAgICAgcG9wdXBfMzI2OTQ5ZGRlNjBiNDRhNmJhNGI4NjVhMGFhNjViZTAuc2V0Q29udGVudChodG1sXzdhZTVjODcwOTBkZDQ0MjhiZTgwY2VmYzQ3Mjg2NTQ5KTsKICAgICAgICAgICAgCgogICAgICAgICAgICBjaXJjbGVfbWFya2VyXzMwYTVmMWQ5Y2NhMjQ4MWQ4MDdlNzA1ZGU5MTlkODE5LmJpbmRQb3B1cChwb3B1cF8zMjY5NDlkZGU2MGI0NGE2YmE0Yjg2NWEwYWE2NWJlMCk7CgogICAgICAgICAgICAKICAgICAgICAKICAgIAogICAgICAgICAgICB2YXIgY2lyY2xlX21hcmtlcl8wZmJjYjIzOWM2ODE0NTFkYTdmOWI4ZTYyNWRhZGYxOCA9IEwuY2lyY2xlTWFya2VyKAogICAgICAgICAgICAgICAgWzQwLjYwODA0OTIzNTMwNzMxLC03My45NjAwOTkxMTQ0NjkyXSwKICAgICAgICAgICAgICAgIHsKICAiYnViYmxpbmdNb3VzZUV2ZW50cyI6IHRydWUsCiAgImNvbG9yIjogImdyZWVuIiwKICAiZGFzaEFycmF5IjogbnVsbCwKICAiZGFzaE9mZnNldCI6IG51bGwsCiAgImZpbGwiOiB0cnVlLAogICJmaWxsQ29sb3IiOiAiZ3JlZW4iLAogICJmaWxsT3BhY2l0eSI6IDAuNywKICAiZmlsbFJ1bGUiOiAiZXZlbm9kZCIsCiAgImxpbmVDYXAiOiAicm91bmQiLAogICJsaW5lSm9pbiI6ICJyb3VuZCIsCiAgIm9wYWNpdHkiOiAxLjAsCiAgInJhZGl1cyI6IDUsCiAgInN0cm9rZSI6IHRydWUsCiAgIndlaWdodCI6IDMKfQogICAgICAgICAgICAgICAgKS5hZGRUbyhtYXBfYmU0MzZmYjhjY2RmNDM4YmIyMzQ3OGZmMjBhMGU1ZDIpOwogICAgICAgICAgICAKICAgIAogICAgICAgICAgICB2YXIgcG9wdXBfOTgwNTUxMDhiNTk3NDg0Zjg3NGU0ZDljMDhjZWU4OTEgPSBMLnBvcHVwKHttYXhXaWR0aDogJzMwMCd9KTsKCiAgICAgICAgICAgIAogICAgICAgICAgICAgICAgdmFyIGh0bWxfODgzODQwMTlmYjFjNGI0NmI1ZWRhNTBmZjI3NzkxM2IgPSAkKCc8ZGl2IGlkPSJodG1sXzg4Mzg0MDE5ZmIxYzRiNDZiNWVkYTUwZmYyNzc5MTNiIiBzdHlsZT0id2lkdGg6IDEwMC4wJTsgaGVpZ2h0OiAxMDAuMCU7Ij5TdW5mbG93ZXIgQ2FmZSAtIEJyb29rbHluLCA2LjA8L2Rpdj4nKVswXTsKICAgICAgICAgICAgICAgIHBvcHVwXzk4MDU1MTA4YjU5NzQ4NGY4NzRlNGQ5YzA4Y2VlODkxLnNldENvbnRlbnQoaHRtbF84ODM4NDAxOWZiMWM0YjQ2YjVlZGE1MGZmMjc3OTEzYik7CiAgICAgICAgICAgIAoKICAgICAgICAgICAgY2lyY2xlX21hcmtlcl8wZmJjYjIzOWM2ODE0NTFkYTdmOWI4ZTYyNWRhZGYxOC5iaW5kUG9wdXAocG9wdXBfOTgwNTUxMDhiNTk3NDg0Zjg3NGU0ZDljMDhjZWU4OTEpOwoKICAgICAgICAgICAgCiAgICAgICAgCiAgICAKICAgICAgICAgICAgdmFyIGNpcmNsZV9tYXJrZXJfYWUzMjhkNjcwMGMxNGY3Njk2Yjk3NzQ2ZTIwYmRhZjIgPSBMLmNpcmNsZU1hcmtlcigKICAgICAgICAgICAgICAgIFs0MC43NDIyNTYxOTcwNTE1LC03My45OTMxNDM4MDQzMDA2NF0sCiAgICAgICAgICAgICAgICB7CiAgImJ1YmJsaW5nTW91c2VFdmVudHMiOiB0cnVlLAogICJjb2xvciI6ICJvcmFuZ2UiLAogICJkYXNoQXJyYXkiOiBudWxsLAogICJkYXNoT2Zmc2V0IjogbnVsbCwKICAiZmlsbCI6IHRydWUsCiAgImZpbGxDb2xvciI6ICJvcmFuZ2UiLAogICJmaWxsT3BhY2l0eSI6IDAuNywKICAiZmlsbFJ1bGUiOiAiZXZlbm9kZCIsCiAgImxpbmVDYXAiOiAicm91bmQiLAogICJsaW5lSm9pbiI6ICJyb3VuZCIsCiAgIm9wYWNpdHkiOiAxLjAsCiAgInJhZGl1cyI6IDUsCiAgInN0cm9rZSI6IHRydWUsCiAgIndlaWdodCI6IDMKfQogICAgICAgICAgICAgICAgKS5hZGRUbyhtYXBfYmU0MzZmYjhjY2RmNDM4YmIyMzQ3OGZmMjBhMGU1ZDIpOwogICAgICAgICAgICAKICAgIAogICAgICAgICAgICB2YXIgcG9wdXBfMjQ3MDIzNGIzNWNmNGZjNGFiY2YxYjFhZjc0ZjQzOWQgPSBMLnBvcHVwKHttYXhXaWR0aDogJzMwMCd9KTsKCiAgICAgICAgICAgIAogICAgICAgICAgICAgICAgdmFyIGh0bWxfZDBkOTM2OTkwODViNDMzZmE0ZjkzM2UzZWZkZTcwOTkgPSAkKCc8ZGl2IGlkPSJodG1sX2QwZDkzNjk5MDg1YjQzM2ZhNGY5MzNlM2VmZGU3MDk5IiBzdHlsZT0id2lkdGg6IDEwMC4wJTsgaGVpZ2h0OiAxMDAuMCU7Ij5UYcOvbSAxLCA4Ljg8L2Rpdj4nKVswXTsKICAgICAgICAgICAgICAgIHBvcHVwXzI0NzAyMzRiMzVjZjRmYzRhYmNmMWIxYWY3NGY0MzlkLnNldENvbnRlbnQoaHRtbF9kMGQ5MzY5OTA4NWI0MzNmYTRmOTMzZTNlZmRlNzA5OSk7CiAgICAgICAgICAgIAoKICAgICAgICAgICAgY2lyY2xlX21hcmtlcl9hZTMyOGQ2NzAwYzE0Zjc2OTZiOTc3NDZlMjBiZGFmMi5iaW5kUG9wdXAocG9wdXBfMjQ3MDIzNGIzNWNmNGZjNGFiY2YxYjFhZjc0ZjQzOWQpOwoKICAgICAgICAgICAgCiAgICAgICAgCiAgICAKICAgICAgICAgICAgdmFyIGNpcmNsZV9tYXJrZXJfOTlkYTUxOGRhYjZkNGEzMjg3Nzc2YzA2ODc2MDNhM2UgPSBMLmNpcmNsZU1hcmtlcigKICAgICAgICAgICAgICAgIFs0MC43Mjk5OTg3ODA3MzI0OSwtNzQuMDAzNTgzNjI5NTEzNjZdLAogICAgICAgICAgICAgICAgewogICJidWJibGluZ01vdXNlRXZlbnRzIjogdHJ1ZSwKICAiY29sb3IiOiAib3JhbmdlIiwKICAiZGFzaEFycmF5IjogbnVsbCwKICAiZGFzaE9mZnNldCI6IG51bGwsCiAgImZpbGwiOiB0cnVlLAogICJmaWxsQ29sb3IiOiAib3JhbmdlIiwKICAiZmlsbE9wYWNpdHkiOiAwLjcsCiAgImZpbGxSdWxlIjogImV2ZW5vZGQiLAogICJsaW5lQ2FwIjogInJvdW5kIiwKICAibGluZUpvaW4iOiAicm91bmQiLAogICJvcGFjaXR5IjogMS4wLAogICJyYWRpdXMiOiA1LAogICJzdHJva2UiOiB0cnVlLAogICJ3ZWlnaHQiOiAzCn0KICAgICAgICAgICAgICAgICkuYWRkVG8obWFwX2JlNDM2ZmI4Y2NkZjQzOGJiMjM0NzhmZjIwYTBlNWQyKTsKICAgICAgICAgICAgCiAgICAKICAgICAgICAgICAgdmFyIHBvcHVwXzNiMzM1YjkyNGJjYTQ0N2U5YmM3MjcxMGJhMDRmMDIzID0gTC5wb3B1cCh7bWF4V2lkdGg6ICczMDAnfSk7CgogICAgICAgICAgICAKICAgICAgICAgICAgICAgIHZhciBodG1sX2Y0ZWNiZGIyMzMwNDQ4Mzg4ODFkZjdlNWZhYWJjZGVlID0gJCgnPGRpdiBpZD0iaHRtbF9mNGVjYmRiMjMzMDQ0ODM4ODgxZGY3ZTVmYWFiY2RlZSIgc3R5bGU9IndpZHRoOiAxMDAuMCU7IGhlaWdodDogMTAwLjAlOyI+SmFjayYjMzk7cyBXaWZlIEZyZWRhIDEsIDguODwvZGl2PicpWzBdOwogICAgICAgICAgICAgICAgcG9wdXBfM2IzMzViOTI0YmNhNDQ3ZTliYzcyNzEwYmEwNGYwMjMuc2V0Q29udGVudChodG1sX2Y0ZWNiZGIyMzMwNDQ4Mzg4ODFkZjdlNWZhYWJjZGVlKTsKICAgICAgICAgICAgCgogICAgICAgICAgICBjaXJjbGVfbWFya2VyXzk5ZGE1MThkYWI2ZDRhMzI4Nzc3NmMwNjg3NjAzYTNlLmJpbmRQb3B1cChwb3B1cF8zYjMzNWI5MjRiY2E0NDdlOWJjNzI3MTBiYTA0ZjAyMyk7CgogICAgICAgICAgICAKICAgICAgICAKICAgIAogICAgICAgICAgICB2YXIgY2lyY2xlX21hcmtlcl83ZjFiOWVjM2I4ODM0MDRkYWMwYjYzYzJjNDAwZmI4YSA9IEwuY2lyY2xlTWFya2VyKAogICAgICAgICAgICAgICAgWzQwLjczOTI2OTA5MjcwMzY5NCwtNzMuOTk1NDkyNjY3OTQ2MTRdLAogICAgICAgICAgICAgICAgewogICJidWJibGluZ01vdXNlRXZlbnRzIjogdHJ1ZSwKICAiY29sb3IiOiAib3JhbmdlIiwKICAiZGFzaEFycmF5IjogbnVsbCwKICAiZGFzaE9mZnNldCI6IG51bGwsCiAgImZpbGwiOiB0cnVlLAogICJmaWxsQ29sb3IiOiAib3JhbmdlIiwKICAiZmlsbE9wYWNpdHkiOiAwLjcsCiAgImZpbGxSdWxlIjogImV2ZW5vZGQiLAogICJsaW5lQ2FwIjogInJvdW5kIiwKICAibGluZUpvaW4iOiAicm91bmQiLAogICJvcGFjaXR5IjogMS4wLAogICJyYWRpdXMiOiA1LAogICJzdHJva2UiOiB0cnVlLAogICJ3ZWlnaHQiOiAzCn0KICAgICAgICAgICAgICAgICkuYWRkVG8obWFwX2JlNDM2ZmI4Y2NkZjQzOGJiMjM0NzhmZjIwYTBlNWQyKTsKICAgICAgICAgICAgCiAgICAKICAgICAgICAgICAgdmFyIHBvcHVwXzEyZTk2ZjQ0ODMwYzRmNmM4Y2RjMzc0NDA3MTk3OGM3ID0gTC5wb3B1cCh7bWF4V2lkdGg6ICczMDAnfSk7CgogICAgICAgICAgICAKICAgICAgICAgICAgICAgIHZhciBodG1sX2NkOTUzNzZhNjgzNjRjMWE4NWFkMmM4NmVmZDljMmM1ID0gJCgnPGRpdiBpZD0iaHRtbF9jZDk1Mzc2YTY4MzY0YzFhODVhZDJjODZlZmQ5YzJjNSIgc3R5bGU9IndpZHRoOiAxMDAuMCU7IGhlaWdodDogMTAwLjAlOyI+VGhlIEh1bW11cyAmYW1wOyBQaXRhIENvIDEsIDguMzwvZGl2PicpWzBdOwogICAgICAgICAgICAgICAgcG9wdXBfMTJlOTZmNDQ4MzBjNGY2YzhjZGMzNzQ0MDcxOTc4Yzcuc2V0Q29udGVudChodG1sX2NkOTUzNzZhNjgzNjRjMWE4NWFkMmM4NmVmZDljMmM1KTsKICAgICAgICAgICAgCgogICAgICAgICAgICBjaXJjbGVfbWFya2VyXzdmMWI5ZWMzYjg4MzQwNGRhYzBiNjNjMmM0MDBmYjhhLmJpbmRQb3B1cChwb3B1cF8xMmU5NmY0NDgzMGM0ZjZjOGNkYzM3NDQwNzE5NzhjNyk7CgogICAgICAgICAgICAKICAgICAgICAKICAgIAogICAgICAgICAgICB2YXIgY2lyY2xlX21hcmtlcl9jOTgxY2YyYmY2NjI0NTI5ODU3MzNkOTNkMzM2Njc0YiA9IEwuY2lyY2xlTWFya2VyKAogICAgICAgICAgICAgICAgWzQwLjc3NjM3MjQxNzE3NDQ2NCwtNzMuOTUyODI3OTU3NzA1NzhdLAogICAgICAgICAgICAgICAgewogICJidWJibGluZ01vdXNlRXZlbnRzIjogdHJ1ZSwKICAiY29sb3IiOiAieWVsbG93IiwKICAiZGFzaEFycmF5IjogbnVsbCwKICAiZGFzaE9mZnNldCI6IG51bGwsCiAgImZpbGwiOiB0cnVlLAogICJmaWxsQ29sb3IiOiAieWVsbG93IiwKICAiZmlsbE9wYWNpdHkiOiAwLjcsCiAgImZpbGxSdWxlIjogImV2ZW5vZGQiLAogICJsaW5lQ2FwIjogInJvdW5kIiwKICAibGluZUpvaW4iOiAicm91bmQiLAogICJvcGFjaXR5IjogMS4wLAogICJyYWRpdXMiOiA1LAogICJzdHJva2UiOiB0cnVlLAogICJ3ZWlnaHQiOiAzCn0KICAgICAgICAgICAgICAgICkuYWRkVG8obWFwX2JlNDM2ZmI4Y2NkZjQzOGJiMjM0NzhmZjIwYTBlNWQyKTsKICAgICAgICAgICAgCiAgICAKICAgICAgICAgICAgdmFyIHBvcHVwXzU2MjQ0YzY0ZDE4YTQ4M2I4MTZmNGQ4MmEwMzMxMmNiID0gTC5wb3B1cCh7bWF4V2lkdGg6ICczMDAnfSk7CgogICAgICAgICAgICAKICAgICAgICAgICAgICAgIHZhciBodG1sXzU2MjlhNTcxZTU3OTQ3OTlhMmMzOWI4YWZkZTVkMDFiID0gJCgnPGRpdiBpZD0iaHRtbF81NjI5YTU3MWU1Nzk0Nzk5YTJjMzliOGFmZGU1ZDAxYiIgc3R5bGU9IndpZHRoOiAxMDAuMCU7IGhlaWdodDogMTAwLjAlOyI+SHVtbXVzIEtpdGNoZW4gMSwgNy41PC9kaXY+JylbMF07CiAgICAgICAgICAgICAgICBwb3B1cF81NjI0NGM2NGQxOGE0ODNiODE2ZjRkODJhMDMzMTJjYi5zZXRDb250ZW50KGh0bWxfNTYyOWE1NzFlNTc5NDc5OWEyYzM5YjhhZmRlNWQwMWIpOwogICAgICAgICAgICAKCiAgICAgICAgICAgIGNpcmNsZV9tYXJrZXJfYzk4MWNmMmJmNjYyNDUyOTg1NzMzZDkzZDMzNjY3NGIuYmluZFBvcHVwKHBvcHVwXzU2MjQ0YzY0ZDE4YTQ4M2I4MTZmNGQ4MmEwMzMxMmNiKTsKCiAgICAgICAgICAgIAogICAgICAgIAo8L3NjcmlwdD4=\" style=\"position:absolute;width:100%;height:100%;left:0;top:0;border:none !important;\" allowfullscreen webkitallowfullscreen mozallowfullscreen></iframe></div></div>"
      ],
      "text/plain": [
       "<folium.folium.Map at 0x141973699e8>"
      ]
     },
     "execution_count": 193,
     "metadata": {},
     "output_type": "execute_result"
    }
   ],
   "source": [
    "latitude=40.7128\n",
    "longitude=-74.0060\n",
    "map_newyork = folium.Map(location=[latitude, longitude], zoom_start=11)\n",
    "# add markers to map\n",
    "for lat, lng, name, rating in zip(israeli_venues['Latitude'], israeli_venues['Longitude'], israeli_venues['Name'], israeli_venues['Rating']):\n",
    "    label = '{}, {}'.format(name, rating)\n",
    "    label = folium.Popup(label, parse_html=True)\n",
    "    folium.CircleMarker(\n",
    "        [lat, lng],\n",
    "        radius=5,\n",
    "        popup=label,\n",
    "        color=get_color(rating),\n",
    "        fill=True,\n",
    "        fill_color=get_color(rating),\n",
    "        fill_opacity=0.7,\n",
    "        parse_html=False).add_to(map_newyork)  \n",
    "map_newyork"
   ]
  },
  {
   "cell_type": "code",
   "execution_count": null,
   "metadata": {},
   "outputs": [],
   "source": []
  }
 ],
 "metadata": {
  "kernelspec": {
   "display_name": "Python 3",
   "language": "python",
   "name": "python3"
  },
  "language_info": {
   "codemirror_mode": {
    "name": "ipython",
    "version": 3
   },
   "file_extension": ".py",
   "mimetype": "text/x-python",
   "name": "python",
   "nbconvert_exporter": "python",
   "pygments_lexer": "ipython3",
   "version": "3.7.3"
  }
 },
 "nbformat": 4,
 "nbformat_minor": 2
}
